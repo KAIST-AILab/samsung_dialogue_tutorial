{
 "metadata": {
  "language_info": {
   "codemirror_mode": {
    "name": "ipython",
    "version": 3
   },
   "file_extension": ".py",
   "mimetype": "text/x-python",
   "name": "python",
   "nbconvert_exporter": "python",
   "pygments_lexer": "ipython3",
   "version": "3.7.7-final"
  },
  "orig_nbformat": 2,
  "kernelspec": {
   "name": "python_defaultSpec_1596119421867",
   "display_name": "Python 3.7.7 64-bit ('0813_dialogue_system': conda)"
  }
 },
 "nbformat": 4,
 "nbformat_minor": 2,
 "cells": [
  {
   "cell_type": "markdown",
   "metadata": {},
   "source": [
    "# 대화시스템 실습 1 : TRADE DST 모듈\n",
    "\n"
   ]
  },
  {
   "cell_type": "code",
   "execution_count": null,
   "metadata": {},
   "outputs": [],
   "source": [
    "from tqdm import tqdm\n",
    "import torch.nn as nn\n",
    "\n",
    "from convlab2.dst.trade.multiwoz.utils.config import *\n",
    "from src.TRADE import *\n",
    "# from src import TRADE\n",
    "\n",
    "import numpy as np\n",
    "import shutil, zipfile\n",
    "from convlab2.util.file_util import cached_path"
   ]
  },
  {
   "cell_type": "code",
   "execution_count": null,
   "metadata": {
    "tags": []
   },
   "outputs": [],
   "source": [
    "from src.utils_multiWOZ_DST import *\n",
    "\n",
    "def download_data(data_url=\"https://convlab.blob.core.windows.net/convlab-2/trade_multiwoz_data.zip\"):\n",
    "    \"\"\"Automatically download the pretrained model and necessary data.\"\"\"\n",
    "    multiwoz_root = os.path.abspath(os.path.curdir)\n",
    "    if os.path.exists(os.path.join(multiwoz_root, 'data/multi-woz')) and \\\n",
    "            os.path.exists(os.path.join(multiwoz_root, 'data/dev_dials.json')):\n",
    "        return\n",
    "    data_dir = os.path.join(multiwoz_root, 'data')\n",
    "    if not os.path.exists(data_dir):\n",
    "        os.mkdir(data_dir)\n",
    "    zip_file_path = os.path.join(data_dir, 'trade_multiwoz_data.zip')\n",
    "    if not os.path.exists(os.path.join(data_dir, 'trade_multiwoz_data.zip')):\n",
    "        print('downloading multiwoz TRADE data files...')\n",
    "        cached_path(data_url, data_dir)\n",
    "        files = os.listdir(data_dir)\n",
    "        target_file = ''\n",
    "        for name in files:\n",
    "            if name.endswith('.json'):\n",
    "                target_file = name[:-5]\n",
    "        try:\n",
    "            assert target_file in files\n",
    "        except Exception as e:\n",
    "            print('allennlp download file error: TRADE Cross model download failed.')\n",
    "            raise e\n",
    "        shutil.copyfile(os.path.join(data_dir, target_file), zip_file_path)\n",
    "    with zipfile.ZipFile(zip_file_path, 'r') as zip_ref:\n",
    "        print('unzipping data file ...')\n",
    "        zip_ref.extractall(data_dir)\n"
   ]
  },
  {
   "cell_type": "code",
   "execution_count": null,
   "metadata": {
    "tags": []
   },
   "outputs": [],
   "source": [
    "download_data()"
   ]
  },
  {
   "cell_type": "code",
   "execution_count": null,
   "metadata": {},
   "outputs": [],
   "source": [
    "# Model Configuration\n",
    "early_stop = None\n",
    "path = None\n",
    "dataset = 'multiwoz'\n",
    "decoder = 'TRADE'\n",
    "hidden_size = 400\n",
    "batch_size = 32\n",
    "dropout_rate = 0.2\n",
    "learning_rate = 0.001\n",
    "load_embedding = 1\n",
    "eval_period = 1\n",
    "gradient_clip = 10\n",
    "patience = 6\n",
    "task = \"dst\""
   ]
  },
  {
   "cell_type": "code",
   "execution_count": null,
   "metadata": {
    "tags": []
   },
   "outputs": [],
   "source": [
    "avg_best, cnt, acc = 0.0, 0, 0.0\n",
    "train, dev, test, test_special, lang, SLOTS_LIST, gating_dict, max_word = \\\n",
    "    prepare_data_seq(training=True, task=task, sequicity=False, batch_size=batch_size)"
   ]
  },
  {
   "cell_type": "code",
   "execution_count": null,
   "metadata": {},
   "outputs": [],
   "source": [
    "model = TRADE(\n",
    "    hidden_size=hidden_size,\n",
    "    lang=lang,\n",
    "    path=path,\n",
    "    task=task,\n",
    "    lr=learning_rate,\n",
    "    dropout=dropout_rate,\n",
    "    slots=SLOTS_LIST,\n",
    "    gating_dict=gating_dict,\n",
    "    nb_train_vocab=max_word)"
   ]
  },
  {
   "cell_type": "code",
   "execution_count": null,
   "metadata": {
    "tags": []
   },
   "outputs": [],
   "source": [
    "# Model Learning\n",
    "for epoch in range(200):\n",
    "    print(\"Epoch:{}\".format(epoch))\n",
    "    # Run the train function\n",
    "    pbar = tqdm(enumerate(train), total=len(train))\n",
    "    for i, data in pbar:\n",
    "        model.train_batch(data, int(gradient_clip), SLOTS_LIST[1], reset=(i == 0))\n",
    "        model.optimize(gradient_clip)\n",
    "        pbar.set_description(model.print_loss())\n",
    "        \n",
    "    if ((epoch + 1) % int(eval_period) == 0):\n",
    "\n",
    "        acc = model.evaluate(dev, avg_best, SLOTS_LIST[2], early_stop)\n",
    "        model.scheduler.step(acc)\n",
    "\n",
    "        if (acc >= avg_best):\n",
    "            avg_best = acc\n",
    "            cnt = 0\n",
    "            best_model = model\n",
    "        else:\n",
    "            cnt += 1\n",
    "\n",
    "        if (cnt == patience or (acc == 1.0 and early_stop == None)):\n",
    "            print(\"Ran out of patient, early stop...\")\n",
    "            break "
   ]
  },
  {
   "cell_type": "code",
   "execution_count": null,
   "metadata": {
    "tags": []
   },
   "outputs": [],
   "source": [
    "# Dowload Pre-trained Model and Demo\n",
    "from convlab2.dst.trade.multiwoz.trade import *\n",
    "demo_model = MultiWOZTRADE()"
   ]
  },
  {
   "cell_type": "code",
   "execution_count": null,
   "metadata": {
    "tags": []
   },
   "outputs": [],
   "source": [
    "user_input = 'i need to book a hotel in the east that has 4 stars .'\n",
    "demo_model.state['history'] = [['user', user_input]]\n",
    "state = demo_model.update(user_input)\n",
    "print(state)"
   ]
  },
  {
   "cell_type": "code",
   "execution_count": null,
   "metadata": {
    "tags": []
   },
   "outputs": [],
   "source": [
    "print(\"=== state.keys() ===\")\n",
    "print(list(state.keys()))\n",
    "\n",
    "print(\"\\n=== state['request_state'] ===\")\n",
    "print(state['request_state'])\n",
    "\n",
    "print(\"\\n=== state['belief_state'] ===\")\n",
    "for k in state['belief_state'].keys():\n",
    "    print(\"%-20s\"%k, state['belief_state'][k])"
   ]
  },
  {
   "cell_type": "code",
   "execution_count": null,
   "metadata": {
    "tags": []
   },
   "outputs": [],
   "source": [
    "# Model Evaluation\n",
    "demo_model.evaluate()"
   ]
  }
 ]
}