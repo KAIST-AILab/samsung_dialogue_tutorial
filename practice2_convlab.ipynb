{
  "nbformat": 4,
  "nbformat_minor": 0,
  "metadata": {
    "colab": {
      "name": "Tutorial",
      "provenance": [],
      "collapsed_sections": [],
      "toc_visible": true
    },
    "kernelspec": {
      "name": "python3",
      "display_name": "Python 3"
    }
  },
  "cells": [
    {
      "cell_type": "markdown",
      "metadata": {},
      "source": [
        "# Practice 2. ConvLab을 이용한 Pipelined 대화 시스템 구축\n",
        "\n",
        "# 목차\n",
        "\n",
        "## Step 1. MultiWOZ 데이터셋을 살펴보자\n",
        "\n",
        "## Step 2. ConvLab을 활용해 Pipelined 대화 시스템을 구축하자\n",
        "\n",
        "## Step 3. 모델 별 성능을 평가하자"
      ]
    },
    {
      "cell_type": "markdown",
      "metadata": {},
      "source": [
        "# Step 1. MultiWOZ 데이터셋을 살펴보자\n",
        "\n",
        "## Step 1.0 필요한 module들을 정의합니다\n",
        "\n",
        "아래 코드를 도와주는 module들 이며, 필요시 수정할 수 있습니다."
      ]
    },
    {
      "cell_type": "code",
      "execution_count": 1,
      "metadata": {},
      "outputs": [],
      "source": [
        "import json\n",
        "import os\n",
        "import zipfile\n",
        "import sys\n",
        "from collections import Counter\n",
        "from nltk.tokenize import word_tokenize\n",
        "\n",
        "from textwrap import indent\n",
        "from pprint import pformat\n",
        "from pprint import pprint\n",
        "\n",
        "def read_zipped_json(filepath, filename):\n",
        "    archive = zipfile.ZipFile(filepath, 'r')\n",
        "    return json.load(archive.open(filename))\n",
        "\n",
        "\n",
        "def pprint_manual(user_manual, name):\n",
        "    \"\"\"print user manual\n",
        "        argument 'name' is needed to discriminate 'WOZ' from others\n",
        "    \"\"\"\n",
        "    print('    User manual (message) : ')\n",
        "    if 'WOZ' in name:\n",
        "        print(\" \"*8, user_manual)\n",
        "    else:\n",
        "        for manual_one in user_manual:\n",
        "            print(\" \"*8, manual_one)\n",
        "\n",
        "\n",
        "def pprint_goal(goal, name):\n",
        "    \"\"\"print user's goal\n",
        "        argument 'name' is needed to discriminate \"WOZ\" from others.\n",
        "    \"\"\"\n",
        "    if 'WOZ' in name:\n",
        "        pass\n",
        "    else:\n",
        "        for i, mes in enumerate(goal['message']):\n",
        "            mes = mes.replace('<span class=\\'emphasis\\'>', '')\n",
        "            mes = mes.replace('</span>', '')\n",
        "            goal['message'][i] = mes\n",
        "\n",
        "    print(\"[Goals]\")\n",
        "    user_manual = None\n",
        "    for key, value in goal.items():\n",
        "        if not value:           # empty\n",
        "            continue\n",
        "        elif key == 'message':  # user manual\n",
        "            user_manual = value\n",
        "        else:                   # valid domain\n",
        "            domain = key        \n",
        "            print(indent(pformat({domain : value}), ' '*4))\n",
        "    pprint_manual(user_manual, name)\n",
        "    \n",
        "\n",
        "def get_valid_domains(goal):\n",
        "    \"\"\"return valid domains for pretty print\"\"\"\n",
        "    domains = []\n",
        "    for key, value in goal.items():\n",
        "        if not value:           # empty\n",
        "            continue\n",
        "        elif key == 'message':  # user manual\n",
        "            continue\n",
        "        else:                   # valid domain\n",
        "            domains.append(key)\n",
        "    return domains\n",
        "\n",
        "\n",
        "def pprint_turns(log, domains):\n",
        "    \"\"\"pretty print for dialogue turns\"\"\"\n",
        "    \n",
        "    # signal for stopping print\n",
        "    signal = None\n",
        "    \n",
        "    for i, log_one in enumerate(log):\n",
        "        \n",
        "        # dummy input function for pausing\n",
        "        print('-' * 20 + '1. Enter to keep going 2. Type \\'stop\\' and Enter to stop printing ' + '-' * 40)\n",
        "        signal = input()\n",
        "        if 'stop' in signal:\n",
        "            break\n",
        "\n",
        "        # check whether system turn or not\n",
        "        bool_sys_turn = False\n",
        "        if log_one['metadata']:\n",
        "            bool_sys_turn = True\n",
        "\n",
        "        # delete span_info\n",
        "        if 'span_info' in log_one:\n",
        "            del log_one['span_info']\n",
        "\n",
        "        # delete unnecessary domains\n",
        "        domain_pairs = log_one['metadata']\n",
        "        del_domains = []\n",
        "        for dom, _ in domain_pairs.items():\n",
        "            if not dom in domains:\n",
        "                del_domains.append(dom)\n",
        "        for dom in del_domains:\n",
        "            del domain_pairs[dom]\n",
        "    \n",
        "        # pretty print\n",
        "        if bool_sys_turn: print(\"[SYS]\", end=\" \")\n",
        "        else:             print(\"[USR]\", end=\" \")\n",
        "        print(\"(turn {})\".format(i))\n",
        "\n",
        "        log_one['1. dialogue_state'] = log_one['metadata']\n",
        "        log_one['2. dialogue_act'] = log_one['dialog_act']\n",
        "        log_one['3. text'] = log_one['text']\n",
        "        del log_one['metadata']\n",
        "        del log_one['dialog_act']\n",
        "        del log_one['text']\n",
        "        print(indent(pformat(log_one, width=100), ' ' * 4))\n",
        "    \n",
        "    # transform signal to boolean\n",
        "    if 'stop' in signal:\n",
        "        signal = True\n",
        "    else: \n",
        "        signal = False\n",
        "    return signal"
      ]
    },
    {
      "cell_type": "markdown",
      "metadata": {},
      "source": [
        "### Step 1.1 MultiWOZ 데이터셋을 불러옵니다.\n",
        "\n",
        "MultiWOZ 데이터셋은 7개의 domain ('hotel', 'train', 'attraction', 'restaurant' 'taxi', 'policy', 'hospital') 으로 구성되어 있으며, 여행정보를 얻고자 하는 'user' 와 이를 도와주는 'system'이 나누는 대화에 대한 데이터 셋입니다.\n",
        "약 10,000개의 대화 뭉치로 구성되어 있으며, train, validation, test용으로 구분되어 있습니다.\n",
        "\n",
        "아래 코드를 실행하면, MultiWOZ 데이터 셋 내 train용 데이터 이름 100개가 출력 됩니다."
      ]
    },
    {
      "cell_type": "code",
      "execution_count": 2,
      "metadata": {
        "tags": []
      },
      "outputs": [
        {
          "output_type": "stream",
          "name": "stdout",
          "text": "current directory : /ext/samsung_dialogue_0805/samsung_dialogue_tutorial\nload ConvLab-2/data/multiwoz/train.json...! \nnumber of dialogues : 8434\nload ConvLab-2/data/multiwoz/val.json...! \nnumber of dialogues : 999\nload ConvLab-2/data/multiwoz/test.json...! \nnumber of dialogues : 1000\n\n['SNG01856', 'SNG0129', 'MUL2168', 'SNG01445', 'MUL2105', 'PMUL1690', 'MUL2395', 'SNG0190', 'PMUL1170', 'SNG01741', 'PMUL4899', 'MUL2261', 'SSNG0348', 'MUL0784', 'MUL0886', 'PMUL2512', 'SNG0548', 'MUL1474', 'PMUL4372', 'PMUL4047', 'PMUL0151', 'MUL0586', 'PMUL3552', 'PMUL1539', 'MUL1790', 'PMUL3021', 'SNG0699', 'SNG0228', 'PMUL3296', 'MUL1434', 'PMUL2203', 'PMUL3250', 'PMUL0510', 'MUL1124', 'PMUL3719', 'SNG0297', 'PMUL2049', 'SNG01722', 'PMUL2100', 'MUL1853', 'MUL2694', 'SNG1006', 'SNG1345', 'MUL1299', 'MUL1490', 'PMUL2749', 'MUL1628', 'PMUL2202', 'SNG01450', 'SNG0131', 'SNG0984', 'PMUL1419', 'SNG0798', 'MUL0161', 'PMUL2803', 'MUL0925', 'MUL1005', 'SNG0104', 'SNG1197', 'MUL1265', 'WOZ20259', 'MUL1223', 'PMUL2596', 'MUL2037', 'MUL1497', 'MUL2256', 'MUL0076', 'WOZ20114', 'MUL1100', 'PMUL4469', 'PMUL0263', 'PMUL3597', 'PMUL1454', 'MUL1618', 'PMUL3342', 'PMUL0906', 'PMUL0695', 'PMUL0307', 'PMUL3045', 'MUL1113', 'SNG0385', 'SNG0285', 'SNG1134', 'PMUL2082', 'PMUL3031', 'PMUL1499', 'SNG1097', 'PMUL0608', 'PMUL4191', 'MUL0265', 'PMUL0433', 'WOZ20214', 'MUL1567', 'WOZ20593', 'PMUL4487', 'MUL2535', 'PMUL0552', 'PMUL0621', 'PMUL1229', 'PMUL1169']\n"
        }
      ],
      "source": [
        "cur_dir = os.path.abspath(os.curdir)\n",
        "print(\"current directory :\", cur_dir)\n",
        "data_dir = \"ConvLab-2/data/multiwoz\"\n",
        "processed_data_dir = os.path.join(cur_dir, 'multiwoz_data/all_data')\n",
        "if not os.path.exists(processed_data_dir):\n",
        "    os.makedirs(processed_data_dir)\n",
        "\n",
        "data_key = ['train', 'val', 'test']\n",
        "data = {}\n",
        "for key in data_key:\n",
        "    data[key] = read_zipped_json(os.path.join(data_dir, key + '.json.zip'), key + '.json')\n",
        "    print('load {}.json...! '.format(os.path.join(data_dir, key)))\n",
        "    print('number of dialogues : {}'.format(len(data[key])))\n",
        "print()\n",
        "\n",
        "# print available dialogue name until 100\n",
        "print(list(data['train'].keys())[:100])\n"
      ]
    },
    {
      "cell_type": "markdown",
      "metadata": {},
      "source": [
        "### Step 1.2 데이터가 어떻게 생겼는지 살펴봅시다.\n",
        "\n",
        "위의 출력된 데이터 이름들 중 몇개를 파이썬 리스트 안에 삽입하여 dialogue 를 확인할 수 있습니다. (ex. names = \\['SNG0943', 'MUL1801'] ))\n",
        "\n",
        "한 dialogue는 크게\n",
        "\n",
        "1. user의 goal, (코드 상에서 'goal'))\n",
        "\n",
        "2. system과 user의 대화, (코드 상에서 'dialogue_turns'))\n",
        "\n",
        "로 구분 됩니다.\n",
        "\n",
        "user (\\[USR]])는 정의된 goal 및 manual을 읽고, 해당 goal을 달성하기 위해 대화를 수행합니다.\n",
        "\n",
        "system (\\[SYS])은 user의 goal을 알지 못하고, 대화를 통해 (1)user가 원하는 조건을 파악하고, (2)user가 원하는 정보를 제공하며, (3)필요시 예약을 수행합니다.\n",
        "\n",
        "따라서, 본 데이터셋의 경우 __system model을 만드는 것__을 목표로 합니다.\n",
        "\n",
        "***\n",
        "\n",
        "아래 코드를 실행하면 goal 및 발화를 살펴볼 수 있으며, Enter로 넘길 수 있습니다. \n",
        "\n",
        "그만 보고 싶다면 stop을 입력 후 Enter 합니다.\n"
      ]
    },
    {
      "cell_type": "code",
      "execution_count": 3,
      "metadata": {
        "tags": []
      },
      "outputs": [
        {
          "output_type": "stream",
          "name": "stdout",
          "text": "\n-----------------------------------------------------------------------------------------------------------------------------\n[Dialogue name] 'SNG0943'\n[Goals]\n    {'hotel': {'fail_info': {},\n               'info': {'internet': 'yes',\n                        'parking': 'yes',\n                        'stars': '4',\n                        'type': 'guesthouse'},\n               'reqt': ['address', 'pricerange']}}\n    User manual (message) : \n         You are looking for a place to stay. The hotel should have a star of 4 and should include free parking\n         The hotel should be in the type of guesthouse and should include free wifi\n         Make sure you get address and price range\n--------------------1. Enter to keep going 2. Type 'stop' and Enter to stop printing ----------------------------------------\n[USR] (turn 0)\n    {'1. dialogue_state': {},\n     '2. dialogue_act': {'Hotel-Inform': [['Parking', 'yes'], ['Stars', '4']]},\n     '3. text': \"Howdy ! I 'm in town for the night and need a place to stay . I 'd like a four star \"\n                'joint with free parking , if you please .'}\n--------------------1. Enter to keep going 2. Type 'stop' and Enter to stop printing ----------------------------------------\n[SYS] (turn 1)\n    {'1. dialogue_state': {'hotel': {'book': {'booked': [], 'day': '', 'people': '', 'stay': ''},\n                                     'semi': {'area': 'not mentioned',\n                                              'internet': 'not mentioned',\n                                              'name': 'not mentioned',\n                                              'parking': 'yes',\n                                              'pricerange': 'not mentioned',\n                                              'stars': '4',\n                                              'type': 'not mentioned'}}},\n     '2. dialogue_act': {'Hotel-Inform': [['Choice', '5'], ['Type', 'hotels']],\n                         'Hotel-Request': [['Price', '?']]},\n     '3. text': 'Nice ! I hope you enjoy this beautiful city , I found 5 hotels for you . What is your '\n                'price range ?'}\n--------------------1. Enter to keep going 2. Type 'stop' and Enter to stop printing ----------------------------------------\n[USR] (turn 2)\n    {'1. dialogue_state': {},\n     '2. dialogue_act': {'Hotel-Request': [['Price', '?']]},\n     '3. text': \"I do n't have a price range . As long as it 's nice .\"}\n--------------------1. Enter to keep going 2. Type 'stop' and Enter to stop printing ----------------------------------------\n[SYS] (turn 3)\n    {'1. dialogue_state': {'hotel': {'book': {'booked': [], 'day': '', 'people': '', 'stay': ''},\n                                     'semi': {'area': 'not mentioned',\n                                              'internet': 'not mentioned',\n                                              'name': 'not mentioned',\n                                              'parking': 'yes',\n                                              'pricerange': 'not mentioned',\n                                              'stars': '4',\n                                              'type': 'not mentioned'}}},\n     '2. dialogue_act': {'Hotel-Request': [['Area', '?']]},\n     '3. text': \"Is there a particular area of the city where you 'd like to stay ?\"}\n--------------------1. Enter to keep going 2. Type 'stop' and Enter to stop printing ----------------------------------------\n[USR] (turn 4)\n    {'1. dialogue_state': {},\n     '2. dialogue_act': {'Hotel-Inform': [['Type', 'guesthouse'], ['Area', 'dontcare']]},\n     '3. text': \"No , I do n't care about the area , either . But do you have a guesthouse ?\"}\n--------------------1. Enter to keep going 2. Type 'stop' and Enter to stop printing ----------------------------------------\n[SYS] (turn 5)\n    {'1. dialogue_state': {'hotel': {'book': {'booked': [], 'day': '', 'people': '', 'stay': ''},\n                                     'semi': {'area': 'dontcare',\n                                              'internet': 'not mentioned',\n                                              'name': 'not mentioned',\n                                              'parking': 'yes',\n                                              'pricerange': 'dontcare',\n                                              'stars': '4',\n                                              'type': 'guesthouse'}}},\n     '2. dialogue_act': {'Hotel-Inform': [['Stars', '4'], ['Choice', '16'], ['Type', 'guesthouses']]},\n     '3. text': 'I have 16 guesthouses that are 4 star and have parking , do you have any other '\n                'requirements to help narrow the search ?'}\n--------------------1. Enter to keep going 2. Type 'stop' and Enter to stop printing ----------------------------------------\n[USR] (turn 6)\n    {'1. dialogue_state': {},\n     '2. dialogue_act': {'Hotel-Inform': [['Internet', 'yes']]},\n     '3. text': 'Do any of those have free wifi ?'}\n--------------------1. Enter to keep going 2. Type 'stop' and Enter to stop printing ----------------------------------------\n[SYS] (turn 7)\n    {'1. dialogue_state': {'hotel': {'book': {'booked': [], 'day': '', 'people': '', 'stay': ''},\n                                     'semi': {'area': 'dontcare',\n                                              'internet': 'yes',\n                                              'name': 'not mentioned',\n                                              'parking': 'yes',\n                                              'pricerange': 'dontcare',\n                                              'stars': '4',\n                                              'type': 'guesthouse'}}},\n     '2. dialogue_act': {'Hotel-Inform': [['Internet', 'none'], ['Choice', 'number']],\n                         'Hotel-Recommend': [['Name', 'Archway House']]},\n     '3. text': 'Yes . There are a number of hotels with wifi .   Archway House is one of them that I '\n                'can recommend .'}\n--------------------1. Enter to keep going 2. Type 'stop' and Enter to stop printing ----------------------------------------\n[USR] (turn 8)\n    {'1. dialogue_state': {},\n     '2. dialogue_act': {'Hotel-Request': [['Price', '?'], ['Addr', '?']]},\n     '3. text': 'Sure , what is its address and price range ?'}\n--------------------1. Enter to keep going 2. Type 'stop' and Enter to stop printing ----------------------------------------\n[SYS] (turn 9)\n    {'1. dialogue_state': {'hotel': {'book': {'booked': [], 'day': '', 'people': '', 'stay': ''},\n                                     'semi': {'area': 'dontcare',\n                                              'internet': 'yes',\n                                              'name': 'not mentioned',\n                                              'parking': 'yes',\n                                              'pricerange': 'dontcare',\n                                              'stars': '4',\n                                              'type': 'guesthouse'}}},\n     '2. dialogue_act': {'Hotel-Inform': [['Name', 'Archway house'],\n                                          ['Addr', '52 gilbert road'],\n                                          ['Price', 'moderate']],\n                         'general-reqmore': [['none', 'none']]},\n     '3. text': 'Archway house is in the moderate price range . They are located at : 52 gilbert road '\n                '. Anythign else you need ?'}\n--------------------1. Enter to keep going 2. Type 'stop' and Enter to stop printing ----------------------------------------\n[USR] (turn 10)\n    {'1. dialogue_state': {},\n     '2. dialogue_act': {'Hotel-Request': [['Price', '?']]},\n     '3. text': 'What is the price range ?'}\n--------------------1. Enter to keep going 2. Type 'stop' and Enter to stop printing ----------------------------------------\n[SYS] (turn 11)\n    {'1. dialogue_state': {'hotel': {'book': {'booked': [], 'day': '', 'people': '', 'stay': ''},\n                                     'semi': {'area': 'dontcare',\n                                              'internet': 'yes',\n                                              'name': 'not mentioned',\n                                              'parking': 'yes',\n                                              'pricerange': 'dontcare',\n                                              'stars': '4',\n                                              'type': 'guesthouse'}}},\n     '2. dialogue_act': {'Booking-Inform': [['none', 'none']],\n                         'Hotel-Inform': [['Price', 'moderately']]},\n     '3. text': \"I 'm sorry , I only know that it is moderately priced .   Can I book a room for you ?\"}\n--------------------1. Enter to keep going 2. Type 'stop' and Enter to stop printing ----------------------------------------\n"
        }
      ],
      "source": [
        "\n",
        "# You can handle dialogue_names\n",
        "dialogue_names = ['SNG0943', 'MUL1801']\n",
        "\n",
        "for name in dialogue_names:\n",
        "    \n",
        "    print()\n",
        "    print('-' * 125)\n",
        "    print(\"[Dialogue name] \\'{}\\'\".format(name))\n",
        "\n",
        "    # access datum using name\n",
        "    datum = data['train'][name]\n",
        "    goal = datum['goal']\n",
        "    dialogue_turns = datum['log']\n",
        "\n",
        "    # print goal and dialogue turns\n",
        "    pprint_goal(goal, name)\n",
        "    valid_domains = get_valid_domains(goal)\n",
        "    break_signal = pprint_turns(dialogue_turns, valid_domains)\n",
        "\n",
        "    if break_signal:\n",
        "        break"
      ]
    },
    {
      "cell_type": "markdown",
      "metadata": {},
      "source": [
        "# Step 2. ConvLab을 활용해 Pipelined 대화 시스템을 구축하자\n",
        "\n",
        "## Step 2.0 필요한 module들을 정의합니다\n",
        "\n",
        "아래 코드를 도와주는 module들 이며, 필요시 수정할 수 있습니다."
      ]
    },
    {
      "cell_type": "code",
      "metadata": {
        "id": "OqzFlmCBCXEV",
        "colab_type": "code",
        "colab": {},
        "tags": []
      },
      "source": [
        "# common import: convlab2.$module.$model.$dataset\n",
        "from convlab2.nlu.jointBERT.multiwoz import BERTNLU\n",
        "from convlab2.nlu.milu.multiwoz import MILU\n",
        "from convlab2.dst.rule.multiwoz import RuleDST\n",
        "from convlab2.policy.rule.multiwoz import RulePolicy\n",
        "from convlab2.nlg.template.multiwoz import TemplateNLG\n",
        "from convlab2.dialog_agent import BiSession, Agent # , # PipelineAgent\n",
        "from convlab2.evaluator.multiwoz_eval import MultiWozEvaluator\n",
        "from pprint import pprint\n",
        "import random\n",
        "import numpy as np\n",
        "import torch\n",
        "import spacy\n",
        "\n",
        "import logging \n",
        "# uncessary logging block\n",
        "mpl_logger = logging.getLogger('matplotlib') \n",
        "mpl_logger.setLevel(logging.WARNING) \n",
        "cntp_logger = logging.getLogger('urllib3.connectionpool')\n",
        "cntp_logger.setLevel(logging.WARNING)\n",
        "ttu_logger = logging.getLogger('transformers.tokenization_utils')\n",
        "ttu_logger.setLevel(logging.WARNING)\n",
        "tcu_logger = logging.getLogger('transformers.configuration_utils')\n",
        "tcu_logger.setLevel(logging.WARNING)\n",
        "tmu_logger = logging.getLogger('transformers.modeling_utils')\n",
        "tmu_logger.setLevel(logging.WARNING)\n",
        "logging.getLogger().setLevel(logging.INFO)\n",
        "import warnings\n",
        "warnings.filterwarnings(\"ignore\")\n",
        "\n",
        "spacy.cli.download('en_core_web_sm')\n",
        "spacy.load('en_core_web_sm')\n",
        "\n",
        "from convlab2.nlu import NLU\n",
        "from convlab2.dst import DST\n",
        "from convlab2.policy import Policy\n",
        "from convlab2.nlg import NLG\n",
        "from copy import deepcopy\n",
        "\n",
        "class PipelineAgent(Agent):\n",
        "    \"\"\"Pipeline dialog agent base class, including NLU, DST, Policy and NLG.\n",
        "\n",
        "    The combination modes of pipeline agent modules are flexible. The only thing you have to make sure is that\n",
        "    the API of agents are matched.\n",
        "\n",
        "    Example:\n",
        "        If agent A is (nlu, tracker, policy), then the agent B should be like (tracker, policy, nlg) to ensure API\n",
        "        matching.\n",
        "    The valid module combinations are as follows:\n",
        "           =====   =====    ======  ===     ==      ===\n",
        "            NLU     DST     Policy  NLG     In      Out\n",
        "           =====   =====    ======  ===     ==      ===\n",
        "            \\+      \\+        \\+    \\+      nl      nl\n",
        "             o      \\+        \\+    \\+      da      nl\n",
        "             o      \\+        \\+     o      da      da\n",
        "            \\+      \\+        \\+     o      nl      da\n",
        "             o       o        \\+     o      da      da\n",
        "           =====   =====    ======  ===     ==      ===\n",
        "    \"\"\"\n",
        "\n",
        "    def __init__(self, nlu: NLU, dst: DST, policy: Policy, nlg: NLG, name: str):\n",
        "        \"\"\"The constructor of PipelineAgent class.\n",
        "\n",
        "        Here are some special combination cases:\n",
        "\n",
        "            1. If you use word-level DST (such as Neural Belief Tracker), you should set the nlu_model paramater \\\n",
        "             to None. The agent will combine the modules automitically.\n",
        "\n",
        "            2. If you want to aggregate DST and Policy as a single module, set tracker to None.\n",
        "\n",
        "        Args:\n",
        "            nlu (NLU):\n",
        "                The natural langauge understanding module of agent.\n",
        "\n",
        "            dst (DST):\n",
        "                The dialog state tracker of agent.\n",
        "\n",
        "            policy (Policy):\n",
        "                The dialog policy module of agent.\n",
        "\n",
        "            nlg (NLG):\n",
        "                The natural langauge generator module of agent.\n",
        "        \"\"\"\n",
        "        super(PipelineAgent, self).__init__(name=name)\n",
        "        assert self.name in ['user', 'sys']\n",
        "        self.opponent_name = 'user' if self.name is 'sys' else 'sys'\n",
        "        self.nlu = nlu\n",
        "        self.dst = dst\n",
        "        self.policy = policy\n",
        "        self.nlg = nlg\n",
        "        self.init_session()\n",
        "        self.history = []\n",
        "\n",
        "        self.print_nlu = False\n",
        "        self.print_dst = False\n",
        "        self.print_pol = False\n",
        "\n",
        "    def response(self, observation, print_nlu=False, print_dst=False, print_pol=False):\n",
        "        \"\"\"Generate agent response using the agent modules.\"\"\"\n",
        "        # Note: If you modify the logic of this function, please ensure that it is consistent with deploy.server.ServerCtrl._turn()\n",
        "\n",
        "        self.print_nlu = print_nlu\n",
        "        self.print_dst = print_dst\n",
        "        self.print_pol = print_pol\n",
        "\n",
        "        if self.dst is not None:\n",
        "            self.dst.state['history'].append([self.opponent_name, observation]) # [['sys', sys_utt], ['user', user_utt],...]\n",
        "        self.history.append([self.opponent_name, observation])\n",
        "        # get dialog act\n",
        "        if self.nlu is not None:\n",
        "            self.input_action = self.nlu.predict(observation, context=[x[1] for x in self.history[:-1]])\n",
        "        else:\n",
        "            self.input_action = observation\n",
        "        self.input_action = deepcopy(self.input_action) # get rid of reference problem\n",
        "        if self.print_nlu:\n",
        "            print(\"nlu predict\")\n",
        "            pprint(self.input_action)\n",
        "        # get state\n",
        "        if self.dst is not None:\n",
        "            if self.name is 'sys':\n",
        "                self.dst.state['user_action'] = self.input_action\n",
        "            else:\n",
        "                self.dst.state['system_action'] = self.input_action\n",
        "            state = self.dst.update(self.input_action)\n",
        "        else:\n",
        "            state = self.input_action\n",
        "        state = deepcopy(state) # get rid of reference problem\n",
        "        if self.print_dst:\n",
        "            print(\"dialogue state predict\")\n",
        "            pprint({'dialogue state': state['belief_state'], 'history': state['history']})\n",
        "        # get action\n",
        "        self.output_action = deepcopy(self.policy.predict(state)) # get rid of reference problem\n",
        "        if self.print_pol:\n",
        "            print(\"dialogue act predict\")\n",
        "            pprint(self.output_action)\n",
        "\n",
        "        # get model response\n",
        "        if self.nlg is not None:\n",
        "            model_response = self.nlg.generate(self.output_action)\n",
        "        else:\n",
        "            model_response = self.output_action\n",
        "        # print(\"model response {}\".format(model_response))\n",
        "        if self.dst is not None:\n",
        "            self.dst.state['history'].append([self.name, model_response])\n",
        "            if self.name is 'sys':\n",
        "                self.dst.state['system_action'] = self.output_action\n",
        "            else:\n",
        "                self.dst.state['user_action'] = self.output_action\n",
        "        self.history.append([self.name, model_response])\n",
        "        return model_response\n",
        "\n",
        "    def is_terminated(self):\n",
        "        if hasattr(self.policy, 'is_terminated'):\n",
        "            return self.policy.is_terminated()\n",
        "        return None\n",
        "\n",
        "    def get_reward(self):\n",
        "        if hasattr(self.policy, 'get_reward'):\n",
        "            return self.policy.get_reward()\n",
        "        return None\n",
        "\n",
        "    def init_session(self):\n",
        "        \"\"\"Init the attributes of DST and Policy module.\"\"\"\n",
        "        if self.nlu is not None:\n",
        "            self.nlu.init_session()\n",
        "        if self.dst is not None:\n",
        "            self.dst.init_session()\n",
        "            if self.name == 'sys':\n",
        "                self.dst.state['history'].append([self.name, 'null'])\n",
        "        if self.policy is not None:\n",
        "            self.policy.init_session()\n",
        "        if self.nlg is not None:\n",
        "            self.nlg.init_session()\n",
        "        self.history = []\n",
        "\n",
        "    def get_in_da(self):\n",
        "        return self.input_action\n",
        "\n",
        "    def get_out_da(self):\n",
        "        return self.output_action\n"
      ],
      "execution_count": 4,
      "outputs": [
        {
          "output_type": "stream",
          "name": "stdout",
          "text": "\u001b[38;5;2m✔ Download and installation successful\u001b[0m\nYou can now load the model via spacy.load('en_core_web_sm')\n"
        }
      ]
    },
    {
      "cell_type": "markdown",
      "metadata": {},
      "source": [
        "## Step 2.1 pipelined 대화 시스템 예시를 살펴봅시다.\n",
        "\n",
        "우선, system model을 pipelined 대화 시스템으로 구성했을 때, 대화를 어떻게 수행할 수 있는지 살펴봅시다.\n",
        "\n",
        "pipelined 대화 모델은 크게 4가지로 구성되어 있습니다.\n",
        "\n",
        "NLU (Natural Language Understanding (언어 인식 모듈)) : 직전의 상대방 발화를 이해 및 해석 합니다.\n",
        "\n",
        "DST (Dialogue State Tracking (대화 상태 추적 모듈)) : 현재까지 대화의 맥락을 추적하고, 변경 사항을 업데이트 합니다.\n",
        "\n",
        "Dialogue Policy (대화 정책 모듈) : 다음 발화를 위해 구조화된 단어 형태로 정책을 결정 합니다. (자연스러운 문장의 형태가 아닌, 의도만을 결정합니다.)\n",
        "\n",
        "NLG (Natural Language Generation (언어 생성 모듈)) : 결정된 정책을 가지고, 사람이 이해할 수 있는 자연어를 생성합니다.\n",
        "\n",
        "-----------------\n",
        "\n",
        "아래는 가장 기본적인 Pipelined 대화 시스템을 구성한 예시입니다.\n",
        "\n",
        "BERT NLU : 앞선 practice 1에서 다룬 BERT NLU\n",
        "\n",
        "RuleDST : Rule 기반 DST module\n",
        "\n",
        "RulePolicy : Rule 기반 Policy module\n",
        "\n",
        "TemplateNLG : Template 기반 (정해진 템플릿 위에서 단어를 채워넣는 방식) NLG module\n",
        "\n",
        "4가지 모듈에 대해 정의를 끝마쳤다면, PipelineAgent라는 wrapper 에 씌워 sys_agent를 선언합니다.\n"
      ]
    },
    {
      "cell_type": "code",
      "metadata": {
        "id": "-GPQgUD6GjHv",
        "colab_type": "code",
        "colab": {},
        "tags": []
      },
      "source": [
        "# BERT nlu\n",
        "sys_nlu = BERTNLU()\n",
        "# simple rule DST\n",
        "sys_dst = RuleDST()\n",
        "# rule policy\n",
        "sys_policy = RulePolicy()\n",
        "# template NLG\n",
        "sys_nlg = TemplateNLG(is_user=False)\n",
        "# assemble\n",
        "sys_agent = PipelineAgent(sys_nlu, sys_dst, sys_policy, sys_nlg, name='sys')"
      ],
      "execution_count": 5,
      "outputs": [
        {
          "output_type": "stream",
          "name": "stdout",
          "text": "intent num: 137\ntag num: 331\nLoad from /ext/samsung_dialogue_tutorial/ConvLab-2/convlab2/nlu/jointBERT/multiwoz/output/all_context/pytorch_model.bin\nbert-base-uncased\nBERTNLU loaded\n"
        }
      ]
    },
    {
      "cell_type": "markdown",
      "metadata": {},
      "source": [
        "\n",
        "sys_agent.response(\"user의 발화\", print_nlu=False, print_dst=False, print_pol=False) 를 하면, user의 발화에 대한 응답을 합니다.\n",
        "\n",
        "print_\\$nlu, dst, pol\\$을 True로 변경하면, 해당하는 value를 print 해볼 수 있습니다."
      ]
    },
    {
      "cell_type": "code",
      "metadata": {
        "id": "9LYnDLysH1nX",
        "colab_type": "code",
        "colab": {},
        "tags": []
      },
      "source": [
        "sys_agent.init_session()\n",
        "sys_agent.response(\"I want to find a moderate hotel\", print_nlu=True, print_dst=False, print_pol=False)"
      ],
      "execution_count": 6,
      "outputs": [
        {
          "output_type": "stream",
          "name": "stdout",
          "text": "dialogue state predict\n{'dialogue state': {'attraction': {'book': {'booked': []},\n                                   'semi': {'area': '',\n                                            'name': '',\n                                            'type': ''}},\n                    'hospital': {'book': {'booked': []},\n                                 'semi': {'department': ''}},\n                    'hotel': {'book': {'booked': [],\n                                       'day': '',\n                                       'people': '',\n                                       'stay': ''},\n                              'semi': {'area': '',\n                                       'internet': '',\n                                       'name': '',\n                                       'parking': '',\n                                       'pricerange': 'moderate',\n                                       'stars': '',\n                                       'type': ''}},\n                    'police': {'book': {'booked': []}, 'semi': {}},\n                    'restaurant': {'book': {'booked': [],\n                                            'day': '',\n                                            'people': '',\n                                            'time': ''},\n                                   'semi': {'area': '',\n                                            'food': '',\n                                            'name': '',\n                                            'pricerange': ''}},\n                    'taxi': {'book': {'booked': []},\n                             'semi': {'arriveBy': '',\n                                      'departure': '',\n                                      'destination': '',\n                                      'leaveAt': ''}},\n                    'train': {'book': {'booked': [], 'people': ''},\n                              'semi': {'arriveBy': '',\n                                       'day': '',\n                                       'departure': '',\n                                       'destination': '',\n                                       'leaveAt': ''}}},\n 'history': [['sys', 'null'], ['user', 'I want to find a moderate hotel']]}\n"
        },
        {
          "output_type": "execute_result",
          "data": {
            "text/plain": "'Yes , I would suggest bridge guest house. We have 18 such places .'"
          },
          "metadata": {},
          "execution_count": 6
        }
      ]
    },
    {
      "cell_type": "code",
      "metadata": {
        "id": "dAvi-IzsH474",
        "colab_type": "code",
        "colab": {},
        "tags": []
      },
      "source": [
        "sys_agent.response(\"Which type of hotel is it ?\", print_nlu=False, print_dst=True, print_pol=False)"
      ],
      "execution_count": 7,
      "outputs": [
        {
          "output_type": "stream",
          "name": "stdout",
          "text": "dialogue state predict\n{'dialogue state': {'attraction': {'book': {'booked': []},\n                                   'semi': {'area': '',\n                                            'name': '',\n                                            'type': ''}},\n                    'hospital': {'book': {'booked': []},\n                                 'semi': {'department': ''}},\n                    'hotel': {'book': {'booked': [],\n                                       'day': '',\n                                       'people': '',\n                                       'stay': ''},\n                              'semi': {'area': '',\n                                       'internet': '',\n                                       'name': '',\n                                       'parking': '',\n                                       'pricerange': 'moderate',\n                                       'stars': '',\n                                       'type': ''}},\n                    'police': {'book': {'booked': []}, 'semi': {}},\n                    'restaurant': {'book': {'booked': [],\n                                            'day': '',\n                                            'people': '',\n                                            'time': ''},\n                                   'semi': {'area': '',\n                                            'food': '',\n                                            'name': '',\n                                            'pricerange': ''}},\n                    'taxi': {'book': {'booked': []},\n                             'semi': {'arriveBy': '',\n                                      'departure': '',\n                                      'destination': '',\n                                      'leaveAt': ''}},\n                    'train': {'book': {'booked': [], 'people': ''},\n                              'semi': {'arriveBy': '',\n                                       'day': '',\n                                       'departure': '',\n                                       'destination': '',\n                                       'leaveAt': ''}}},\n 'history': [['sys', 'null'],\n             ['user', 'I want to find a moderate hotel'],\n             ['sys',\n              'Yes , I would suggest bridge guest house. We have 18 such '\n              'places .'],\n             ['user', 'Which type of hotel is it ?']]}\n"
        },
        {
          "output_type": "execute_result",
          "data": {
            "text/plain": "'It is a guesthouse .'"
          },
          "metadata": {},
          "execution_count": 7
        }
      ]
    },
    {
      "cell_type": "code",
      "metadata": {
        "id": "f0A6Pt4tH60c",
        "colab_type": "code",
        "colab": {}
      },
      "source": [
        "sys_agent.response(\"OK , where is its address ?\")"
      ],
      "execution_count": 8,
      "outputs": [
        {
          "output_type": "execute_result",
          "data": {
            "text/plain": "'The address is 124 tenison road .'"
          },
          "metadata": {},
          "execution_count": 8
        }
      ]
    },
    {
      "cell_type": "code",
      "metadata": {
        "id": "8VH6yO6PH8Ua",
        "colab_type": "code",
        "colab": {}
      },
      "source": [
        "sys_agent.response(\"Thank you !\")"
      ],
      "execution_count": 9,
      "outputs": [
        {
          "output_type": "execute_result",
          "data": {
            "text/plain": "'You are welcome . Have a good day !.'"
          },
          "metadata": {},
          "execution_count": 9
        }
      ]
    },
    {
      "cell_type": "code",
      "metadata": {
        "id": "wto-PxgNH9gp",
        "colab_type": "code",
        "colab": {}
      },
      "source": [
        "sys_agent.response(\"Try to find me a Chinese restaurant in south area .\")"
      ],
      "execution_count": 10,
      "outputs": [
        {
          "output_type": "execute_result",
          "data": {
            "text/plain": "'I recommend the good luck chinese food takeaway. There are 3 restaurants in that area that fit that criteria .'"
          },
          "metadata": {},
          "execution_count": 10
        }
      ]
    },
    {
      "cell_type": "code",
      "metadata": {
        "id": "MJ9C1ZhbH_JY",
        "colab_type": "code",
        "colab": {}
      },
      "source": [
        "sys_agent.response(\"Which kind of food it provides ?\")"
      ],
      "execution_count": 11,
      "outputs": [
        {
          "output_type": "execute_result",
          "data": {
            "text/plain": "'They serve chinese food .'"
          },
          "metadata": {},
          "execution_count": 11
        }
      ]
    },
    {
      "cell_type": "code",
      "metadata": {
        "id": "DpaQNA_HIAmT",
        "colab_type": "code",
        "colab": {}
      },
      "source": [
        "sys_agent.response(\"Book a table for 5 , this Sunday .\")"
      ],
      "execution_count": 12,
      "outputs": [
        {
          "output_type": "execute_result",
          "data": {
            "text/plain": "'Booking was successful . Reference number is : 00000003 .'"
          },
          "metadata": {},
          "execution_count": 12
        }
      ]
    },
    {
      "cell_type": "markdown",
      "metadata": {
        "id": "n6uuuRonIHvW",
        "colab_type": "text"
      },
      "source": [
        "## Step 2.2 system agent와 대화할 user simulator를 구성해봅시다.\n",
        "\n",
        "system model의 성능을 알아보기 위해서는 user 역할을 할 수 있는 user simulator가 필요합니다. \n",
        "\n",
        "사람이 매번 user의 역할을 하여 대화를 주고 받는 것은 많은 노동력을 필요로 하기 때문입니다. \n",
        "\n",
        "특히, Dialog Policy를 RL agent로 두었을 때, 다양한 대화 시도를 위해서 user simulator 는 필수적입니다.\n",
        "\n",
        "ConvLab에서는 RulePolicy(character='usr')로 두었을 때, `Agenda` policy로 변환되며, 이는 user의 goal을 기반으로 하는 user model을 정의할 수 있습니다. \n",
        "\n",
        "또한, `Agenda` policy는 dst 모델까지 함께 포함하고 있기 때문에 `user_dst = None` 이 됩니다.\n"
      ]
    },
    {
      "cell_type": "code",
      "metadata": {
        "id": "pAMAJZSF7D5w",
        "colab_type": "code",
        "colab": {},
        "tags": []
      },
      "source": [
        "# MILU\n",
        "user_nlu = BERTNLU()\n",
        "# not use dst\n",
        "user_dst = None\n",
        "# rule policy\n",
        "user_policy = RulePolicy(character='usr')   # UserPolicyAgendaMultiWoz()\n",
        "# template NLG\n",
        "user_nlg = TemplateNLG(is_user=True)\n",
        "# user_nlg = SCLSTM(is_user=True)\n",
        "# assemble\n",
        "user_agent = PipelineAgent(user_nlu, user_dst, user_policy, user_nlg, name='user')"
      ],
      "execution_count": 24,
      "outputs": [
        {
          "output_type": "stream",
          "name": "stdout",
          "text": "intent num: 137\ntag num: 331\nLoad from /ext/samsung_dialogue_tutorial/ConvLab-2/convlab2/nlu/jointBERT/multiwoz/output/all_context/pytorch_model.bin\nbert-base-uncased\nBERTNLU loaded\nLoading goal model is done\n"
        }
      ]
    },
    {
      "cell_type": "markdown",
      "metadata": {
        "id": "Rghl-V2AJhRY",
        "colab_type": "text"
      },
      "source": [
        "## Step 2.3 user simulator 와 system model 간 대화를 수행해봅시다.\n",
        "\n",
        "지금까지, 우리는 user simulator와 system model을 정의 했습니다.\n",
        "\n",
        "`MultiWozEvaluator` 클래스는 성능을 평가하기 위해 사용됩니다. (user의 goal을 정의해줍니다.)\n",
        "\n",
        "`BiSession` 클래스는 user simulator와 system model의 대화 및 평가를 도와줍니다.\n",
        "\n",
        "We add `MultiWozEvaluator` to evaluate the performance. It uses the parsed dialog act input and policy output dialog act to calculate **inform f1**, **book rate**, and whether the task is **success**."
      ]
    },
    {
      "cell_type": "code",
      "metadata": {
        "id": "saUoLUUGJqDa",
        "colab_type": "code",
        "colab": {}
      },
      "source": [
        "evaluator = MultiWozEvaluator()\n",
        "sess = BiSession(sys_agent=sys_agent, user_agent=user_agent, kb_query=None, evaluator=evaluator)"
      ],
      "execution_count": 28,
      "outputs": []
    },
    {
      "cell_type": "markdown",
      "metadata": {
        "id": "kevGJZhFJzTU",
        "colab_type": "text"
      },
      "source": [
        "Let's make this two agents chat! The key is `next_turn` method of `BiSession` class."
      ]
    },
    {
      "cell_type": "code",
      "metadata": {
        "id": "FIV_qkE49LzE",
        "colab_type": "code",
        "colab": {},
        "tags": []
      },
      "source": [
        "def set_seed(r_seed):\n",
        "    random.seed(r_seed)\n",
        "    np.random.seed(r_seed)\n",
        "    torch.manual_seed(r_seed)\n",
        "\n",
        "set_seed(20200804)\n",
        "\n",
        "sys_response = ''\n",
        "sess.init_session()\n",
        "print('init goal:')\n",
        "pprint(sess.evaluator.goal)\n",
        "print('-'*100)\n",
        "for i in range(20):\n",
        "    sys_response, user_response, session_over, reward = sess.next_turn(sys_response)\n",
        "    print('user:', user_response)\n",
        "    print('sys:', sys_response)\n",
        "    print()\n",
        "    if session_over is True:\n",
        "        break\n",
        "print('task success:', sess.evaluator.task_success())\n",
        "print('book rate:', sess.evaluator.book_rate())\n",
        "print('inform precision/recall/f1:', sess.evaluator.inform_F1())\n",
        "print('-'*50)\n",
        "print('final goal:')\n",
        "pprint(sess.evaluator.goal)\n",
        "\n",
        "print('='*100)"
      ],
      "execution_count": 29,
      "outputs": [
        {
          "output_type": "stream",
          "name": "stdout",
          "text": "init goal:\n{'attraction': {'info': {'area': 'centre', 'type': 'museum'},\n                'reqt': {'address': '?', 'phone': '?'}},\n 'train': {'info': {'arriveBy': '08:30',\n                    'day': 'monday',\n                    'departure': 'cambridge',\n                    'destination': 'peterborough'},\n           'reqt': {'price': '?', 'trainID': '?'}}}\n----------------------------------------------------------------------------------------------------\nuser: I also need a train. I need some information on a train going to peterborough . I would like to leave on monday. I 'd like to arrive by 08:30 .\nsys: Where are you departing from ?\n\nuser: I ' m also looking for a train from cambridge .\nsys: Would you like me to book the 08:30 train ? I can book your tickets for monday . Woudl you like me to book a train to peterborough for you ? Woudl you like me to book a train from cambridge for you ?\n\nuser: I just need to know the id . I do not need to book it . Can you tell me the price ?\nsys: It would cost 16.50 pounds .\n\nuser: What is the train ID ?\nsys: TR3284 would be your perfect fit .\n\nuser: Hi , I am planning a trip and need some help with a particular attraction . How about a museum ? I ' m looking for some attractions in the centre .\nsys: Would you like broughton house gallery ? It 's located at 98 king street . Sure , there are 11 for you to choose from .\n\nuser: I need the phone number as well .\nsys: Here is the phone number , 01223314960 .\n\nuser: You were great . Goodbye .\nsys: Thank you for using our services .\n\ntask success: 1\nbook rate: None\ninform precision/recall/f1: (1.0, 1.0, 1.0)\n--------------------------------------------------\nfinal goal:\n{'attraction': {'info': {'area': 'centre', 'type': 'museum'},\n                'reqt': {'address': '98 king street', 'phone': '01223314960'}},\n 'train': {'info': {'arriveBy': '08:30',\n                    'day': 'monday',\n                    'departure': 'cambridge',\n                    'destination': 'peterborough'},\n           'reqt': {'price': '16.50 pounds', 'trainID': 'TR3284'}}}\n====================================================================================================\n"
        }
      ]
    },
    {
      "cell_type": "markdown",
      "metadata": {
        "id": "CKOQs1l8LpTR",
        "colab_type": "text"
      },
      "source": [
        "# Step 3. 여러가지 조합으로 모델을 구성하고 평가하자\n",
        "\n",
        "## Step 3.0. ConvLab 에서 지원하는 모델들을 load 합니다.\n",
        "\n",
        "Available models:\n",
        "\n",
        "- NLU: BERTNLU, MILU, SVMNLU\n",
        "- DST: RuleDST\n",
        "- Word-DST: SUMBT, TRADE, MDBT (set `sys_nlu` to `None`)\n",
        "- Policy: RulePolicy, Imitation, REINFORCE, PPO, GDPL\n",
        "- Word-Policy: MDRG, HDSA, LaRL (set `sys_nlg` to `None`)\n",
        "- NLG: Template, SCLSTM\n",
        "- End2End: Sequicity, DAMD, RNN_rollout (directly used as `sys_agent`)\n",
        "- Simulator policy: Agenda, VHUS (for `user_policy`)\n"
      ]
    },
    {
      "cell_type": "code",
      "metadata": {
        "id": "G-9G0VYUNYOI",
        "colab_type": "code",
        "colab": {},
        "tags": []
      },
      "source": [
        "# available NLU models\n",
        "from convlab2.nlu.svm.multiwoz import SVMNLU\n",
        "from convlab2.nlu.jointBERT.multiwoz import BERTNLU\n",
        "from convlab2.nlu.milu.multiwoz import MILU\n",
        "# available DST models\n",
        "from convlab2.dst.rule.multiwoz import RuleDST\n",
        "from convlab2.dst.mdbt.multiwoz import MDBT\n",
        "from convlab2.dst.sumbt.multiwoz import SUMBT\n",
        "from convlab2.dst.trade.multiwoz import TRADE\n",
        "# available Policy models\n",
        "from convlab2.policy.rule.multiwoz import RulePolicy\n",
        "from convlab2.policy.ppo.multiwoz import PPOPolicy\n",
        "from convlab2.policy.pg.multiwoz import PGPolicy\n",
        "from convlab2.policy.mle.multiwoz import MLEPolicy\n",
        "from convlab2.policy.gdpl.multiwoz import GDPLPolicy\n",
        "from convlab2.policy.vhus.multiwoz import UserPolicyVHUS\n",
        "from convlab2.policy.mdrg.multiwoz import MDRGWordPolicy\n",
        "from convlab2.policy.hdsa.multiwoz import HDSA\n",
        "from convlab2.policy.larl.multiwoz import LaRL\n",
        "# available NLG models\n",
        "from convlab2.nlg.template.multiwoz import TemplateNLG\n",
        "from convlab2.nlg.sclstm.multiwoz import SCLSTM\n",
        "# available E2E models\n",
        "from convlab2.e2e.sequicity.multiwoz import Sequicity\n",
        "from convlab2.e2e.damd.multiwoz import Damd"
      ],
      "execution_count": 16,
      "outputs": [
        {
          "output_type": "stream",
          "name": "stdout",
          "text": "WARNING:tensorflow:From /ext/samsung_dialogue_tutorial/ConvLab-2/convlab2/dst/mdbt/mdbt_util.py:62: The name tf.nn.rnn_cell.RNNCell is deprecated. Please use tf.compat.v1.nn.rnn_cell.RNNCell instead.\n\n[nltk_data] Downloading package stopwords to /home/jglee/nltk_data...\n[nltk_data]   Package stopwords is already up-to-date!\n"
        }
      ]
    },
    {
      "cell_type": "markdown",
      "metadata": {
        "id": "6TS2_Tp1Nzvq",
        "colab_type": "text"
      },
      "source": [
        "## Step 3.1. ConvLab에서 지원하는 모델들을 가지고 나만의 대화시스템을 만들어 봅시다.\n",
        "\n",
        "Word-DST 모델들은 NLU와 DST가 합쳐진 모델을 의미합니다. 따라서, 별도의 NLU 모델 없이 사용할 수 있습니다.\n",
        "\n",
        "따라서, (1) NLU+RuleDST 또는 (2) Word-DST 로 조합이 가능합니다.\n"
      ]
    },
    {
      "cell_type": "code",
      "metadata": {
        "id": "DZMk9wAlONrz",
        "colab_type": "code",
        "colab": {},
        "tags": []
      },
      "source": [
        "# NLU+RuleDST:\n",
        "sys_nlu = BERTNLU()\n",
        "# sys_nlu = MILU()\n",
        "# sys_nlu = SVMNLU()\n",
        "sys_dst = RuleDST()\n",
        "\n",
        "# or Word-DST:\n",
        "# sys_nlu = None\n",
        "# sys_dst = SUMBT()\n",
        "# sys_dst = TRADE()\n",
        "# sys_dst = MDBT()"
      ],
      "execution_count": 17,
      "outputs": [
        {
          "output_type": "stream",
          "name": "stdout",
          "text": "intent num: 137\ntag num: 331\nLoad from /ext/samsung_dialogue_tutorial/ConvLab-2/convlab2/nlu/jointBERT/multiwoz/output/all_context/pytorch_model.bin\nbert-base-uncased\nBERTNLU loaded\n"
        }
      ]
    },
    {
      "cell_type": "markdown",
      "metadata": {
        "id": "gUUYsDMJPJRl",
        "colab_type": "text"
      },
      "source": [
        "Word-Policy 모델들은 Dialogue Policy 와 NLG 가 합쳐진 모델을 의미합니다. 따라서 별도의 NLG 모델없이 사용할 수 있습니다.\n",
        "\n",
        "따라서, (1) Policy+NLG 또는 Word-Policy 로 조합이 가능합니다."
      ]
    },
    {
      "cell_type": "code",
      "metadata": {
        "id": "PTJ95x9UPHt4",
        "colab_type": "code",
        "colab": {},
        "tags": []
      },
      "source": [
        "# Policy+NLG:\n",
        "sys_policy = RulePolicy()\n",
        "# sys_policy = PPOPolicy()\n",
        "# sys_policy = PGPolicy()\n",
        "# sys_policy = MLEPolicy()\n",
        "# sys_policy = GDPLPolicy()\n",
        "# sys_nlg = TemplateNLG(is_user=False)\n",
        "sys_nlg = SCLSTM(is_user=False)\n",
        "\n",
        "# or Word-Policy:\n",
        "# sys_policy = LaRL()\n",
        "# sys_policy = HDSA()\n",
        "# sys_policy = MDRGWordPolicy()\n",
        "# sys_nlg = None"
      ],
      "execution_count": 30,
      "outputs": []
    },
    {
      "cell_type": "markdown",
      "metadata": {
        "id": "s9lGIv0oPupn",
        "colab_type": "text"
      },
      "source": [
        "Pipelined 대화 시스템을 만들어 봅시다."
      ]
    },
    {
      "cell_type": "code",
      "metadata": {
        "id": "IvLx7HUkPyZ5",
        "colab_type": "code",
        "colab": {}
      },
      "source": [
        "sys_agent = PipelineAgent(sys_nlu, sys_dst, sys_policy, sys_nlg, 'sys')"
      ],
      "execution_count": 19,
      "outputs": []
    },
    {
      "cell_type": "markdown",
      "metadata": {
        "id": "hR4A8WbZP2lc",
        "colab_type": "text"
      },
      "source": [
        "또는 End-to-end 대화 시스템을 사용할 수도 있습니다."
      ]
    },
    {
      "cell_type": "code",
      "metadata": {
        "id": "8VdUmcxoP6ej",
        "colab_type": "code",
        "colab": {},
        "tags": []
      },
      "source": [
        "# sys_agent = Sequicity()\n",
        "# sys_agent = Damd()"
      ],
      "execution_count": 31,
      "outputs": [
        {
          "output_type": "stream",
          "name": "stderr",
          "text": "[nltk_data] Downloading package punkt to /home/jglee/nltk_data...\n[nltk_data]   Unzipping tokenizers/punkt.zip.\ndown load data from https://convlab.blob.core.windows.net/convlab-2/sequicity_multiwoz_data.zip\nLoad from https://convlab.blob.core.windows.net/convlab-2/sequicity_multiwoz_data.zip\n08/09/2020 20:23:16 - INFO - convlab2.util.allennlp_file_utils -   https://convlab.blob.core.windows.net/convlab-2/sequicity_multiwoz_data.zip not found in cache, downloading to /tmp/tmpvz1m3nrd\n100%|██████████| 74199437/74199437 [00:32<00:00, 2265743.43B/s]\n08/09/2020 20:23:49 - INFO - convlab2.util.allennlp_file_utils -   copying /tmp/tmpvz1m3nrd to cache at /home/jglee/.convlab2/cache/9813195e9579ce410f22152bd48016e3a9e105bcb2d118c058a65b3ec7cb81a6.86e714e5ae0f113ec329d2f123e9cb60ee85a30f171f8d8d3116fe49f5282e60\n08/09/2020 20:23:50 - INFO - convlab2.util.allennlp_file_utils -   creating metadata file for /home/jglee/.convlab2/cache/9813195e9579ce410f22152bd48016e3a9e105bcb2d118c058a65b3ec7cb81a6.86e714e5ae0f113ec329d2f123e9cb60ee85a30f171f8d8d3116fe49f5282e60\n08/09/2020 20:23:50 - INFO - convlab2.util.allennlp_file_utils -   removing temp file /tmp/tmpvz1m3nrd\nunzip to /ext/samsung_dialogue_tutorial/ConvLab-2/convlab2/e2e/sequicity/multiwoz/\nLoad from model_file param\ndown load data from https://convlab.blob.core.windows.net/convlab-2/sequicity_multiwoz.zip\nLoad from https://convlab.blob.core.windows.net/convlab-2/sequicity_multiwoz.zip\n08/09/2020 20:23:53 - INFO - convlab2.util.allennlp_file_utils -   https://convlab.blob.core.windows.net/convlab-2/sequicity_multiwoz.zip not found in cache, downloading to /tmp/tmpu51mnbtj\n100%|██████████| 5154231/5154231 [00:02<00:00, 1858474.88B/s]\n08/09/2020 20:23:57 - INFO - convlab2.util.allennlp_file_utils -   copying /tmp/tmpu51mnbtj to cache at /home/jglee/.convlab2/cache/f8761329f419901b05f37539a87512965440da4c67d1b6e1f1a8cf7c35727361.abcb8e178ac818dc218edf209e1e4bdac5a135cfdd54864036b7f8a8e42975e5\n08/09/2020 20:23:57 - INFO - convlab2.util.allennlp_file_utils -   creating metadata file for /home/jglee/.convlab2/cache/f8761329f419901b05f37539a87512965440da4c67d1b6e1f1a8cf7c35727361.abcb8e178ac818dc218edf209e1e4bdac5a135cfdd54864036b7f8a8e42975e5\n08/09/2020 20:23:57 - INFO - convlab2.util.allennlp_file_utils -   removing temp file /tmp/tmpu51mnbtj\nunzip to /ext/samsung_dialogue_tutorial/ConvLab-2/convlab2/e2e/sequicity/multiwoz/output\ntotal trainable params: 1717950\n"
        }
      ]
    },
    {
      "cell_type": "markdown",
      "metadata": {
        "id": "_v-eoBtnP9J9",
        "colab_type": "text"
      },
      "source": [
        "앞에서 했던 방식대로, user simulator도 정의해줍니다."
      ]
    },
    {
      "cell_type": "code",
      "metadata": {
        "id": "UkHpjvR5QezN",
        "colab_type": "code",
        "colab": {},
        "tags": []
      },
      "source": [
        "user_nlu = BERTNLU()\n",
        "# user_nlu = MILU()\n",
        "# user_nlu = SVMNLU()\n",
        "user_dst = None\n",
        "user_policy = RulePolicy(character='usr')\n",
        "# user_policy = UserPolicyVHUS(load_from_zip=True)\n",
        "user_nlg = TemplateNLG(is_user=True)\n",
        "# user_nlg = SCLSTM(is_user=True)\n",
        "user_agent = PipelineAgent(user_nlu, user_dst, user_policy, user_nlg, name='user')"
      ],
      "execution_count": 21,
      "outputs": [
        {
          "output_type": "stream",
          "name": "stdout",
          "text": "intent num: 137\ntag num: 331\nLoad from /ext/samsung_dialogue_tutorial/ConvLab-2/convlab2/nlu/jointBERT/multiwoz/output/all_context/pytorch_model.bin\nbert-base-uncased\nBERTNLU loaded\nLoading goal model is done\n"
        }
      ]
    },
    {
      "cell_type": "markdown",
      "metadata": {
        "id": "VJTBxEDhSAqc",
        "colab_type": "text"
      },
      "source": [
        "## Step 3.2 분석 툴을 사용해 system model을 진단해보고, 여러 개의 system model 간 성능을 비교해봅시다.\n",
        "\n",
        "Convlab2에서는 분석 툴(analysis tool)을 제공하며, 이를 통해 정의한 system model의 성능 및 취약점을 분석하고 진단할 수 있습니다.\n",
        "\n",
        "뿐만 아니라, HTML report를 작성해주어, 조금 더 풍부한 통계 정보를 얻어낼 수 있습니다.\n",
        "\n",
        "We provide an analysis tool presents rich statistics and summarizes common mistakes from simulated dialogues, which facilitates error analysis and\n",
        "system improvement. The analyzer will generate an HTML report which contains\n",
        "rich statistics of simulated dialogues. For more information, please refer to `convlab2/util/analysis_tool`."
      ]
    },
    {
      "cell_type": "code",
      "metadata": {
        "id": "Hu2q3lQiSMDy",
        "colab_type": "code",
        "colab": {},
        "tags": []
      },
      "source": [
        "from convlab2.util.analysis_tool.analyzer import Analyzer\n",
        "\n",
        "# if sys_nlu!=None, set use_nlu=True to collect more information\n",
        "analyzer = Analyzer(user_agent=user_agent, dataset='multiwoz')\n",
        "\n",
        "set_seed(20200131)\n",
        "analyzer.comprehensive_analyze(sys_agent=sys_agent, model_name='sys_agent', total_dialog=20)"
      ],
      "execution_count": 22,
      "outputs": [
        {
          "output_type": "stream",
          "name": "stderr",
          "text": "dialogue: 100%|██████████| 20/20 [00:13<00:00,  1.44it/s]\n====================================================================================================\ncomplete number of dialogs/tot: 0.75\nsuccess number of dialogs/tot: 0.65\naverage precision: 0.7935714285714286\naverage recall: 0.8508333333333334\naverage f1: 0.813728354978355\naverage book rate: 0.9761904761904762\naverage turn (succ): 13.846153846153847\naverage turn (all): 18.9\n====================================================================================================\n"
        },
        {
          "output_type": "execute_result",
          "data": {
            "text/plain": "(0.75,\n 0.65,\n 0.7935714285714286,\n 0.8508333333333334,\n 0.813728354978355,\n 0.9761904761904762,\n 18.9)"
          },
          "metadata": {},
          "execution_count": 22
        }
      ]
    },
    {
      "cell_type": "markdown",
      "metadata": {
        "id": "AB-mDm0plQWd",
        "colab_type": "text"
      },
      "source": [
        "또는 복수 개의 system model들 간의 성능을 비교해볼 수도 있습니다."
      ]
    },
    {
      "cell_type": "code",
      "metadata": {
        "id": "GKe_DNJUlWzh",
        "colab_type": "code",
        "colab": {},
        "tags": [
          "outputPrepend"
        ]
      },
      "source": [
        "set_seed(20200805)\n",
        "\n",
        "sys_nlu = BERTNLU()\n",
        "sys_dst = RuleDST()\n",
        "sys_policy = MLEPolicy()\n",
        "sys_nlg = TemplateNLG(is_user=False)\n",
        "sys_agent2 = PipelineAgent(sys_nlu, sys_dst, sys_policy, sys_nlg, name='sys')  # name should be \n",
        "\n",
        "analyzer.compare_models(agent_list=[sys_agent, sys_agent2], model_name=['sys_agent1', 'sys_agent2'], total_dialog=20)"
      ],
      "execution_count": 37,
      "outputs": [
        {
          "output_type": "stream",
          "name": "stdout",
          "text": "PH_VERBOSITY=10`) and attach the full output. Cause: converting <bound method LSTMCell.call of <tensorflow.python.ops.rnn_cell_impl.LSTMCell object at 0x7f14d935ac90>>: AttributeError: module 'gast' has no attribute 'Num'\n08/09/2020 20:43:09 - WARNING - tensorflow -   Entity <bound method LSTMCell.call of <tensorflow.python.ops.rnn_cell_impl.LSTMCell object at 0x7f14d935ac90>> could not be transformed and will be executed as-is. Please report this to the AutgoGraph team. When filing the bug, set the verbosity to 10 (on Linux, `export AUTOGRAPH_VERBOSITY=10`) and attach the full output. Cause: converting <bound method LSTMCell.call of <tensorflow.python.ops.rnn_cell_impl.LSTMCell object at 0x7f14d935ac90>>: AttributeError: module 'gast' has no attribute 'Num'\nWARNING: Entity <bound method LSTMCell.call of <tensorflow.python.ops.rnn_cell_impl.LSTMCell object at 0x7f14d935ac90>> could not be transformed and will be executed as-is. Please report this to the AutgoGraph team. When filing the bug, set the verbosity to 10 (on Linux, `export AUTOGRAPH_VERBOSITY=10`) and attach the full output. Cause: converting <bound method LSTMCell.call of <tensorflow.python.ops.rnn_cell_impl.LSTMCell object at 0x7f14d935ac90>>: AttributeError: module 'gast' has no attribute 'Num'\nWARNING:tensorflow:Entity <bound method LSTMCell.call of <tensorflow.python.ops.rnn_cell_impl.LSTMCell object at 0x7f14d9334810>> could not be transformed and will be executed as-is. Please report this to the AutgoGraph team. When filing the bug, set the verbosity to 10 (on Linux, `export AUTOGRAPH_VERBOSITY=10`) and attach the full output. Cause: converting <bound method LSTMCell.call of <tensorflow.python.ops.rnn_cell_impl.LSTMCell object at 0x7f14d9334810>>: AttributeError: module 'gast' has no attribute 'Num'\n08/09/2020 20:43:09 - WARNING - tensorflow -   Entity <bound method LSTMCell.call of <tensorflow.python.ops.rnn_cell_impl.LSTMCell object at 0x7f14d9334810>> could not be transformed and will be executed as-is. Please report this to the AutgoGraph team. When filing the bug, set the verbosity to 10 (on Linux, `export AUTOGRAPH_VERBOSITY=10`) and attach the full output. Cause: converting <bound method LSTMCell.call of <tensorflow.python.ops.rnn_cell_impl.LSTMCell object at 0x7f14d9334810>>: AttributeError: module 'gast' has no attribute 'Num'\nWARNING: Entity <bound method LSTMCell.call of <tensorflow.python.ops.rnn_cell_impl.LSTMCell object at 0x7f14d9334810>> could not be transformed and will be executed as-is. Please report this to the AutgoGraph team. When filing the bug, set the verbosity to 10 (on Linux, `export AUTOGRAPH_VERBOSITY=10`) and attach the full output. Cause: converting <bound method LSTMCell.call of <tensorflow.python.ops.rnn_cell_impl.LSTMCell object at 0x7f14d9334810>>: AttributeError: module 'gast' has no attribute 'Num'\nWARNING:tensorflow:Entity <bound method LSTMCell.call of <tensorflow.python.ops.rnn_cell_impl.LSTMCell object at 0x7f14d9651b10>> could not be transformed and will be executed as-is. Please report this to the AutgoGraph team. When filing the bug, set the verbosity to 10 (on Linux, `export AUTOGRAPH_VERBOSITY=10`) and attach the full output. Cause: converting <bound method LSTMCell.call of <tensorflow.python.ops.rnn_cell_impl.LSTMCell object at 0x7f14d9651b10>>: AttributeError: module 'gast' has no attribute 'Num'\n08/09/2020 20:43:09 - WARNING - tensorflow -   Entity <bound method LSTMCell.call of <tensorflow.python.ops.rnn_cell_impl.LSTMCell object at 0x7f14d9651b10>> could not be transformed and will be executed as-is. Please report this to the AutgoGraph team. When filing the bug, set the verbosity to 10 (on Linux, `export AUTOGRAPH_VERBOSITY=10`) and attach the full output. Cause: converting <bound method LSTMCell.call of <tensorflow.python.ops.rnn_cell_impl.LSTMCell object at 0x7f14d9651b10>>: AttributeError: module 'gast' has no attribute 'Num'\nWARNING: Entity <bound method LSTMCell.call of <tensorflow.python.ops.rnn_cell_impl.LSTMCell object at 0x7f14d9651b10>> could not be transformed and will be executed as-is. Please report this to the AutgoGraph team. When filing the bug, set the verbosity to 10 (on Linux, `export AUTOGRAPH_VERBOSITY=10`) and attach the full output. Cause: converting <bound method LSTMCell.call of <tensorflow.python.ops.rnn_cell_impl.LSTMCell object at 0x7f14d9651b10>>: AttributeError: module 'gast' has no attribute 'Num'\nWARNING:tensorflow:Entity <bound method LSTMCell.call of <tensorflow.python.ops.rnn_cell_impl.LSTMCell object at 0x7f14d9334810>> could not be transformed and will be executed as-is. Please report this to the AutgoGraph team. When filing the bug, set the verbosity to 10 (on Linux, `export AUTOGRAPH_VERBOSITY=10`) and attach the full output. Cause: converting <bound method LSTMCell.call of <tensorflow.python.ops.rnn_cell_impl.LSTMCell object at 0x7f14d9334810>>: AttributeError: module 'gast' has no attribute 'Num'\n08/09/2020 20:43:10 - WARNING - tensorflow -   Entity <bound method LSTMCell.call of <tensorflow.python.ops.rnn_cell_impl.LSTMCell object at 0x7f14d9334810>> could not be transformed and will be executed as-is. Please report this to the AutgoGraph team. When filing the bug, set the verbosity to 10 (on Linux, `export AUTOGRAPH_VERBOSITY=10`) and attach the full output. Cause: converting <bound method LSTMCell.call of <tensorflow.python.ops.rnn_cell_impl.LSTMCell object at 0x7f14d9334810>>: AttributeError: module 'gast' has no attribute 'Num'\nWARNING: Entity <bound method LSTMCell.call of <tensorflow.python.ops.rnn_cell_impl.LSTMCell object at 0x7f14d9334810>> could not be transformed and will be executed as-is. Please report this to the AutgoGraph team. When filing the bug, set the verbosity to 10 (on Linux, `export AUTOGRAPH_VERBOSITY=10`) and attach the full output. Cause: converting <bound method LSTMCell.call of <tensorflow.python.ops.rnn_cell_impl.LSTMCell object at 0x7f14d9334810>>: AttributeError: module 'gast' has no attribute 'Num'\nWARNING:tensorflow:Entity <bound method LSTMCell.call of <tensorflow.python.ops.rnn_cell_impl.LSTMCell object at 0x7f14d999bd90>> could not be transformed and will be executed as-is. Please report this to the AutgoGraph team. When filing the bug, set the verbosity to 10 (on Linux, `export AUTOGRAPH_VERBOSITY=10`) and attach the full output. Cause: converting <bound method LSTMCell.call of <tensorflow.python.ops.rnn_cell_impl.LSTMCell object at 0x7f14d999bd90>>: AttributeError: module 'gast' has no attribute 'Num'\n08/09/2020 20:43:10 - WARNING - tensorflow -   Entity <bound method LSTMCell.call of <tensorflow.python.ops.rnn_cell_impl.LSTMCell object at 0x7f14d999bd90>> could not be transformed and will be executed as-is. Please report this to the AutgoGraph team. When filing the bug, set the verbosity to 10 (on Linux, `export AUTOGRAPH_VERBOSITY=10`) and attach the full output. Cause: converting <bound method LSTMCell.call of <tensorflow.python.ops.rnn_cell_impl.LSTMCell object at 0x7f14d999bd90>>: AttributeError: module 'gast' has no attribute 'Num'\nWARNING: Entity <bound method LSTMCell.call of <tensorflow.python.ops.rnn_cell_impl.LSTMCell object at 0x7f14d999bd90>> could not be transformed and will be executed as-is. Please report this to the AutgoGraph team. When filing the bug, set the verbosity to 10 (on Linux, `export AUTOGRAPH_VERBOSITY=10`) and attach the full output. Cause: converting <bound method LSTMCell.call of <tensorflow.python.ops.rnn_cell_impl.LSTMCell object at 0x7f14d999bd90>>: AttributeError: module 'gast' has no attribute 'Num'\nWARNING:tensorflow:Entity <bound method LSTMCell.call of <tensorflow.python.ops.rnn_cell_impl.LSTMCell object at 0x7f14d988f810>> could not be transformed and will be executed as-is. Please report this to the AutgoGraph team. When filing the bug, set the verbosity to 10 (on Linux, `export AUTOGRAPH_VERBOSITY=10`) and attach the full output. Cause: converting <bound method LSTMCell.call of <tensorflow.python.ops.rnn_cell_impl.LSTMCell object at 0x7f14d988f810>>: AttributeError: module 'gast' has no attribute 'Num'\n08/09/2020 20:43:10 - WARNING - tensorflow -   Entity <bound method LSTMCell.call of <tensorflow.python.ops.rnn_cell_impl.LSTMCell object at 0x7f14d988f810>> could not be transformed and will be executed as-is. Please report this to the AutgoGraph team. When filing the bug, set the verbosity to 10 (on Linux, `export AUTOGRAPH_VERBOSITY=10`) and attach the full output. Cause: converting <bound method LSTMCell.call of <tensorflow.python.ops.rnn_cell_impl.LSTMCell object at 0x7f14d988f810>>: AttributeError: module 'gast' has no attribute 'Num'\nWARNING: Entity <bound method LSTMCell.call of <tensorflow.python.ops.rnn_cell_impl.LSTMCell object at 0x7f14d988f810>> could not be transformed and will be executed as-is. Please report this to the AutgoGraph team. When filing the bug, set the verbosity to 10 (on Linux, `export AUTOGRAPH_VERBOSITY=10`) and attach the full output. Cause: converting <bound method LSTMCell.call of <tensorflow.python.ops.rnn_cell_impl.LSTMCell object at 0x7f14d988f810>>: AttributeError: module 'gast' has no attribute 'Num'\nWARNING:tensorflow:Entity <bound method LSTMCell.call of <tensorflow.python.ops.rnn_cell_impl.LSTMCell object at 0x7f14d9c54390>> could not be transformed and will be executed as-is. Please report this to the AutgoGraph team. When filing the bug, set the verbosity to 10 (on Linux, `export AUTOGRAPH_VERBOSITY=10`) and attach the full output. Cause: converting <bound method LSTMCell.call of <tensorflow.python.ops.rnn_cell_impl.LSTMCell object at 0x7f14d9c54390>>: AttributeError: module 'gast' has no attribute 'Num'\n08/09/2020 20:43:10 - WARNING - tensorflow -   Entity <bound method LSTMCell.call of <tensorflow.python.ops.rnn_cell_impl.LSTMCell object at 0x7f14d9c54390>> could not be transformed and will be executed as-is. Please report this to the AutgoGraph team. When filing the bug, set the verbosity to 10 (on Linux, `export AUTOGRAPH_VERBOSITY=10`) and attach the full output. Cause: converting <bound method LSTMCell.call of <tensorflow.python.ops.rnn_cell_impl.LSTMCell object at 0x7f14d9c54390>>: AttributeError: module 'gast' has no attribute 'Num'\nWARNING: Entity <bound method LSTMCell.call of <tensorflow.python.ops.rnn_cell_impl.LSTMCell object at 0x7f14d9c54390>> could not be transformed and will be executed as-is. Please report this to the AutgoGraph team. When filing the bug, set the verbosity to 10 (on Linux, `export AUTOGRAPH_VERBOSITY=10`) and attach the full output. Cause: converting <bound method LSTMCell.call of <tensorflow.python.ops.rnn_cell_impl.LSTMCell object at 0x7f14d9c54390>>: AttributeError: module 'gast' has no attribute 'Num'\nWARNING:tensorflow:Entity <bound method LSTMCell.call of <tensorflow.python.ops.rnn_cell_impl.LSTMCell object at 0x7f14d9a2a750>> could not be transformed and will be executed as-is. Please report this to the AutgoGraph team. When filing the bug, set the verbosity to 10 (on Linux, `export AUTOGRAPH_VERBOSITY=10`) and attach the full output. Cause: converting <bound method LSTMCell.call of <tensorflow.python.ops.rnn_cell_impl.LSTMCell object at 0x7f14d9a2a750>>: AttributeError: module 'gast' has no attribute 'Num'\n08/09/2020 20:43:10 - WARNING - tensorflow -   Entity <bound method LSTMCell.call of <tensorflow.python.ops.rnn_cell_impl.LSTMCell object at 0x7f14d9a2a750>> could not be transformed and will be executed as-is. Please report this to the AutgoGraph team. When filing the bug, set the verbosity to 10 (on Linux, `export AUTOGRAPH_VERBOSITY=10`) and attach the full output. Cause: converting <bound method LSTMCell.call of <tensorflow.python.ops.rnn_cell_impl.LSTMCell object at 0x7f14d9a2a750>>: AttributeError: module 'gast' has no attribute 'Num'\nWARNING: Entity <bound method LSTMCell.call of <tensorflow.python.ops.rnn_cell_impl.LSTMCell object at 0x7f14d9a2a750>> could not be transformed and will be executed as-is. Please report this to the AutgoGraph team. When filing the bug, set the verbosity to 10 (on Linux, `export AUTOGRAPH_VERBOSITY=10`) and attach the full output. Cause: converting <bound method LSTMCell.call of <tensorflow.python.ops.rnn_cell_impl.LSTMCell object at 0x7f14d9a2a750>>: AttributeError: module 'gast' has no attribute 'Num'\nWARNING:tensorflow:Entity <bound method LSTMCell.call of <tensorflow.python.ops.rnn_cell_impl.LSTMCell object at 0x7f14d9f0da10>> could not be transformed and will be executed as-is. Please report this to the AutgoGraph team. When filing the bug, set the verbosity to 10 (on Linux, `export AUTOGRAPH_VERBOSITY=10`) and attach the full output. Cause: converting <bound method LSTMCell.call of <tensorflow.python.ops.rnn_cell_impl.LSTMCell object at 0x7f14d9f0da10>>: AttributeError: module 'gast' has no attribute 'Num'\n08/09/2020 20:43:10 - WARNING - tensorflow -   Entity <bound method LSTMCell.call of <tensorflow.python.ops.rnn_cell_impl.LSTMCell object at 0x7f14d9f0da10>> could not be transformed and will be executed as-is. Please report this to the AutgoGraph team. When filing the bug, set the verbosity to 10 (on Linux, `export AUTOGRAPH_VERBOSITY=10`) and attach the full output. Cause: converting <bound method LSTMCell.call of <tensorflow.python.ops.rnn_cell_impl.LSTMCell object at 0x7f14d9f0da10>>: AttributeError: module 'gast' has no attribute 'Num'\nWARNING: Entity <bound method LSTMCell.call of <tensorflow.python.ops.rnn_cell_impl.LSTMCell object at 0x7f14d9f0da10>> could not be transformed and will be executed as-is. Please report this to the AutgoGraph team. When filing the bug, set the verbosity to 10 (on Linux, `export AUTOGRAPH_VERBOSITY=10`) and attach the full output. Cause: converting <bound method LSTMCell.call of <tensorflow.python.ops.rnn_cell_impl.LSTMCell object at 0x7f14d9f0da10>>: AttributeError: module 'gast' has no attribute 'Num'\nWARNING:tensorflow:Entity <bound method LSTMCell.call of <tensorflow.python.ops.rnn_cell_impl.LSTMCell object at 0x7f14d9f049d0>> could not be transformed and will be executed as-is. Please report this to the AutgoGraph team. When filing the bug, set the verbosity to 10 (on Linux, `export AUTOGRAPH_VERBOSITY=10`) and attach the full output. Cause: converting <bound method LSTMCell.call of <tensorflow.python.ops.rnn_cell_impl.LSTMCell object at 0x7f14d9f049d0>>: AttributeError: module 'gast' has no attribute 'Num'\n08/09/2020 20:43:10 - WARNING - tensorflow -   Entity <bound method LSTMCell.call of <tensorflow.python.ops.rnn_cell_impl.LSTMCell object at 0x7f14d9f049d0>> could not be transformed and will be executed as-is. Please report this to the AutgoGraph team. When filing the bug, set the verbosity to 10 (on Linux, `export AUTOGRAPH_VERBOSITY=10`) and attach the full output. Cause: converting <bound method LSTMCell.call of <tensorflow.python.ops.rnn_cell_impl.LSTMCell object at 0x7f14d9f049d0>>: AttributeError: module 'gast' has no attribute 'Num'\nWARNING: Entity <bound method LSTMCell.call of <tensorflow.python.ops.rnn_cell_impl.LSTMCell object at 0x7f14d9f049d0>> could not be transformed and will be executed as-is. Please report this to the AutgoGraph team. When filing the bug, set the verbosity to 10 (on Linux, `export AUTOGRAPH_VERBOSITY=10`) and attach the full output. Cause: converting <bound method LSTMCell.call of <tensorflow.python.ops.rnn_cell_impl.LSTMCell object at 0x7f14d9f049d0>>: AttributeError: module 'gast' has no attribute 'Num'\nWARNING:tensorflow:From /ext/samsung_dialogue_tutorial/ConvLab-2/convlab2/dst/mdbt/mdbt_util.py:298: The name tf.random_normal is deprecated. Please use tf.random.normal instead.\n\n08/09/2020 20:43:11 - WARNING - tensorflow -   From /ext/samsung_dialogue_tutorial/ConvLab-2/convlab2/dst/mdbt/mdbt_util.py:298: The name tf.random_normal is deprecated. Please use tf.random.normal instead.\n\nWARNING:tensorflow:From /ext/samsung_dialogue_tutorial/ConvLab-2/convlab2/dst/mdbt/mdbt_util.py:377: The name tf.diag is deprecated. Please use tf.linalg.tensor_diag instead.\n\n08/09/2020 20:43:11 - WARNING - tensorflow -   From /ext/samsung_dialogue_tutorial/ConvLab-2/convlab2/dst/mdbt/mdbt_util.py:377: The name tf.diag is deprecated. Please use tf.linalg.tensor_diag instead.\n\nWARNING:tensorflow:From /ext/samsung_dialogue_tutorial/ConvLab-2/convlab2/dst/mdbt/mdbt_util.py:426: The name tf.matrix_set_diag is deprecated. Please use tf.linalg.set_diag instead.\n\n08/09/2020 20:43:11 - WARNING - tensorflow -   From /ext/samsung_dialogue_tutorial/ConvLab-2/convlab2/dst/mdbt/mdbt_util.py:426: The name tf.matrix_set_diag is deprecated. Please use tf.linalg.set_diag instead.\n\nWARNING:tensorflow:From /ext/samsung_dialogue_tutorial/ConvLab-2/convlab2/dst/mdbt/mdbt_util.py:457: calling reduce_max_v1 (from tensorflow.python.ops.math_ops) with keep_dims is deprecated and will be removed in a future version.\nInstructions for updating:\nkeep_dims is deprecated, use keepdims instead\n08/09/2020 20:43:11 - WARNING - tensorflow -   From /ext/samsung_dialogue_tutorial/ConvLab-2/convlab2/dst/mdbt/mdbt_util.py:457: calling reduce_max_v1 (from tensorflow.python.ops.math_ops) with keep_dims is deprecated and will be removed in a future version.\nInstructions for updating:\nkeep_dims is deprecated, use keepdims instead\nWARNING:tensorflow:From /ext/samsung_dialogue_tutorial/ConvLab-2/convlab2/dst/mdbt/mdbt_util.py:473: The name tf.train.AdamOptimizer is deprecated. Please use tf.compat.v1.train.AdamOptimizer instead.\n\n08/09/2020 20:43:16 - WARNING - tensorflow -   From /ext/samsung_dialogue_tutorial/ConvLab-2/convlab2/dst/mdbt/mdbt_util.py:473: The name tf.train.AdamOptimizer is deprecated. Please use tf.compat.v1.train.AdamOptimizer instead.\n\nWARNING:tensorflow:From /ext/samsung_dialogue_tutorial/ConvLab-2/convlab2/dst/mdbt/mdbt_util.py:522: The name tf.summary.scalar is deprecated. Please use tf.compat.v1.summary.scalar instead.\n\n08/09/2020 20:43:31 - WARNING - tensorflow -   From /ext/samsung_dialogue_tutorial/ConvLab-2/convlab2/dst/mdbt/mdbt_util.py:522: The name tf.summary.scalar is deprecated. Please use tf.compat.v1.summary.scalar instead.\n\nLoad from https://convlab.blob.core.windows.net/convlab-2/mle_policy_multiwoz.zip\n08/09/2020 20:43:32 - INFO - root -   <<dialog policy>> loaded checkpoint from file: /ext/samsung_dialogue_tutorial/ConvLab-2/convlab2/policy/mle/save/best_mle.pol.mdl\nWARNING:tensorflow:From /ext/samsung_dialogue_tutorial/ConvLab-2/convlab2/dst/mdbt/mdbt.py:71: The name tf.train.Saver is deprecated. Please use tf.compat.v1.train.Saver instead.\n\n08/09/2020 20:43:32 - WARNING - tensorflow -   From /ext/samsung_dialogue_tutorial/ConvLab-2/convlab2/dst/mdbt/mdbt.py:71: The name tf.train.Saver is deprecated. Please use tf.compat.v1.train.Saver instead.\n\nWARNING:tensorflow:From /home/jglee/anaconda3/envs/0813_dialogue_system_v2/lib/python3.7/site-packages/tensorflow/python/training/saver.py:1276: checkpoint_exists (from tensorflow.python.training.checkpoint_management) is deprecated and will be removed in a future version.\nInstructions for updating:\nUse standard file APIs to check for files with this prefix.\n08/09/2020 20:43:32 - WARNING - tensorflow -   From /home/jglee/anaconda3/envs/0813_dialogue_system_v2/lib/python3.7/site-packages/tensorflow/python/training/saver.py:1276: checkpoint_exists (from tensorflow.python.training.checkpoint_management) is deprecated and will be removed in a future version.\nInstructions for updating:\nUse standard file APIs to check for files with this prefix.\nINFO:tensorflow:Restoring parameters from /ext/samsung_dialogue_tutorial/ConvLab-2/convlab2/dst/mdbt/multiwoz/configs/models/model-1\n08/09/2020 20:43:32 - INFO - tensorflow -   Restoring parameters from /ext/samsung_dialogue_tutorial/ConvLab-2/convlab2/dst/mdbt/multiwoz/configs/models/model-1\ndialogue:   0%|          | 0/20 [00:00<?, ?it/s]Loading trained MDBT model from  /ext/samsung_dialogue_tutorial/ConvLab-2/convlab2/dst/mdbt/multiwoz/configs/models/model-1\ndialogue:   0%|          | 0/20 [00:02<?, ?it/s]\n"
        },
        {
          "output_type": "error",
          "ename": "ValueError",
          "evalue": "not enough values to unpack (expected 4, got 1)",
          "traceback": [
            "\u001b[0;31m---------------------------------------------------------------------------\u001b[0m",
            "\u001b[0;31mValueError\u001b[0m                                Traceback (most recent call last)",
            "\u001b[0;32m<ipython-input-37-b39390e2fa6d>\u001b[0m in \u001b[0;36m<module>\u001b[0;34m\u001b[0m\n\u001b[1;32m      7\u001b[0m \u001b[0msys_agent2\u001b[0m \u001b[0;34m=\u001b[0m \u001b[0mPipelineAgent\u001b[0m\u001b[0;34m(\u001b[0m\u001b[0msys_nlu\u001b[0m\u001b[0;34m,\u001b[0m \u001b[0msys_dst\u001b[0m\u001b[0;34m,\u001b[0m \u001b[0msys_policy\u001b[0m\u001b[0;34m,\u001b[0m \u001b[0msys_nlg\u001b[0m\u001b[0;34m,\u001b[0m \u001b[0mname\u001b[0m\u001b[0;34m=\u001b[0m\u001b[0;34m'sys'\u001b[0m\u001b[0;34m)\u001b[0m  \u001b[0;31m# name should be\u001b[0m\u001b[0;34m\u001b[0m\u001b[0;34m\u001b[0m\u001b[0m\n\u001b[1;32m      8\u001b[0m \u001b[0;34m\u001b[0m\u001b[0m\n\u001b[0;32m----> 9\u001b[0;31m \u001b[0manalyzer\u001b[0m\u001b[0;34m.\u001b[0m\u001b[0mcompare_models\u001b[0m\u001b[0;34m(\u001b[0m\u001b[0magent_list\u001b[0m\u001b[0;34m=\u001b[0m\u001b[0;34m[\u001b[0m\u001b[0msys_agent2\u001b[0m\u001b[0;34m,\u001b[0m \u001b[0msys_agent2\u001b[0m\u001b[0;34m]\u001b[0m\u001b[0;34m,\u001b[0m \u001b[0mmodel_name\u001b[0m\u001b[0;34m=\u001b[0m\u001b[0;34m[\u001b[0m\u001b[0;34m'sys_agent1'\u001b[0m\u001b[0;34m,\u001b[0m \u001b[0;34m'sys_agent2'\u001b[0m\u001b[0;34m]\u001b[0m\u001b[0;34m,\u001b[0m \u001b[0mtotal_dialog\u001b[0m\u001b[0;34m=\u001b[0m\u001b[0;36m20\u001b[0m\u001b[0;34m)\u001b[0m\u001b[0;34m\u001b[0m\u001b[0;34m\u001b[0m\u001b[0m\n\u001b[0m",
            "\u001b[0;32m/ext/samsung_dialogue_tutorial/ConvLab-2/convlab2/util/analysis_tool/analyzer.py\u001b[0m in \u001b[0;36mcompare_models\u001b[0;34m(self, agent_list, model_name, total_dialog)\u001b[0m\n\u001b[1;32m    233\u001b[0m             \u001b[0mtorch\u001b[0m\u001b[0;34m.\u001b[0m\u001b[0mmanual_seed\u001b[0m\u001b[0;34m(\u001b[0m\u001b[0mseed\u001b[0m\u001b[0;34m)\u001b[0m\u001b[0;34m\u001b[0m\u001b[0;34m\u001b[0m\u001b[0m\n\u001b[1;32m    234\u001b[0m             \u001b[0;31m# print(model_name[i], total_dialog)\u001b[0m\u001b[0;34m\u001b[0m\u001b[0;34m\u001b[0m\u001b[0;34m\u001b[0m\u001b[0m\n\u001b[0;32m--> 235\u001b[0;31m             \u001b[0mcomplete\u001b[0m\u001b[0;34m,\u001b[0m \u001b[0msuc\u001b[0m\u001b[0;34m,\u001b[0m \u001b[0mpre\u001b[0m\u001b[0;34m,\u001b[0m \u001b[0mrec\u001b[0m\u001b[0;34m,\u001b[0m \u001b[0mf1\u001b[0m\u001b[0;34m,\u001b[0m \u001b[0mmatch\u001b[0m\u001b[0;34m,\u001b[0m \u001b[0mturn\u001b[0m \u001b[0;34m=\u001b[0m \u001b[0mself\u001b[0m\u001b[0;34m.\u001b[0m\u001b[0mcomprehensive_analyze\u001b[0m\u001b[0;34m(\u001b[0m\u001b[0magent_list\u001b[0m\u001b[0;34m[\u001b[0m\u001b[0mi\u001b[0m\u001b[0;34m]\u001b[0m\u001b[0;34m,\u001b[0m \u001b[0mmodel_name\u001b[0m\u001b[0;34m[\u001b[0m\u001b[0mi\u001b[0m\u001b[0;34m]\u001b[0m\u001b[0;34m,\u001b[0m \u001b[0mtotal_dialog\u001b[0m\u001b[0;34m)\u001b[0m\u001b[0;34m\u001b[0m\u001b[0;34m\u001b[0m\u001b[0m\n\u001b[0m\u001b[1;32m    236\u001b[0m             \u001b[0my0\u001b[0m\u001b[0;34m.\u001b[0m\u001b[0mappend\u001b[0m\u001b[0;34m(\u001b[0m\u001b[0mcomplete\u001b[0m\u001b[0;34m)\u001b[0m\u001b[0;34m\u001b[0m\u001b[0;34m\u001b[0m\u001b[0m\n\u001b[1;32m    237\u001b[0m             \u001b[0my1\u001b[0m\u001b[0;34m.\u001b[0m\u001b[0mappend\u001b[0m\u001b[0;34m(\u001b[0m\u001b[0msuc\u001b[0m\u001b[0;34m)\u001b[0m\u001b[0;34m\u001b[0m\u001b[0;34m\u001b[0m\u001b[0m\n",
            "\u001b[0;32m/ext/samsung_dialogue_tutorial/ConvLab-2/convlab2/util/analysis_tool/analyzer.py\u001b[0m in \u001b[0;36mcomprehensive_analyze\u001b[0;34m(self, sys_agent, model_name, total_dialog)\u001b[0m\n\u001b[1;32m    106\u001b[0m             \u001b[0;32mfor\u001b[0m \u001b[0mi\u001b[0m \u001b[0;32min\u001b[0m \u001b[0mrange\u001b[0m\u001b[0;34m(\u001b[0m\u001b[0;36m40\u001b[0m\u001b[0;34m)\u001b[0m\u001b[0;34m:\u001b[0m\u001b[0;34m\u001b[0m\u001b[0;34m\u001b[0m\u001b[0m\n\u001b[1;32m    107\u001b[0m                 sys_response, user_response, session_over, reward = sess.next_turn(\n\u001b[0;32m--> 108\u001b[0;31m                     sys_response)\n\u001b[0m\u001b[1;32m    109\u001b[0m \u001b[0;34m\u001b[0m\u001b[0m\n\u001b[1;32m    110\u001b[0m                 \u001b[0;31m# print('user in', sess.user_agent.get_in_da())\u001b[0m\u001b[0;34m\u001b[0m\u001b[0;34m\u001b[0m\u001b[0;34m\u001b[0m\u001b[0m\n",
            "\u001b[0;32m/ext/samsung_dialogue_tutorial/ConvLab-2/convlab2/dialog_agent/session.py\u001b[0m in \u001b[0;36mnext_turn\u001b[0;34m(self, last_observation)\u001b[0m\n\u001b[1;32m    128\u001b[0m             \u001b[0;31m# print('task success {}'.format(self.evaluator.task_success()))\u001b[0m\u001b[0;34m\u001b[0m\u001b[0;34m\u001b[0m\u001b[0;34m\u001b[0m\u001b[0m\n\u001b[1;32m    129\u001b[0m         \u001b[0mreward\u001b[0m \u001b[0;34m=\u001b[0m \u001b[0mself\u001b[0m\u001b[0;34m.\u001b[0m\u001b[0muser_agent\u001b[0m\u001b[0;34m.\u001b[0m\u001b[0mget_reward\u001b[0m\u001b[0;34m(\u001b[0m\u001b[0;34m)\u001b[0m\u001b[0;34m\u001b[0m\u001b[0;34m\u001b[0m\u001b[0m\n\u001b[0;32m--> 130\u001b[0;31m         \u001b[0msys_response\u001b[0m \u001b[0;34m=\u001b[0m \u001b[0mself\u001b[0m\u001b[0;34m.\u001b[0m\u001b[0mnext_response\u001b[0m\u001b[0;34m(\u001b[0m\u001b[0muser_response\u001b[0m\u001b[0;34m)\u001b[0m\u001b[0;34m\u001b[0m\u001b[0;34m\u001b[0m\u001b[0m\n\u001b[0m\u001b[1;32m    131\u001b[0m         \u001b[0mself\u001b[0m\u001b[0;34m.\u001b[0m\u001b[0mdialog_history\u001b[0m\u001b[0;34m.\u001b[0m\u001b[0mappend\u001b[0m\u001b[0;34m(\u001b[0m\u001b[0;34m[\u001b[0m\u001b[0mself\u001b[0m\u001b[0;34m.\u001b[0m\u001b[0muser_agent\u001b[0m\u001b[0;34m.\u001b[0m\u001b[0mname\u001b[0m\u001b[0;34m,\u001b[0m \u001b[0muser_response\u001b[0m\u001b[0;34m]\u001b[0m\u001b[0;34m)\u001b[0m\u001b[0;34m\u001b[0m\u001b[0;34m\u001b[0m\u001b[0m\n\u001b[1;32m    132\u001b[0m         \u001b[0mself\u001b[0m\u001b[0;34m.\u001b[0m\u001b[0mdialog_history\u001b[0m\u001b[0;34m.\u001b[0m\u001b[0mappend\u001b[0m\u001b[0;34m(\u001b[0m\u001b[0;34m[\u001b[0m\u001b[0mself\u001b[0m\u001b[0;34m.\u001b[0m\u001b[0msys_agent\u001b[0m\u001b[0;34m.\u001b[0m\u001b[0mname\u001b[0m\u001b[0;34m,\u001b[0m \u001b[0msys_response\u001b[0m\u001b[0;34m]\u001b[0m\u001b[0;34m)\u001b[0m\u001b[0;34m\u001b[0m\u001b[0;34m\u001b[0m\u001b[0m\n",
            "\u001b[0;32m/ext/samsung_dialogue_tutorial/ConvLab-2/convlab2/dialog_agent/session.py\u001b[0m in \u001b[0;36mnext_response\u001b[0;34m(self, observation)\u001b[0m\n\u001b[1;32m     90\u001b[0m     \u001b[0;32mdef\u001b[0m \u001b[0mnext_response\u001b[0m\u001b[0;34m(\u001b[0m\u001b[0mself\u001b[0m\u001b[0;34m,\u001b[0m \u001b[0mobservation\u001b[0m\u001b[0;34m)\u001b[0m\u001b[0;34m:\u001b[0m\u001b[0;34m\u001b[0m\u001b[0;34m\u001b[0m\u001b[0m\n\u001b[1;32m     91\u001b[0m         \u001b[0mnext_agent\u001b[0m \u001b[0;34m=\u001b[0m \u001b[0mself\u001b[0m\u001b[0;34m.\u001b[0m\u001b[0mnext_agent\u001b[0m\u001b[0;34m(\u001b[0m\u001b[0;34m)\u001b[0m\u001b[0;34m\u001b[0m\u001b[0;34m\u001b[0m\u001b[0m\n\u001b[0;32m---> 92\u001b[0;31m         \u001b[0mresponse\u001b[0m \u001b[0;34m=\u001b[0m \u001b[0mnext_agent\u001b[0m\u001b[0;34m.\u001b[0m\u001b[0mresponse\u001b[0m\u001b[0;34m(\u001b[0m\u001b[0mobservation\u001b[0m\u001b[0;34m)\u001b[0m\u001b[0;34m\u001b[0m\u001b[0;34m\u001b[0m\u001b[0m\n\u001b[0m\u001b[1;32m     93\u001b[0m         \u001b[0;32mreturn\u001b[0m \u001b[0mresponse\u001b[0m\u001b[0;34m\u001b[0m\u001b[0;34m\u001b[0m\u001b[0m\n\u001b[1;32m     94\u001b[0m \u001b[0;34m\u001b[0m\u001b[0m\n",
            "\u001b[0;32m<ipython-input-4-12dcb80602ac>\u001b[0m in \u001b[0;36mresponse\u001b[0;34m(self, observation, print_nlu, print_dst, print_pol)\u001b[0m\n\u001b[1;32m    130\u001b[0m             \u001b[0mpprint\u001b[0m\u001b[0;34m(\u001b[0m\u001b[0;34m{\u001b[0m\u001b[0;34m'dialogue state'\u001b[0m\u001b[0;34m:\u001b[0m \u001b[0mstate\u001b[0m\u001b[0;34m[\u001b[0m\u001b[0;34m'belief_state'\u001b[0m\u001b[0;34m]\u001b[0m\u001b[0;34m,\u001b[0m \u001b[0;34m'history'\u001b[0m\u001b[0;34m:\u001b[0m \u001b[0mstate\u001b[0m\u001b[0;34m[\u001b[0m\u001b[0;34m'history'\u001b[0m\u001b[0;34m]\u001b[0m\u001b[0;34m}\u001b[0m\u001b[0;34m)\u001b[0m\u001b[0;34m\u001b[0m\u001b[0;34m\u001b[0m\u001b[0m\n\u001b[1;32m    131\u001b[0m         \u001b[0;31m# get action\u001b[0m\u001b[0;34m\u001b[0m\u001b[0;34m\u001b[0m\u001b[0;34m\u001b[0m\u001b[0m\n\u001b[0;32m--> 132\u001b[0;31m         \u001b[0mself\u001b[0m\u001b[0;34m.\u001b[0m\u001b[0moutput_action\u001b[0m \u001b[0;34m=\u001b[0m \u001b[0mdeepcopy\u001b[0m\u001b[0;34m(\u001b[0m\u001b[0mself\u001b[0m\u001b[0;34m.\u001b[0m\u001b[0mpolicy\u001b[0m\u001b[0;34m.\u001b[0m\u001b[0mpredict\u001b[0m\u001b[0;34m(\u001b[0m\u001b[0mstate\u001b[0m\u001b[0;34m)\u001b[0m\u001b[0;34m)\u001b[0m \u001b[0;31m# get rid of reference problem\u001b[0m\u001b[0;34m\u001b[0m\u001b[0;34m\u001b[0m\u001b[0m\n\u001b[0m\u001b[1;32m    133\u001b[0m         \u001b[0;32mif\u001b[0m \u001b[0mself\u001b[0m\u001b[0;34m.\u001b[0m\u001b[0mprint_pol\u001b[0m\u001b[0;34m:\u001b[0m\u001b[0;34m\u001b[0m\u001b[0;34m\u001b[0m\u001b[0m\n\u001b[1;32m    134\u001b[0m             \u001b[0mprint\u001b[0m\u001b[0;34m(\u001b[0m\u001b[0;34m\"dialogue act predict\"\u001b[0m\u001b[0;34m)\u001b[0m\u001b[0;34m\u001b[0m\u001b[0;34m\u001b[0m\u001b[0m\n",
            "\u001b[0;32m/ext/samsung_dialogue_tutorial/ConvLab-2/convlab2/policy/mle/mle.py\u001b[0m in \u001b[0;36mpredict\u001b[0;34m(self, state)\u001b[0m\n\u001b[1;32m     24\u001b[0m             \u001b[0maction\u001b[0m \u001b[0;34m:\u001b[0m \u001b[0mSystem\u001b[0m \u001b[0mact\u001b[0m\u001b[0;34m,\u001b[0m \u001b[0;32mwith\u001b[0m \u001b[0mthe\u001b[0m \u001b[0mform\u001b[0m \u001b[0mof\u001b[0m \u001b[0;34m(\u001b[0m\u001b[0mact_type\u001b[0m\u001b[0;34m,\u001b[0m \u001b[0;34m{\u001b[0m\u001b[0mslot_name_1\u001b[0m\u001b[0;34m:\u001b[0m \u001b[0mvalue_1\u001b[0m\u001b[0;34m,\u001b[0m \u001b[0mslot_name_2\u001b[0m\u001b[0;34m,\u001b[0m \u001b[0mvalue_2\u001b[0m\u001b[0;34m,\u001b[0m \u001b[0;34m...\u001b[0m\u001b[0;34m}\u001b[0m\u001b[0;34m)\u001b[0m\u001b[0;34m\u001b[0m\u001b[0;34m\u001b[0m\u001b[0m\n\u001b[1;32m     25\u001b[0m         \"\"\"\n\u001b[0;32m---> 26\u001b[0;31m         \u001b[0ms_vec\u001b[0m \u001b[0;34m=\u001b[0m \u001b[0mtorch\u001b[0m\u001b[0;34m.\u001b[0m\u001b[0mTensor\u001b[0m\u001b[0;34m(\u001b[0m\u001b[0mself\u001b[0m\u001b[0;34m.\u001b[0m\u001b[0mvector\u001b[0m\u001b[0;34m.\u001b[0m\u001b[0mstate_vectorize\u001b[0m\u001b[0;34m(\u001b[0m\u001b[0mstate\u001b[0m\u001b[0;34m)\u001b[0m\u001b[0;34m)\u001b[0m\u001b[0;34m\u001b[0m\u001b[0;34m\u001b[0m\u001b[0m\n\u001b[0m\u001b[1;32m     27\u001b[0m         \u001b[0ma\u001b[0m \u001b[0;34m=\u001b[0m \u001b[0mself\u001b[0m\u001b[0;34m.\u001b[0m\u001b[0mpolicy\u001b[0m\u001b[0;34m.\u001b[0m\u001b[0mselect_action\u001b[0m\u001b[0;34m(\u001b[0m\u001b[0ms_vec\u001b[0m\u001b[0;34m.\u001b[0m\u001b[0mto\u001b[0m\u001b[0;34m(\u001b[0m\u001b[0mdevice\u001b[0m\u001b[0;34m=\u001b[0m\u001b[0mDEVICE\u001b[0m\u001b[0;34m)\u001b[0m\u001b[0;34m,\u001b[0m \u001b[0;32mFalse\u001b[0m\u001b[0;34m)\u001b[0m\u001b[0;34m.\u001b[0m\u001b[0mcpu\u001b[0m\u001b[0;34m(\u001b[0m\u001b[0;34m)\u001b[0m\u001b[0;34m\u001b[0m\u001b[0;34m\u001b[0m\u001b[0m\n\u001b[1;32m     28\u001b[0m         \u001b[0maction\u001b[0m \u001b[0;34m=\u001b[0m \u001b[0mself\u001b[0m\u001b[0;34m.\u001b[0m\u001b[0mvector\u001b[0m\u001b[0;34m.\u001b[0m\u001b[0maction_devectorize\u001b[0m\u001b[0;34m(\u001b[0m\u001b[0ma\u001b[0m\u001b[0;34m.\u001b[0m\u001b[0mdetach\u001b[0m\u001b[0;34m(\u001b[0m\u001b[0;34m)\u001b[0m\u001b[0;34m.\u001b[0m\u001b[0mnumpy\u001b[0m\u001b[0;34m(\u001b[0m\u001b[0;34m)\u001b[0m\u001b[0;34m)\u001b[0m\u001b[0;34m\u001b[0m\u001b[0;34m\u001b[0m\u001b[0m\n",
            "\u001b[0;32m/ext/samsung_dialogue_tutorial/ConvLab-2/convlab2/policy/vector/vector_multiwoz.py\u001b[0m in \u001b[0;36mstate_vectorize\u001b[0;34m(self, state)\u001b[0m\n\u001b[1;32m    127\u001b[0m         \u001b[0;32mif\u001b[0m \u001b[0mself\u001b[0m\u001b[0;34m.\u001b[0m\u001b[0mcharacter\u001b[0m \u001b[0;34m==\u001b[0m \u001b[0;34m'sys'\u001b[0m\u001b[0;34m:\u001b[0m\u001b[0;34m\u001b[0m\u001b[0;34m\u001b[0m\u001b[0m\n\u001b[1;32m    128\u001b[0m             \u001b[0maction\u001b[0m \u001b[0;34m=\u001b[0m \u001b[0mstate\u001b[0m\u001b[0;34m[\u001b[0m\u001b[0;34m'user_action'\u001b[0m\u001b[0;34m]\u001b[0m\u001b[0;34m\u001b[0m\u001b[0;34m\u001b[0m\u001b[0m\n\u001b[0;32m--> 129\u001b[0;31m             \u001b[0;32mfor\u001b[0m \u001b[0mintent\u001b[0m\u001b[0;34m,\u001b[0m \u001b[0mdomain\u001b[0m\u001b[0;34m,\u001b[0m \u001b[0mslot\u001b[0m\u001b[0;34m,\u001b[0m \u001b[0mvalue\u001b[0m \u001b[0;32min\u001b[0m \u001b[0maction\u001b[0m\u001b[0;34m:\u001b[0m\u001b[0;34m\u001b[0m\u001b[0;34m\u001b[0m\u001b[0m\n\u001b[0m\u001b[1;32m    130\u001b[0m                 \u001b[0;32mif\u001b[0m \u001b[0mdomain\u001b[0m \u001b[0;32min\u001b[0m \u001b[0mself\u001b[0m\u001b[0;34m.\u001b[0m\u001b[0mdb_domains\u001b[0m\u001b[0;34m:\u001b[0m\u001b[0;34m\u001b[0m\u001b[0;34m\u001b[0m\u001b[0m\n\u001b[1;32m    131\u001b[0m                     \u001b[0mself\u001b[0m\u001b[0;34m.\u001b[0m\u001b[0mcur_domain\u001b[0m \u001b[0;34m=\u001b[0m \u001b[0mdomain\u001b[0m\u001b[0;34m\u001b[0m\u001b[0;34m\u001b[0m\u001b[0m\n",
            "\u001b[0;31mValueError\u001b[0m: not enough values to unpack (expected 4, got 1)"
          ]
        }
      ]
    },
    {
      "cell_type": "code",
      "execution_count": null,
      "metadata": {},
      "outputs": [],
      "source": []
    }
  ]
}