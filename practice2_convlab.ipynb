{
  "nbformat": 4,
  "nbformat_minor": 0,
  "metadata": {
    "colab": {
      "name": "Tutorial",
      "provenance": [],
      "collapsed_sections": [],
      "toc_visible": true
    },
    "kernelspec": {
      "name": "python_defaultSpec_1596358715370",
      "display_name": "Python 3.7.7 64-bit ('0813_dialogue_system': conda)"
    }
  },
  "cells": [
    {
      "cell_type": "markdown",
      "metadata": {
        "id": "x3qZ8fi1FAWS",
        "colab_type": "text"
      },
      "source": [
        "# Getting Started\n",
        "\n",
        "In this tutorial, you will know how to\n",
        "- use the models in **ConvLab-2** to build a dialog agent.\n",
        "- build a simulator to chat with the agent and evaluate the performance.\n",
        "- try different module combinations.\n",
        "- use analysis tool to diagnose your system.\n",
        "\n",
        "Let's get started!"
      ]
    },
    {
      "cell_type": "markdown",
      "metadata": {
        "id": "NvXG3UyBFFS3",
        "colab_type": "text"
      },
      "source": [
        "## Environment setup\n",
        "Run the command below to install ConvLab-2. Then restart the notebook and skip this commend."
      ]
    },
    {
      "cell_type": "code",
      "metadata": {
        "id": "qPqTs6EP0wxO",
        "colab_type": "code",
        "colab": {}
      },
      "source": [
        "# first install ConvLab-2 and restart the notebook\n",
        "! git clone https://github.com/thu-coai/ConvLab-2.git && cd ConvLab-2 && pip install -e ."
      ],
      "execution_count": null,
      "outputs": []
    },
    {
      "cell_type": "markdown",
      "metadata": {
        "id": "1TPEtcEpFiCU",
        "colab_type": "text"
      },
      "source": [
        "## build an agent\n",
        "\n",
        "We use the models adapted on [Multiwoz](https://www.aclweb.org/anthology/D18-1547)  dataset to build our agent. This pipeline agent consists of NLU, DST, Policy and NLG modules.\n",
        "\n",
        "First, import some models:"
      ]
    },
    {
      "cell_type": "code",
      "metadata": {
        "id": "OqzFlmCBCXEV",
        "colab_type": "code",
        "colab": {}
      },
      "source": [
        "# common import: convlab2.$module.$model.$dataset\n",
        "from convlab2.nlu.jointBERT.multiwoz import BERTNLU\n",
        "from convlab2.nlu.milu.multiwoz import MILU\n",
        "from convlab2.dst.rule.multiwoz import RuleDST\n",
        "from convlab2.policy.rule.multiwoz import RulePolicy\n",
        "from convlab2.nlg.template.multiwoz import TemplateNLG\n",
        "from convlab2.dialog_agent import PipelineAgent, BiSession\n",
        "from convlab2.evaluator.multiwoz_eval import MultiWozEvaluator\n",
        "from pprint import pprint\n",
        "import random\n",
        "import numpy as np\n",
        "import torch"
      ],
      "execution_count": 1,
      "outputs": []
    },
    {
      "cell_type": "markdown",
      "metadata": {
        "id": "N-18Q6YKGEzY",
        "colab_type": "text"
      },
      "source": [
        "Then, create the models and build an agent:"
      ]
    },
    {
      "cell_type": "code",
      "metadata": {
        "id": "-GPQgUD6GjHv",
        "colab_type": "code",
        "colab": {},
        "tags": []
      },
      "source": [
        "# go to README.md of each model for more information\n",
        "# BERT nlu\n",
        "sys_nlu = BERTNLU()\n",
        "# simple rule DST\n",
        "sys_dst = RuleDST()\n",
        "# rule policy\n",
        "sys_policy = PPOPolicy()\n",
        "# template NLG\n",
        "sys_nlg = TemplateNLG(is_user=False)\n",
        "# assemble\n",
        "sys_agent = PipelineAgent(sys_nlu, sys_dst, sys_policy, sys_nlg, name='sys')"
      ],
      "execution_count": 22,
      "outputs": [
        {
          "output_type": "stream",
          "name": "stderr",
          "text": "08/02/2020 18:32:38 - DEBUG - urllib3.connectionpool -   Starting new HTTPS connection (1): s3.amazonaws.com:443\n08/02/2020 18:32:39 - DEBUG - urllib3.connectionpool -   https://s3.amazonaws.com:443 \"HEAD /models.huggingface.co/bert/bert-base-uncased-vocab.txt HTTP/1.1\" 200 0\n08/02/2020 18:32:39 - INFO - transformers.tokenization_utils_base -   loading file https://s3.amazonaws.com/models.huggingface.co/bert/bert-base-uncased-vocab.txt from cache at /home/syseo/.cache/torch/transformers/26bc1ad6c0ac742e9b52263248f6d0f00068293b33709fae12320c0e35ccfbbb.542ce4285a40d23a559526243235df47c5f75c197f04f37d1a0c124c32c9a084\n08/02/2020 18:32:39 - DEBUG - urllib3.connectionpool -   Starting new HTTPS connection (1): s3.amazonaws.com:443\nintent num: 137\ntag num: 331\nLoad from /home/syseo/workspace/ConvLab-2/convlab2/nlu/jointBERT/multiwoz/output/all_context/pytorch_model.bin\nbert-base-uncased\n08/02/2020 18:32:40 - DEBUG - urllib3.connectionpool -   https://s3.amazonaws.com:443 \"HEAD /models.huggingface.co/bert/bert-base-uncased-config.json HTTP/1.1\" 200 0\n08/02/2020 18:32:40 - INFO - transformers.configuration_utils -   loading configuration file https://s3.amazonaws.com/models.huggingface.co/bert/bert-base-uncased-config.json from cache at /home/syseo/.cache/torch/transformers/4dad0251492946e18ac39290fcfe91b89d370fee250efe9521476438fe8ca185.7156163d5fdc189c3016baca0775ffce230789d7fa2a42ef516483e4ca884517\n08/02/2020 18:32:40 - INFO - transformers.configuration_utils -   Model config BertConfig {\n  \"architectures\": [\n    \"BertForMaskedLM\"\n  ],\n  \"attention_probs_dropout_prob\": 0.1,\n  \"gradient_checkpointing\": false,\n  \"hidden_act\": \"gelu\",\n  \"hidden_dropout_prob\": 0.1,\n  \"hidden_size\": 768,\n  \"initializer_range\": 0.02,\n  \"intermediate_size\": 3072,\n  \"layer_norm_eps\": 1e-12,\n  \"max_position_embeddings\": 512,\n  \"model_type\": \"bert\",\n  \"num_attention_heads\": 12,\n  \"num_hidden_layers\": 12,\n  \"pad_token_id\": 0,\n  \"type_vocab_size\": 2,\n  \"vocab_size\": 30522\n}\n\n08/02/2020 18:32:40 - DEBUG - urllib3.connectionpool -   Starting new HTTPS connection (1): cdn.huggingface.co:443\n08/02/2020 18:32:40 - DEBUG - urllib3.connectionpool -   https://cdn.huggingface.co:443 \"HEAD /bert-base-uncased-pytorch_model.bin HTTP/1.1\" 200 0\n08/02/2020 18:32:40 - INFO - transformers.modeling_utils -   loading weights file https://cdn.huggingface.co/bert-base-uncased-pytorch_model.bin from cache at /home/syseo/.cache/torch/transformers/f2ee78bdd635b758cc0a12352586868bef80e47401abe4c4fcc3832421e7338b.36ca03ab34a1a5d5fa7bc3d03d55c4fa650fed07220e2eeebc06ce58d0e9a157\n08/02/2020 18:32:42 - INFO - transformers.modeling_utils -   All model checkpoint weights were used when initializing BertModel.\n\n08/02/2020 18:32:42 - INFO - transformers.modeling_utils -   All the weights of BertModel were initialized from the model checkpoint at bert-base-uncased.\nIf your task is similar to the task the model of the ckeckpoint was trained on, you can already use BertModel for predictions without further training.\n08/02/2020 18:32:42 - DEBUG - urllib3.connectionpool -   Starting new HTTPS connection (1): convlab.blob.core.windows.net:443\nBERTNLU loaded\nLoad from https://convlab.blob.core.windows.net/convlab-2/ppo_policy_multiwoz.zip\n08/02/2020 18:32:43 - DEBUG - urllib3.connectionpool -   https://convlab.blob.core.windows.net:443 \"HEAD /convlab-2/ppo_policy_multiwoz.zip HTTP/1.1\" 200 0\n08/02/2020 18:32:43 - INFO - convlab2.util.allennlp_file_utils -   https://convlab.blob.core.windows.net/convlab-2/ppo_policy_multiwoz.zip not found in cache, downloading to /tmp/tmpae_bmqrr\n08/02/2020 18:32:43 - DEBUG - urllib3.connectionpool -   Starting new HTTPS connection (1): convlab.blob.core.windows.net:443\n08/02/2020 18:32:44 - DEBUG - urllib3.connectionpool -   https://convlab.blob.core.windows.net:443 \"GET /convlab-2/ppo_policy_multiwoz.zip HTTP/1.1\" 200 315241\n100%|██████████| 315241/315241 [00:00<00:00, 612266.28B/s]\n08/02/2020 18:32:44 - INFO - convlab2.util.allennlp_file_utils -   copying /tmp/tmpae_bmqrr to cache at /home/syseo/.convlab2/cache/88f0712731dd691c695ea5e86a0bfbeac94dc0d54fdcba9bf52e07fbd1522dd2.159cd3b5106a0172a030dae6bdd5898001030e08ee598e828e7b5f608809efbc\n08/02/2020 18:32:44 - INFO - convlab2.util.allennlp_file_utils -   creating metadata file for /home/syseo/.convlab2/cache/88f0712731dd691c695ea5e86a0bfbeac94dc0d54fdcba9bf52e07fbd1522dd2.159cd3b5106a0172a030dae6bdd5898001030e08ee598e828e7b5f608809efbc\n08/02/2020 18:32:44 - INFO - convlab2.util.allennlp_file_utils -   removing temp file /tmp/tmpae_bmqrr\n08/02/2020 18:32:44 - INFO - root -   <<dialog policy>> loaded checkpoint from file: /home/syseo/workspace/ConvLab-2/convlab2/policy/ppo/save/best_ppo.pol.mdl\n08/02/2020 18:32:44 - INFO - root -   <<dialog policy>> loaded checkpoint from file: /home/syseo/workspace/ConvLab-2/convlab2/policy/ppo/save/best_ppo.val.mdl\n"
        }
      ]
    },
    {
      "cell_type": "markdown",
      "metadata": {
        "id": "FvqIiO22H0Od",
        "colab_type": "text"
      },
      "source": [
        "That's all! Let's chat with the agent using its response function:"
      ]
    },
    {
      "cell_type": "code",
      "metadata": {
        "id": "9LYnDLysH1nX",
        "colab_type": "code",
        "colab": {}
      },
      "source": [
        "sys_agent.response(\"I want to find a moderate hotel\")"
      ],
      "execution_count": 23,
      "outputs": [
        {
          "output_type": "execute_result",
          "data": {
            "text/plain": "'The address is Parkside, Cambridge . The postcode is none .'"
          },
          "metadata": {},
          "execution_count": 23
        }
      ]
    },
    {
      "cell_type": "code",
      "metadata": {
        "id": "dAvi-IzsH474",
        "colab_type": "code",
        "colab": {}
      },
      "source": [
        "sys_agent.response(\"Which type of hotel is it ?\")"
      ],
      "execution_count": 24,
      "outputs": [
        {
          "output_type": "execute_result",
          "data": {
            "text/plain": "'The phone is 01223358966 . Did you need any further assistance today ?'"
          },
          "metadata": {},
          "execution_count": 24
        }
      ]
    },
    {
      "cell_type": "code",
      "metadata": {
        "id": "f0A6Pt4tH60c",
        "colab_type": "code",
        "colab": {}
      },
      "source": [
        "sys_agent.response(\"OK , where is its address ?\")"
      ],
      "execution_count": 25,
      "outputs": [
        {
          "output_type": "execute_result",
          "data": {
            "text/plain": "'The address is Parkside, Cambridge . The phone is 01223358966 . The postcode is none .'"
          },
          "metadata": {},
          "execution_count": 25
        }
      ]
    },
    {
      "cell_type": "code",
      "metadata": {
        "id": "8VH6yO6PH8Ua",
        "colab_type": "code",
        "colab": {}
      },
      "source": [
        "sys_agent.response(\"Thank you !\")"
      ],
      "execution_count": 26,
      "outputs": [
        {
          "output_type": "execute_result",
          "data": {
            "text/plain": "'Is there anything else I can help you with today ? You are welcome.'"
          },
          "metadata": {},
          "execution_count": 26
        }
      ]
    },
    {
      "cell_type": "code",
      "metadata": {
        "id": "wto-PxgNH9gp",
        "colab_type": "code",
        "colab": {}
      },
      "source": [
        "sys_agent.response(\"Try to find me a Chinese restaurant in south area .\")"
      ],
      "execution_count": 27,
      "outputs": [
        {
          "output_type": "execute_result",
          "data": {
            "text/plain": "'It is located in the south . I have 3 options for you !. It is chinese food . This is a expensive one . How about the good luck chinese food takeaway ?'"
          },
          "metadata": {},
          "execution_count": 27
        }
      ]
    },
    {
      "cell_type": "code",
      "metadata": {
        "id": "MJ9C1ZhbH_JY",
        "colab_type": "code",
        "colab": {}
      },
      "source": [
        "sys_agent.response(\"Which kind of food it provides ?\")"
      ],
      "execution_count": 28,
      "outputs": [
        {
          "output_type": "execute_result",
          "data": {
            "text/plain": "'It is located in the south . Would you like to try the good luck chinese food takeaway ? Is there anything else I can help you with ?'"
          },
          "metadata": {},
          "execution_count": 28
        }
      ]
    },
    {
      "cell_type": "code",
      "metadata": {
        "id": "DpaQNA_HIAmT",
        "colab_type": "code",
        "colab": {}
      },
      "source": [
        "sys_agent.response(\"Book a table for 5 , this Sunday .\")"
      ],
      "execution_count": 29,
      "outputs": [
        {
          "output_type": "execute_result",
          "data": {
            "text/plain": "\"I ' m sorry , I was unable to reserve rooms . Would you like to try anything else ? What day would you like to book ? Do you have a time preference ? Did you need any further assistance today ?\""
          },
          "metadata": {},
          "execution_count": 29
        }
      ]
    },
    {
      "cell_type": "markdown",
      "metadata": {
        "id": "n6uuuRonIHvW",
        "colab_type": "text"
      },
      "source": [
        "## Build a simulator to chat with the agent and evaluate\n",
        "\n",
        "In many one-to-one task-oriented dialog system, a simulator is essential to train an RL agent. In our framework, we doesn't distinguish user or system. All speakers are **agents**. The simulator is also an agent, with specific policy inside for accomplishing the user goal.\n",
        "\n",
        "We use `Agenda` policy for the simulator, this policy requires dialog act input, which means we should set DST argument of `PipelineAgent` to None. Then the `PipelineAgent` will pass dialog act to policy directly. Refer to `PipelineAgent` doc for more details."
      ]
    },
    {
      "cell_type": "code",
      "metadata": {
        "id": "pAMAJZSF7D5w",
        "colab_type": "code",
        "colab": {},
        "tags": [
          "outputPrepend"
        ]
      },
      "source": [
        "# MILU\n",
        "user_nlu = MILU()\n",
        "# not use dst\n",
        "user_dst = None\n",
        "# rule policy\n",
        "user_policy = RulePolicy(character='usr')\n",
        "# template NLG\n",
        "user_nlg = TemplateNLG(is_user=True)\n",
        "# user_nlg = SCLSTM(is_user=True)\n",
        "# assemble\n",
        "user_agent = PipelineAgent(user_nlu, user_dst, user_policy, user_nlg, name='user')"
      ],
      "execution_count": 32,
      "outputs": [
        {
          "output_type": "stream",
          "name": "stderr",
          "text": "': 0.5, 'hidden_size': 200, 'input_size': 400, 'num_layers': 1, 'type': 'lstm'}, 'label_encoding': 'BIO', 'regularizer': [['scalar_parameters', {'alpha': 0.1, 'type': 'l2'}]], 'text_field_embedder': {'token_embedders': {'token_characters': {'embedding': {'embedding_dim': 16}, 'encoder': {'conv_layer_activation': 'relu', 'embedding_dim': 16, 'ngram_filter_sizes': [3], 'num_filters': 128, 'type': 'cnn'}, 'type': 'character_encoding'}, 'tokens': {'embedding_dim': 50, 'trainable': True, 'type': 'embedding'}}}, 'type': 'milu'} and extras {'vocab'}\n08/02/2020 18:36:49 - INFO - allennlp.common.params -   model.type = milu\n08/02/2020 18:36:49 - INFO - allennlp.common.from_params -   instantiating class <class 'convlab2.nlu.milu.model.MILU'> from params {'attention': {'matrix_dim': 400, 'type': 'bilinear', 'vector_dim': 400}, 'attention_for_intent': False, 'attention_for_tag': False, 'context_for_intent': True, 'context_for_tag': False, 'dropout': 0.3, 'encoder': {'bidirectional': True, 'dropout': 0.5, 'hidden_size': 200, 'input_size': 178, 'num_layers': 1, 'type': 'lstm'}, 'include_start_end_transitions': False, 'intent_encoder': {'bidirectional': True, 'dropout': 0.5, 'hidden_size': 200, 'input_size': 400, 'num_layers': 1, 'type': 'lstm'}, 'label_encoding': 'BIO', 'regularizer': [['scalar_parameters', {'alpha': 0.1, 'type': 'l2'}]], 'text_field_embedder': {'token_embedders': {'token_characters': {'embedding': {'embedding_dim': 16}, 'encoder': {'conv_layer_activation': 'relu', 'embedding_dim': 16, 'ngram_filter_sizes': [3], 'num_filters': 128, 'type': 'cnn'}, 'type': 'character_encoding'}, 'tokens': {'embedding_dim': 50, 'trainable': True, 'type': 'embedding'}}}} and extras {'vocab'}\n08/02/2020 18:36:49 - INFO - allennlp.common.from_params -   instantiating class <class 'allennlp.modules.text_field_embedders.text_field_embedder.TextFieldEmbedder'> from params {'token_embedders': {'token_characters': {'embedding': {'embedding_dim': 16}, 'encoder': {'conv_layer_activation': 'relu', 'embedding_dim': 16, 'ngram_filter_sizes': [3], 'num_filters': 128, 'type': 'cnn'}, 'type': 'character_encoding'}, 'tokens': {'embedding_dim': 50, 'trainable': True, 'type': 'embedding'}}} and extras {'vocab'}\n08/02/2020 18:36:49 - INFO - allennlp.common.params -   model.text_field_embedder.type = basic\n08/02/2020 18:36:49 - INFO - allennlp.common.params -   model.text_field_embedder.embedder_to_indexer_map = None\n08/02/2020 18:36:49 - INFO - allennlp.common.params -   model.text_field_embedder.allow_unmatched_keys = False\n08/02/2020 18:36:49 - INFO - allennlp.common.from_params -   instantiating class <class 'allennlp.modules.token_embedders.token_embedder.TokenEmbedder'> from params {'embedding': {'embedding_dim': 16}, 'encoder': {'conv_layer_activation': 'relu', 'embedding_dim': 16, 'ngram_filter_sizes': [3], 'num_filters': 128, 'type': 'cnn'}, 'type': 'character_encoding'} and extras {'vocab'}\n08/02/2020 18:36:49 - INFO - allennlp.common.params -   model.text_field_embedder.token_embedders.token_characters.type = character_encoding\n08/02/2020 18:36:49 - INFO - allennlp.common.params -   model.text_field_embedder.token_embedders.token_characters.embedding.num_embeddings = None\n08/02/2020 18:36:49 - INFO - allennlp.common.params -   model.text_field_embedder.token_embedders.token_characters.embedding.vocab_namespace = token_characters\n08/02/2020 18:36:49 - INFO - allennlp.common.params -   model.text_field_embedder.token_embedders.token_characters.embedding.embedding_dim = 16\n08/02/2020 18:36:49 - INFO - allennlp.common.params -   model.text_field_embedder.token_embedders.token_characters.embedding.pretrained_file = None\n08/02/2020 18:36:49 - INFO - allennlp.common.params -   model.text_field_embedder.token_embedders.token_characters.embedding.projection_dim = None\n08/02/2020 18:36:49 - INFO - allennlp.common.params -   model.text_field_embedder.token_embedders.token_characters.embedding.trainable = True\n08/02/2020 18:36:49 - INFO - allennlp.common.params -   model.text_field_embedder.token_embedders.token_characters.embedding.padding_index = None\n08/02/2020 18:36:49 - INFO - allennlp.common.params -   model.text_field_embedder.token_embedders.token_characters.embedding.max_norm = None\n08/02/2020 18:36:49 - INFO - allennlp.common.params -   model.text_field_embedder.token_embedders.token_characters.embedding.norm_type = 2.0\n08/02/2020 18:36:49 - INFO - allennlp.common.params -   model.text_field_embedder.token_embedders.token_characters.embedding.scale_grad_by_freq = False\n08/02/2020 18:36:49 - INFO - allennlp.common.params -   model.text_field_embedder.token_embedders.token_characters.embedding.sparse = False\n08/02/2020 18:36:49 - INFO - allennlp.common.from_params -   instantiating class <class 'allennlp.modules.seq2vec_encoders.seq2vec_encoder.Seq2VecEncoder'> from params {'conv_layer_activation': 'relu', 'embedding_dim': 16, 'ngram_filter_sizes': [3], 'num_filters': 128, 'type': 'cnn'} and extras set()\n08/02/2020 18:36:49 - INFO - allennlp.common.params -   model.text_field_embedder.token_embedders.token_characters.encoder.type = cnn\n08/02/2020 18:36:49 - INFO - allennlp.common.from_params -   instantiating class <class 'allennlp.modules.seq2vec_encoders.cnn_encoder.CnnEncoder'> from params {'conv_layer_activation': 'relu', 'embedding_dim': 16, 'ngram_filter_sizes': [3], 'num_filters': 128} and extras set()\n08/02/2020 18:36:49 - INFO - allennlp.common.params -   model.text_field_embedder.token_embedders.token_characters.encoder.embedding_dim = 16\n08/02/2020 18:36:49 - INFO - allennlp.common.params -   model.text_field_embedder.token_embedders.token_characters.encoder.num_filters = 128\n08/02/2020 18:36:49 - INFO - allennlp.common.params -   model.text_field_embedder.token_embedders.token_characters.encoder.ngram_filter_sizes = [3]\n08/02/2020 18:36:49 - INFO - allennlp.common.params -   model.text_field_embedder.token_embedders.token_characters.encoder.conv_layer_activation = relu\n08/02/2020 18:36:49 - INFO - allennlp.common.registrable -   instantiating registered subclass relu of <class 'allennlp.nn.activations.Activation'>\n08/02/2020 18:36:49 - INFO - allennlp.common.params -   model.text_field_embedder.token_embedders.token_characters.encoder.output_dim = None\n08/02/2020 18:36:49 - INFO - allennlp.common.params -   model.text_field_embedder.token_embedders.token_characters.dropout = 0.0\n08/02/2020 18:36:49 - INFO - allennlp.common.from_params -   instantiating class <class 'allennlp.modules.token_embedders.token_embedder.TokenEmbedder'> from params {'embedding_dim': 50, 'trainable': True, 'type': 'embedding'} and extras {'vocab'}\n08/02/2020 18:36:49 - INFO - allennlp.common.params -   model.text_field_embedder.token_embedders.tokens.type = embedding\n08/02/2020 18:36:49 - INFO - allennlp.common.params -   model.text_field_embedder.token_embedders.tokens.num_embeddings = None\n08/02/2020 18:36:49 - INFO - allennlp.common.params -   model.text_field_embedder.token_embedders.tokens.vocab_namespace = tokens\n08/02/2020 18:36:49 - INFO - allennlp.common.params -   model.text_field_embedder.token_embedders.tokens.embedding_dim = 50\n08/02/2020 18:36:49 - INFO - allennlp.common.params -   model.text_field_embedder.token_embedders.tokens.pretrained_file = None\n08/02/2020 18:36:49 - INFO - allennlp.common.params -   model.text_field_embedder.token_embedders.tokens.projection_dim = None\n08/02/2020 18:36:49 - INFO - allennlp.common.params -   model.text_field_embedder.token_embedders.tokens.trainable = True\n08/02/2020 18:36:49 - INFO - allennlp.common.params -   model.text_field_embedder.token_embedders.tokens.padding_index = None\n08/02/2020 18:36:49 - INFO - allennlp.common.params -   model.text_field_embedder.token_embedders.tokens.max_norm = None\n08/02/2020 18:36:49 - INFO - allennlp.common.params -   model.text_field_embedder.token_embedders.tokens.norm_type = 2.0\n08/02/2020 18:36:49 - INFO - allennlp.common.params -   model.text_field_embedder.token_embedders.tokens.scale_grad_by_freq = False\n08/02/2020 18:36:49 - INFO - allennlp.common.params -   model.text_field_embedder.token_embedders.tokens.sparse = False\n08/02/2020 18:36:49 - INFO - allennlp.common.from_params -   instantiating class <class 'allennlp.modules.seq2seq_encoders.seq2seq_encoder.Seq2SeqEncoder'> from params {'bidirectional': True, 'dropout': 0.5, 'hidden_size': 200, 'input_size': 178, 'num_layers': 1, 'type': 'lstm'} and extras {'vocab'}\n08/02/2020 18:36:49 - INFO - allennlp.common.params -   model.encoder.type = lstm\n08/02/2020 18:36:49 - INFO - allennlp.common.params -   model.encoder.batch_first = True\n08/02/2020 18:36:49 - INFO - allennlp.common.params -   model.encoder.stateful = False\n08/02/2020 18:36:49 - INFO - allennlp.common.params -   Converting Params object to dict; logging of default values will not occur when dictionary parameters are used subsequently.\n08/02/2020 18:36:49 - INFO - allennlp.common.params -   CURRENTLY DEFINED PARAMETERS: \n08/02/2020 18:36:49 - INFO - allennlp.common.params -   model.encoder.bidirectional = True\n08/02/2020 18:36:49 - INFO - allennlp.common.params -   model.encoder.dropout = 0.5\n08/02/2020 18:36:49 - INFO - allennlp.common.params -   model.encoder.hidden_size = 200\n08/02/2020 18:36:49 - INFO - allennlp.common.params -   model.encoder.input_size = 178\n08/02/2020 18:36:49 - INFO - allennlp.common.params -   model.encoder.num_layers = 1\n08/02/2020 18:36:49 - INFO - allennlp.common.params -   model.encoder.batch_first = True\n08/02/2020 18:36:49 - INFO - allennlp.common.from_params -   instantiating class <class 'allennlp.modules.seq2seq_encoders.seq2seq_encoder.Seq2SeqEncoder'> from params {'bidirectional': True, 'dropout': 0.5, 'hidden_size': 200, 'input_size': 400, 'num_layers': 1, 'type': 'lstm'} and extras {'vocab'}\n08/02/2020 18:36:49 - INFO - allennlp.common.params -   model.intent_encoder.type = lstm\n08/02/2020 18:36:49 - INFO - allennlp.common.params -   model.intent_encoder.batch_first = True\n08/02/2020 18:36:49 - INFO - allennlp.common.params -   model.intent_encoder.stateful = False\n08/02/2020 18:36:49 - INFO - allennlp.common.params -   Converting Params object to dict; logging of default values will not occur when dictionary parameters are used subsequently.\n08/02/2020 18:36:49 - INFO - allennlp.common.params -   CURRENTLY DEFINED PARAMETERS: \n08/02/2020 18:36:49 - INFO - allennlp.common.params -   model.intent_encoder.bidirectional = True\n08/02/2020 18:36:49 - INFO - allennlp.common.params -   model.intent_encoder.dropout = 0.5\n08/02/2020 18:36:49 - INFO - allennlp.common.params -   model.intent_encoder.hidden_size = 200\n08/02/2020 18:36:49 - INFO - allennlp.common.params -   model.intent_encoder.input_size = 400\n08/02/2020 18:36:49 - INFO - allennlp.common.params -   model.intent_encoder.num_layers = 1\n08/02/2020 18:36:49 - INFO - allennlp.common.params -   model.intent_encoder.batch_first = True\n08/02/2020 18:36:49 - INFO - allennlp.common.from_params -   instantiating class <class 'allennlp.modules.attention.attention.Attention'> from params {'matrix_dim': 400, 'type': 'bilinear', 'vector_dim': 400} and extras {'vocab'}\n08/02/2020 18:36:49 - INFO - allennlp.common.params -   model.attention.type = bilinear\n08/02/2020 18:36:49 - INFO - allennlp.common.from_params -   instantiating class <class 'allennlp.modules.attention.bilinear_attention.BilinearAttention'> from params {'matrix_dim': 400, 'vector_dim': 400} and extras {'vocab'}\n08/02/2020 18:36:49 - INFO - allennlp.common.params -   model.attention.vector_dim = 400\n08/02/2020 18:36:49 - INFO - allennlp.common.params -   model.attention.matrix_dim = 400\n08/02/2020 18:36:49 - INFO - allennlp.common.params -   model.attention.normalize = True\n08/02/2020 18:36:49 - INFO - allennlp.common.registrable -   instantiating registered subclass linear of <class 'allennlp.nn.activations.Activation'>\n08/02/2020 18:36:49 - INFO - allennlp.common.params -   model.context_for_intent = True\n08/02/2020 18:36:49 - INFO - allennlp.common.params -   model.context_for_tag = False\n08/02/2020 18:36:49 - INFO - allennlp.common.params -   model.attention_for_intent = False\n08/02/2020 18:36:49 - INFO - allennlp.common.params -   model.attention_for_tag = False\n08/02/2020 18:36:49 - INFO - allennlp.common.params -   model.sequence_label_namespace = labels\n08/02/2020 18:36:49 - INFO - allennlp.common.params -   model.intent_label_namespace = intent_labels\n08/02/2020 18:36:49 - INFO - allennlp.common.params -   model.label_encoding = BIO\n08/02/2020 18:36:49 - INFO - allennlp.common.params -   model.include_start_end_transitions = False\n08/02/2020 18:36:49 - INFO - allennlp.common.params -   model.crf_decoding = False\n08/02/2020 18:36:49 - INFO - allennlp.common.params -   model.constrain_crf_decoding = None\n08/02/2020 18:36:49 - INFO - allennlp.common.params -   model.focal_loss_gamma = None\n08/02/2020 18:36:49 - INFO - allennlp.common.params -   model.nongeneral_intent_weight = 5.0\n08/02/2020 18:36:49 - INFO - allennlp.common.params -   model.num_train_examples = None\n08/02/2020 18:36:49 - INFO - allennlp.common.params -   model.calculate_span_f1 = None\n08/02/2020 18:36:49 - INFO - allennlp.common.params -   model.dropout = 0.3\n08/02/2020 18:36:49 - INFO - allennlp.common.params -   model.verbose_metrics = False\n08/02/2020 18:36:49 - INFO - allennlp.common.params -   model.regularizer.0.1.type = l2\n08/02/2020 18:36:49 - INFO - allennlp.common.registrable -   instantiating registered subclass l2 of <class 'allennlp.nn.regularizers.regularizer.Regularizer'>\n08/02/2020 18:36:49 - INFO - allennlp.nn.initializers -   Initializing parameters\n08/02/2020 18:36:49 - INFO - allennlp.nn.initializers -   Done initializing parameters; the following parameters are using their default initialization from their code\n08/02/2020 18:36:49 - INFO - allennlp.nn.initializers -      attention._bias\n08/02/2020 18:36:49 - INFO - allennlp.nn.initializers -      attention._weight_matrix\n08/02/2020 18:36:49 - INFO - allennlp.nn.initializers -      encoder._module.bias_hh_l0\n08/02/2020 18:36:49 - INFO - allennlp.nn.initializers -      encoder._module.bias_hh_l0_reverse\n08/02/2020 18:36:49 - INFO - allennlp.nn.initializers -      encoder._module.bias_ih_l0\n08/02/2020 18:36:49 - INFO - allennlp.nn.initializers -      encoder._module.bias_ih_l0_reverse\n08/02/2020 18:36:49 - INFO - allennlp.nn.initializers -      encoder._module.weight_hh_l0\n08/02/2020 18:36:49 - INFO - allennlp.nn.initializers -      encoder._module.weight_hh_l0_reverse\n08/02/2020 18:36:49 - INFO - allennlp.nn.initializers -      encoder._module.weight_ih_l0\n08/02/2020 18:36:49 - INFO - allennlp.nn.initializers -      encoder._module.weight_ih_l0_reverse\n08/02/2020 18:36:49 - INFO - allennlp.nn.initializers -      intent_encoder._module.bias_hh_l0\n08/02/2020 18:36:49 - INFO - allennlp.nn.initializers -      intent_encoder._module.bias_hh_l0_reverse\n08/02/2020 18:36:49 - INFO - allennlp.nn.initializers -      intent_encoder._module.bias_ih_l0\n08/02/2020 18:36:49 - INFO - allennlp.nn.initializers -      intent_encoder._module.bias_ih_l0_reverse\n08/02/2020 18:36:49 - INFO - allennlp.nn.initializers -      intent_encoder._module.weight_hh_l0\n08/02/2020 18:36:49 - INFO - allennlp.nn.initializers -      intent_encoder._module.weight_hh_l0_reverse\n08/02/2020 18:36:49 - INFO - allennlp.nn.initializers -      intent_encoder._module.weight_ih_l0\n08/02/2020 18:36:49 - INFO - allennlp.nn.initializers -      intent_encoder._module.weight_ih_l0_reverse\n08/02/2020 18:36:49 - INFO - allennlp.nn.initializers -      intent_projection_layer.bias\n08/02/2020 18:36:49 - INFO - allennlp.nn.initializers -      intent_projection_layer.weight\n08/02/2020 18:36:49 - INFO - allennlp.nn.initializers -      tag_projection_layer._module.bias\n08/02/2020 18:36:49 - INFO - allennlp.nn.initializers -      tag_projection_layer._module.weight\n08/02/2020 18:36:49 - INFO - allennlp.nn.initializers -      text_field_embedder.token_embedder_token_characters._embedding._module.weight\n08/02/2020 18:36:49 - INFO - allennlp.nn.initializers -      text_field_embedder.token_embedder_token_characters._encoder._module.conv_layer_0.bias\n08/02/2020 18:36:49 - INFO - allennlp.nn.initializers -      text_field_embedder.token_embedder_token_characters._encoder._module.conv_layer_0.weight\n08/02/2020 18:36:49 - INFO - allennlp.nn.initializers -      text_field_embedder.token_embedder_tokens.weight\n08/02/2020 18:36:49 - INFO - allennlp.common.from_params -   instantiating class <class 'allennlp.data.dataset_readers.dataset_reader.DatasetReader'> from params {'context_size': 3, 'token_indexers': {'token_characters': {'min_padding_length': 3, 'type': 'characters'}, 'tokens': {'lowercase_tokens': True, 'type': 'single_id'}}, 'type': 'milu'} and extras set()\n08/02/2020 18:36:49 - INFO - allennlp.common.params -   dataset_reader.type = milu\n08/02/2020 18:36:49 - INFO - allennlp.common.from_params -   instantiating class <class 'convlab2.nlu.milu.dataset_reader.MILUDatasetReader'> from params {'context_size': 3, 'token_indexers': {'token_characters': {'min_padding_length': 3, 'type': 'characters'}, 'tokens': {'lowercase_tokens': True, 'type': 'single_id'}}} and extras set()\n08/02/2020 18:36:49 - INFO - allennlp.common.params -   dataset_reader.context_size = 3\n08/02/2020 18:36:49 - INFO - allennlp.common.params -   dataset_reader.agent = None\n08/02/2020 18:36:49 - INFO - allennlp.common.params -   dataset_reader.random_context_size = True\n08/02/2020 18:36:49 - INFO - allennlp.common.params -   dataset_reader.token_delimiter = None\n08/02/2020 18:36:49 - INFO - allennlp.common.from_params -   instantiating class <class 'allennlp.data.token_indexers.token_indexer.TokenIndexer'> from params {'min_padding_length': 3, 'type': 'characters'} and extras set()\n08/02/2020 18:36:49 - INFO - allennlp.common.params -   dataset_reader.token_indexers.token_characters.type = characters\n08/02/2020 18:36:49 - INFO - allennlp.common.from_params -   instantiating class <class 'allennlp.data.token_indexers.token_characters_indexer.TokenCharactersIndexer'> from params {'min_padding_length': 3} and extras set()\n08/02/2020 18:36:49 - INFO - allennlp.common.params -   dataset_reader.token_indexers.token_characters.namespace = token_characters\n08/02/2020 18:36:49 - INFO - allennlp.common.params -   dataset_reader.token_indexers.token_characters.start_tokens = None\n08/02/2020 18:36:49 - INFO - allennlp.common.params -   dataset_reader.token_indexers.token_characters.end_tokens = None\n08/02/2020 18:36:49 - INFO - allennlp.common.params -   dataset_reader.token_indexers.token_characters.min_padding_length = 3\n08/02/2020 18:36:49 - INFO - allennlp.common.params -   dataset_reader.token_indexers.token_characters.token_min_padding_length = 0\n08/02/2020 18:36:49 - INFO - allennlp.common.from_params -   instantiating class <class 'allennlp.data.token_indexers.token_indexer.TokenIndexer'> from params {'lowercase_tokens': True, 'type': 'single_id'} and extras set()\n08/02/2020 18:36:49 - INFO - allennlp.common.params -   dataset_reader.token_indexers.tokens.type = single_id\n08/02/2020 18:36:49 - INFO - allennlp.common.from_params -   instantiating class <class 'allennlp.data.token_indexers.single_id_token_indexer.SingleIdTokenIndexer'> from params {'lowercase_tokens': True} and extras set()\n08/02/2020 18:36:49 - INFO - allennlp.common.params -   dataset_reader.token_indexers.tokens.namespace = tokens\n08/02/2020 18:36:49 - INFO - allennlp.common.params -   dataset_reader.token_indexers.tokens.lowercase_tokens = True\n08/02/2020 18:36:49 - INFO - allennlp.common.params -   dataset_reader.token_indexers.tokens.start_tokens = None\n08/02/2020 18:36:49 - INFO - allennlp.common.params -   dataset_reader.token_indexers.tokens.end_tokens = None\n08/02/2020 18:36:49 - INFO - allennlp.common.params -   dataset_reader.token_indexers.tokens.token_min_padding_length = 0\n08/02/2020 18:36:49 - INFO - allennlp.common.params -   dataset_reader.lazy = False\nLoading goal model is done\n"
        }
      ]
    },
    {
      "cell_type": "markdown",
      "metadata": {
        "id": "Rghl-V2AJhRY",
        "colab_type": "text"
      },
      "source": [
        "\n",
        "Now we have a simulator and an agent. we will use an existed simple one-to-one conversation controller BiSession, you can also define your own Session class for your special need.\n",
        "\n",
        "We add `MultiWozEvaluator` to evaluate the performance. It uses the parsed dialog act input and policy output dialog act to calculate **inform f1**, **book rate**, and whether the task is **success**."
      ]
    },
    {
      "cell_type": "code",
      "metadata": {
        "id": "saUoLUUGJqDa",
        "colab_type": "code",
        "colab": {}
      },
      "source": [
        "evaluator = MultiWozEvaluator()\n",
        "sess = BiSession(sys_agent=sys_agent, user_agent=user_agent, kb_query=None, evaluator=evaluator)"
      ],
      "execution_count": 11,
      "outputs": []
    },
    {
      "cell_type": "markdown",
      "metadata": {
        "id": "kevGJZhFJzTU",
        "colab_type": "text"
      },
      "source": [
        "Let's make this two agents chat! The key is `next_turn` method of `BiSession` class."
      ]
    },
    {
      "cell_type": "code",
      "metadata": {
        "id": "FIV_qkE49LzE",
        "colab_type": "code",
        "colab": {},
        "tags": []
      },
      "source": [
        "def set_seed(r_seed):\n",
        "    random.seed(r_seed)\n",
        "    np.random.seed(r_seed)\n",
        "    torch.manual_seed(r_seed)\n",
        "\n",
        "set_seed(20200131)\n",
        "\n",
        "sys_response = ''\n",
        "sess.init_session()\n",
        "print('init goal:')\n",
        "pprint(sess.evaluator.goal)\n",
        "print('-'*50)\n",
        "for i in range(20):\n",
        "    sys_response, user_response, session_over, reward = sess.next_turn(sys_response)\n",
        "    print('user:', user_response)\n",
        "    print('sys:', sys_response)\n",
        "    print()\n",
        "    if session_over is True:\n",
        "        break\n",
        "print('task success:', sess.evaluator.task_success())\n",
        "print('book rate:', sess.evaluator.book_rate())\n",
        "print('inform precision/recall/f1:', sess.evaluator.inform_F1())\n",
        "print('-'*50)\n",
        "print('final goal:')\n",
        "pprint(sess.evaluator.goal)\n",
        "print('='*100)"
      ],
      "execution_count": 12,
      "outputs": [
        {
          "output_type": "stream",
          "name": "stdout",
          "text": "init goal:\n{'restaurant': {'info': {'area': 'west', 'pricerange': 'moderate'},\n                'reqt': {'phone': '?'}},\n 'train': {'info': {'arriveBy': '10:45',\n                    'day': 'sunday',\n                    'departure': 'norwich',\n                    'destination': 'cambridge'},\n           'reqt': {'price': '?'}}}\n--------------------------------------------------\nuser: I need to find information about a certain restaurant , can you help with that ? I am looking for a moderate restaurant . Is that located in the west ?\nsys: I recommend saint johns chop house. Okay , may I suggest british food ? Yes there are 3 different places that match your description .\n\nuser: What is the phone number ?\nsys: It is 01799521260 .\n\nuser: I also need a train. I need to find a train to cambridge please . I ' m departing from norwich . I would like to leave on sunday .\nsys: When would you like to leave by ? Is there a time you need to arrive by ?\n\nuser: Well I want to arrive by 10:45 . I don't care about the leave of the train.\nsys: I don't care about the leave of the train. Would you like me to book the 10:45 train ? I can book you on sunday. Woudl you like me to book a train to cambridge for you ? Woudl you like me to book a train from norwich for you ?\n\nuser: What is the price of a ticket , please ?\nsys: The cost of the one way journey is 14.08 pounds .\n\nuser: That 's all I need today . Thanks ! Bye !.\nsys: Thank you and enjoy your visit . Have a great day .\n\ntask success: 1\nbook rate: None\ninform precision/recall/f1: (0.6666666666666666, 1.0, 0.8)\n--------------------------------------------------\nfinal goal:\n{'restaurant': {'info': {'area': 'west', 'pricerange': 'moderate'},\n                'reqt': {'phone': '01799521260'}},\n 'train': {'info': {'arriveBy': '10:45',\n                    'day': 'sunday',\n                    'departure': 'norwich',\n                    'destination': 'cambridge'},\n           'reqt': {'price': '14.08 pounds'}}}\n====================================================================================================\n"
        }
      ]
    },
    {
      "cell_type": "markdown",
      "metadata": {
        "id": "CKOQs1l8LpTR",
        "colab_type": "text"
      },
      "source": [
        "## Try different module combinations\n",
        "\n",
        "The combination modes of pipeline agent modules are flexible. We support joint models such as MDBT, TRADE, SUMBT for word-DST and MDRG, HDSA, LaRL for word-Policy, once the input and output are matched with previous and next module. We also support End2End models such as Sequicity.\n",
        "\n",
        "Available models:\n",
        "\n",
        "- NLU: BERTNLU, MILU, SVMNLU\n",
        "- DST: RuleDST\n",
        "- Word-DST: SUMBT, TRADE, MDBT (set `sys_nlu` to `None`)\n",
        "- Policy: RulePolicy, Imitation, REINFORCE, PPO, GDPL\n",
        "- Word-Policy: MDRG, HDSA, LaRL (set `sys_nlg` to `None`)\n",
        "- NLG: Template, SCLSTM\n",
        "- End2End: Sequicity, DAMD, RNN_rollout (directly used as `sys_agent`)\n",
        "- Simulator policy: Agenda, VHUS (for `user_policy`)\n"
      ]
    },
    {
      "cell_type": "code",
      "metadata": {
        "id": "G-9G0VYUNYOI",
        "colab_type": "code",
        "colab": {},
        "tags": []
      },
      "source": [
        "# available NLU models\n",
        "from convlab2.nlu.svm.multiwoz import SVMNLU\n",
        "from convlab2.nlu.jointBERT.multiwoz import BERTNLU\n",
        "from convlab2.nlu.milu.multiwoz import MILU\n",
        "# available DST models\n",
        "from convlab2.dst.rule.multiwoz import RuleDST\n",
        "from convlab2.dst.mdbt.multiwoz import MDBT\n",
        "from convlab2.dst.sumbt.multiwoz import SUMBT\n",
        "from convlab2.dst.trade.multiwoz import TRADE\n",
        "# available Policy models\n",
        "from convlab2.policy.rule.multiwoz import RulePolicy\n",
        "from convlab2.policy.ppo.multiwoz import PPOPolicy\n",
        "from convlab2.policy.pg.multiwoz import PGPolicy\n",
        "from convlab2.policy.mle.multiwoz import MLEPolicy\n",
        "from convlab2.policy.gdpl.multiwoz import GDPLPolicy\n",
        "from convlab2.policy.vhus.multiwoz import UserPolicyVHUS\n",
        "from convlab2.policy.mdrg.multiwoz import MDRGWordPolicy\n",
        "from convlab2.policy.hdsa.multiwoz import HDSA\n",
        "from convlab2.policy.larl.multiwoz import LaRL\n",
        "# available NLG models\n",
        "from convlab2.nlg.template.multiwoz import TemplateNLG\n",
        "from convlab2.nlg.sclstm.multiwoz import SCLSTM\n",
        "# available E2E models\n",
        "from convlab2.e2e.sequicity.multiwoz import Sequicity\n",
        "from convlab2.e2e.damd.multiwoz import Damd"
      ],
      "execution_count": 13,
      "outputs": [
        {
          "output_type": "stream",
          "name": "stdout",
          "text": "WARNING:tensorflow:From /home/syseo/workspace/ConvLab-2/convlab2/dst/mdbt/mdbt_util.py:62: The name tf.nn.rnn_cell.RNNCell is deprecated. Please use tf.compat.v1.nn.rnn_cell.RNNCell instead.\n\nDownloading from:  https://convlab.blob.core.windows.net/convlab-2/mdrg_model.zip\nLoad from https://convlab.blob.core.windows.net/convlab-2/mdrg_model.zip\n08/02/2020 18:07:01 - INFO - convlab2.util.allennlp_file_utils -   https://convlab.blob.core.windows.net/convlab-2/mdrg_model.zip not found in cache, downloading to /tmp/tmpfwukx3ri\n100%|██████████| 21577107/21577107 [00:09<00:00, 2294215.78B/s]\n08/02/2020 18:07:12 - INFO - convlab2.util.allennlp_file_utils -   copying /tmp/tmpfwukx3ri to cache at /home/syseo/.convlab2/cache/b0bc758ff68dc79ef5287ddd38b6267f8784df273b2e6f7e496a1e9031c65ca5.ea9a4a5a9034b22be1093ea89deb230956f14487e2c2441b9ee59cef0fc252a2\n08/02/2020 18:07:12 - INFO - convlab2.util.allennlp_file_utils -   creating metadata file for /home/syseo/.convlab2/cache/b0bc758ff68dc79ef5287ddd38b6267f8784df273b2e6f7e496a1e9031c65ca5.ea9a4a5a9034b22be1093ea89deb230956f14487e2c2441b9ee59cef0fc252a2\n08/02/2020 18:07:12 - INFO - convlab2.util.allennlp_file_utils -   removing temp file /tmp/tmpfwukx3ri\nExtracting...\nDownloading from:  https://convlab.blob.core.windows.net/convlab-2/mdrg_data.zip\nLoad from https://convlab.blob.core.windows.net/convlab-2/mdrg_data.zip\n08/02/2020 18:07:12 - INFO - convlab2.util.allennlp_file_utils -   https://convlab.blob.core.windows.net/convlab-2/mdrg_data.zip not found in cache, downloading to /tmp/tmpej86y7zy\n100%|██████████| 47104409/47104409 [00:19<00:00, 2454281.05B/s]\n08/02/2020 18:07:32 - INFO - convlab2.util.allennlp_file_utils -   copying /tmp/tmpej86y7zy to cache at /home/syseo/.convlab2/cache/00a406587d87174b74198f14cae25cd2054923a471c59233f27ec80caef23686.da1518d0f3a98f95e2be9aee8474275aa3e182c5b9faccf16e9deac38752afce\n08/02/2020 18:07:32 - INFO - convlab2.util.allennlp_file_utils -   creating metadata file for /home/syseo/.convlab2/cache/00a406587d87174b74198f14cae25cd2054923a471c59233f27ec80caef23686.da1518d0f3a98f95e2be9aee8474275aa3e182c5b9faccf16e9deac38752afce\n08/02/2020 18:07:32 - INFO - convlab2.util.allennlp_file_utils -   removing temp file /tmp/tmpej86y7zy\nExtracting...\nDownloading from:  https://convlab.blob.core.windows.net/convlab-2/mdrg_db.zip\nLoad from https://convlab.blob.core.windows.net/convlab-2/mdrg_db.zip\n08/02/2020 18:07:35 - INFO - convlab2.util.allennlp_file_utils -   https://convlab.blob.core.windows.net/convlab-2/mdrg_db.zip not found in cache, downloading to /tmp/tmpkp1u2hil\n100%|██████████| 183081/183081 [00:00<00:00, 470596.86B/s]\n08/02/2020 18:07:36 - INFO - convlab2.util.allennlp_file_utils -   copying /tmp/tmpkp1u2hil to cache at /home/syseo/.convlab2/cache/a9766cc757fb79e7ac5266715dd065c687f884e5dc06840bba4d3b07307eb95b.b7bac7303e20c54957b367fa386215aaa595d5df9fb04341554b2067d458679c\n08/02/2020 18:07:36 - INFO - convlab2.util.allennlp_file_utils -   creating metadata file for /home/syseo/.convlab2/cache/a9766cc757fb79e7ac5266715dd065c687f884e5dc06840bba4d3b07307eb95b.b7bac7303e20c54957b367fa386215aaa595d5df9fb04341554b2067d458679c\n08/02/2020 18:07:36 - INFO - convlab2.util.allennlp_file_utils -   removing temp file /tmp/tmpkp1u2hil\nExtracting...\n[nltk_data] Downloading package stopwords to /home/syseo/nltk_data...\n[nltk_data]   Unzipping corpora/stopwords.zip.\n"
        }
      ]
    },
    {
      "cell_type": "markdown",
      "metadata": {
        "id": "6TS2_Tp1Nzvq",
        "colab_type": "text"
      },
      "source": [
        "NLU+RuleDST or Word-DST:"
      ]
    },
    {
      "cell_type": "code",
      "metadata": {
        "id": "DZMk9wAlONrz",
        "colab_type": "code",
        "colab": {},
        "tags": []
      },
      "source": [
        "# NLU+RuleDST:\n",
        "sys_nlu = BERTNLU()\n",
        "# sys_nlu = MILU()\n",
        "# sys_nlu = SVMNLU()\n",
        "sys_dst = RuleDST()\n",
        "\n",
        "# or Word-DST:\n",
        "# sys_nlu = None\n",
        "# sys_dst = SUMBT()\n",
        "# sys_dst = TRADE()\n",
        "# sys_dst = MDBT()"
      ],
      "execution_count": 14,
      "outputs": [
        {
          "output_type": "stream",
          "name": "stderr",
          "text": "08/02/2020 18:07:37 - DEBUG - urllib3.connectionpool -   Starting new HTTPS connection (1): s3.amazonaws.com:443\n08/02/2020 18:07:38 - DEBUG - urllib3.connectionpool -   https://s3.amazonaws.com:443 \"HEAD /models.huggingface.co/bert/bert-base-uncased-vocab.txt HTTP/1.1\" 200 0\n08/02/2020 18:07:38 - INFO - transformers.tokenization_utils_base -   loading file https://s3.amazonaws.com/models.huggingface.co/bert/bert-base-uncased-vocab.txt from cache at /home/syseo/.cache/torch/transformers/26bc1ad6c0ac742e9b52263248f6d0f00068293b33709fae12320c0e35ccfbbb.542ce4285a40d23a559526243235df47c5f75c197f04f37d1a0c124c32c9a084\n08/02/2020 18:07:38 - DEBUG - urllib3.connectionpool -   Starting new HTTPS connection (1): s3.amazonaws.com:443\nintent num: 137\ntag num: 331\nLoad from /home/syseo/workspace/ConvLab-2/convlab2/nlu/jointBERT/multiwoz/output/all_context/pytorch_model.bin\nbert-base-uncased\n08/02/2020 18:07:39 - DEBUG - urllib3.connectionpool -   https://s3.amazonaws.com:443 \"HEAD /models.huggingface.co/bert/bert-base-uncased-config.json HTTP/1.1\" 200 0\n08/02/2020 18:07:39 - INFO - transformers.configuration_utils -   loading configuration file https://s3.amazonaws.com/models.huggingface.co/bert/bert-base-uncased-config.json from cache at /home/syseo/.cache/torch/transformers/4dad0251492946e18ac39290fcfe91b89d370fee250efe9521476438fe8ca185.7156163d5fdc189c3016baca0775ffce230789d7fa2a42ef516483e4ca884517\n08/02/2020 18:07:39 - INFO - transformers.configuration_utils -   Model config BertConfig {\n  \"architectures\": [\n    \"BertForMaskedLM\"\n  ],\n  \"attention_probs_dropout_prob\": 0.1,\n  \"gradient_checkpointing\": false,\n  \"hidden_act\": \"gelu\",\n  \"hidden_dropout_prob\": 0.1,\n  \"hidden_size\": 768,\n  \"initializer_range\": 0.02,\n  \"intermediate_size\": 3072,\n  \"layer_norm_eps\": 1e-12,\n  \"max_position_embeddings\": 512,\n  \"model_type\": \"bert\",\n  \"num_attention_heads\": 12,\n  \"num_hidden_layers\": 12,\n  \"pad_token_id\": 0,\n  \"type_vocab_size\": 2,\n  \"vocab_size\": 30522\n}\n\n08/02/2020 18:07:39 - DEBUG - urllib3.connectionpool -   Starting new HTTPS connection (1): cdn.huggingface.co:443\n08/02/2020 18:07:39 - DEBUG - urllib3.connectionpool -   https://cdn.huggingface.co:443 \"HEAD /bert-base-uncased-pytorch_model.bin HTTP/1.1\" 200 0\n08/02/2020 18:07:39 - INFO - transformers.modeling_utils -   loading weights file https://cdn.huggingface.co/bert-base-uncased-pytorch_model.bin from cache at /home/syseo/.cache/torch/transformers/f2ee78bdd635b758cc0a12352586868bef80e47401abe4c4fcc3832421e7338b.36ca03ab34a1a5d5fa7bc3d03d55c4fa650fed07220e2eeebc06ce58d0e9a157\n08/02/2020 18:07:41 - INFO - transformers.modeling_utils -   All model checkpoint weights were used when initializing BertModel.\n\n08/02/2020 18:07:41 - INFO - transformers.modeling_utils -   All the weights of BertModel were initialized from the model checkpoint at bert-base-uncased.\nIf your task is similar to the task the model of the ckeckpoint was trained on, you can already use BertModel for predictions without further training.\nBERTNLU loaded\n"
        }
      ]
    },
    {
      "cell_type": "markdown",
      "metadata": {
        "id": "gUUYsDMJPJRl",
        "colab_type": "text"
      },
      "source": [
        "Policy+NLG or Word-Policy:"
      ]
    },
    {
      "cell_type": "code",
      "metadata": {
        "id": "PTJ95x9UPHt4",
        "colab_type": "code",
        "colab": {},
        "tags": []
      },
      "source": [
        "# Policy+NLG:\n",
        "sys_policy = RulePolicy()\n",
        "# sys_policy = PPOPolicy()\n",
        "# sys_policy = PGPolicy()\n",
        "# sys_policy = MLEPolicy()\n",
        "# sys_policy = GDPLPolicy()\n",
        "# sys_nlg = TemplateNLG(is_user=False)\n",
        "sys_nlg = SCLSTM(is_user=False)\n",
        "\n",
        "# or Word-Policy:\n",
        "# sys_policy = LaRL()\n",
        "# sys_policy = HDSA()\n",
        "# sys_policy = MDRGWordPolicy()\n",
        "# sys_nlg = None"
      ],
      "execution_count": 30,
      "outputs": [
        {
          "output_type": "stream",
          "name": "stderr",
          "text": "08/02/2020 18:35:03 - DEBUG - urllib3.connectionpool -   Starting new HTTPS connection (1): convlab.blob.core.windows.net:443\nLoad from https://convlab.blob.core.windows.net/convlab-2/nlg_sclstm_multiwoz.zip\n08/02/2020 18:35:03 - DEBUG - urllib3.connectionpool -   https://convlab.blob.core.windows.net:443 \"HEAD /convlab-2/nlg_sclstm_multiwoz.zip HTTP/1.1\" 200 0\n08/02/2020 18:35:03 - INFO - convlab2.util.allennlp_file_utils -   https://convlab.blob.core.windows.net/convlab-2/nlg_sclstm_multiwoz.zip not found in cache, downloading to /tmp/tmpqvri1m1a\n08/02/2020 18:35:03 - DEBUG - urllib3.connectionpool -   Starting new HTTPS connection (1): convlab.blob.core.windows.net:443\n08/02/2020 18:35:04 - DEBUG - urllib3.connectionpool -   https://convlab.blob.core.windows.net:443 \"GET /convlab-2/nlg_sclstm_multiwoz.zip HTTP/1.1\" 200 18378637\n100%|██████████| 18378637/18378637 [00:08<00:00, 2262898.72B/s]\n08/02/2020 18:35:12 - INFO - convlab2.util.allennlp_file_utils -   copying /tmp/tmpqvri1m1a to cache at /home/syseo/.convlab2/cache/f49afe3e57f4e0e70c8ab2c6bde22349ba7f8784820d9751f8606c3288e0561f.1471a3ef86951300adad3f052c83609e44a7c578dc6201675b5e2b139ed07368\n08/02/2020 18:35:12 - INFO - convlab2.util.allennlp_file_utils -   creating metadata file for /home/syseo/.convlab2/cache/f49afe3e57f4e0e70c8ab2c6bde22349ba7f8784820d9751f8606c3288e0561f.1471a3ef86951300adad3f052c83609e44a7c578dc6201675b5e2b139ed07368\n08/02/2020 18:35:12 - INFO - convlab2.util.allennlp_file_utils -   removing temp file /tmp/tmpqvri1m1a\n"
        },
        {
          "output_type": "error",
          "ename": "FileNotFoundError",
          "evalue": "[Errno 2] No such file or directory: '/home/syseo/workspace/ConvLab-2/convlab2/nlg/sclstm/multiwoz/resource/vocab.txt'",
          "traceback": [
            "\u001b[0;31m---------------------------------------------------------------------------\u001b[0m",
            "\u001b[0;31mFileNotFoundError\u001b[0m                         Traceback (most recent call last)",
            "\u001b[0;32m<ipython-input-30-64c3984bc454>\u001b[0m in \u001b[0;36m<module>\u001b[0;34m\u001b[0m\n\u001b[1;32m      6\u001b[0m \u001b[0;31m# sys_policy = GDPLPolicy()\u001b[0m\u001b[0;34m\u001b[0m\u001b[0;34m\u001b[0m\u001b[0;34m\u001b[0m\u001b[0m\n\u001b[1;32m      7\u001b[0m \u001b[0;31m# sys_nlg = TemplateNLG(is_user=False)\u001b[0m\u001b[0;34m\u001b[0m\u001b[0;34m\u001b[0m\u001b[0;34m\u001b[0m\u001b[0m\n\u001b[0;32m----> 8\u001b[0;31m \u001b[0msys_nlg\u001b[0m \u001b[0;34m=\u001b[0m \u001b[0mSCLSTM\u001b[0m\u001b[0;34m(\u001b[0m\u001b[0mis_user\u001b[0m\u001b[0;34m=\u001b[0m\u001b[0;32mFalse\u001b[0m\u001b[0;34m)\u001b[0m\u001b[0;34m\u001b[0m\u001b[0;34m\u001b[0m\u001b[0m\n\u001b[0m\u001b[1;32m      9\u001b[0m \u001b[0;34m\u001b[0m\u001b[0m\n\u001b[1;32m     10\u001b[0m \u001b[0;31m# or Word-Policy:\u001b[0m\u001b[0;34m\u001b[0m\u001b[0;34m\u001b[0m\u001b[0;34m\u001b[0m\u001b[0m\n",
            "\u001b[0;32m~/workspace/ConvLab-2/convlab2/nlg/sclstm/multiwoz/sc_lstm.py\u001b[0m in \u001b[0;36m__init__\u001b[0;34m(self, archive_file, use_cuda, is_user, model_file)\u001b[0m\n\u001b[1;32m     57\u001b[0m         \u001b[0mself\u001b[0m\u001b[0;34m.\u001b[0m\u001b[0mUSE_CUDA\u001b[0m \u001b[0;34m=\u001b[0m \u001b[0muse_cuda\u001b[0m\u001b[0;34m\u001b[0m\u001b[0;34m\u001b[0m\u001b[0m\n\u001b[1;32m     58\u001b[0m         \u001b[0mself\u001b[0m\u001b[0;34m.\u001b[0m\u001b[0margs\u001b[0m\u001b[0;34m,\u001b[0m \u001b[0mself\u001b[0m\u001b[0;34m.\u001b[0m\u001b[0mconfig\u001b[0m \u001b[0;34m=\u001b[0m \u001b[0mparse\u001b[0m\u001b[0;34m(\u001b[0m\u001b[0mis_user\u001b[0m\u001b[0;34m)\u001b[0m\u001b[0;34m\u001b[0m\u001b[0;34m\u001b[0m\u001b[0m\n\u001b[0;32m---> 59\u001b[0;31m         \u001b[0mself\u001b[0m\u001b[0;34m.\u001b[0m\u001b[0mdataset\u001b[0m \u001b[0;34m=\u001b[0m \u001b[0mSimpleDatasetWoz\u001b[0m\u001b[0;34m(\u001b[0m\u001b[0mself\u001b[0m\u001b[0;34m.\u001b[0m\u001b[0mconfig\u001b[0m\u001b[0;34m)\u001b[0m\u001b[0;34m\u001b[0m\u001b[0;34m\u001b[0m\u001b[0m\n\u001b[0m\u001b[1;32m     60\u001b[0m \u001b[0;34m\u001b[0m\u001b[0m\n\u001b[1;32m     61\u001b[0m         \u001b[0;31m# get model hyper-parameters\u001b[0m\u001b[0;34m\u001b[0m\u001b[0;34m\u001b[0m\u001b[0;34m\u001b[0m\u001b[0m\n",
            "\u001b[0;32m~/workspace/ConvLab-2/convlab2/nlg/sclstm/multiwoz/loader/dataset_woz.py\u001b[0m in \u001b[0;36m__init__\u001b[0;34m(self, config)\u001b[0m\n\u001b[1;32m    224\u001b[0m \u001b[0;34m\u001b[0m\u001b[0m\n\u001b[1;32m    225\u001b[0m         \u001b[0;31m# load vocab from file\u001b[0m\u001b[0;34m\u001b[0m\u001b[0;34m\u001b[0m\u001b[0;34m\u001b[0m\u001b[0m\n\u001b[0;32m--> 226\u001b[0;31m         \u001b[0mself\u001b[0m\u001b[0;34m.\u001b[0m\u001b[0m_loadVocab\u001b[0m\u001b[0;34m(\u001b[0m\u001b[0mvocab_file\u001b[0m\u001b[0;34m)\u001b[0m \u001b[0;31m# a list of vocab, andy\u001b[0m\u001b[0;34m\u001b[0m\u001b[0;34m\u001b[0m\u001b[0m\n\u001b[0m\u001b[1;32m    227\u001b[0m \u001b[0;34m\u001b[0m\u001b[0m\n\u001b[1;32m    228\u001b[0m         \u001b[0;31m# set input feature cardinality\u001b[0m\u001b[0;34m\u001b[0m\u001b[0;34m\u001b[0m\u001b[0;34m\u001b[0m\u001b[0m\n",
            "\u001b[0;32m~/workspace/ConvLab-2/convlab2/nlg/sclstm/multiwoz/loader/dataset_woz.py\u001b[0m in \u001b[0;36m_loadVocab\u001b[0;34m(self, vocab_file)\u001b[0m\n\u001b[1;32m    191\u001b[0m                 \u001b[0mself\u001b[0m\u001b[0;34m.\u001b[0m\u001b[0mindex2word\u001b[0m \u001b[0;34m=\u001b[0m \u001b[0;34m{\u001b[0m\u001b[0;34m}\u001b[0m\u001b[0;34m\u001b[0m\u001b[0;34m\u001b[0m\u001b[0m\n\u001b[1;32m    192\u001b[0m                 \u001b[0midx\u001b[0m \u001b[0;34m=\u001b[0m \u001b[0;36m0\u001b[0m\u001b[0;34m\u001b[0m\u001b[0;34m\u001b[0m\u001b[0m\n\u001b[0;32m--> 193\u001b[0;31m                 \u001b[0;32mwith\u001b[0m \u001b[0mopen\u001b[0m\u001b[0;34m(\u001b[0m\u001b[0mvocab_file\u001b[0m\u001b[0;34m)\u001b[0m \u001b[0;32mas\u001b[0m \u001b[0mfin\u001b[0m\u001b[0;34m:\u001b[0m\u001b[0;34m\u001b[0m\u001b[0;34m\u001b[0m\u001b[0m\n\u001b[0m\u001b[1;32m    194\u001b[0m                         \u001b[0;32mfor\u001b[0m \u001b[0mword\u001b[0m \u001b[0;32min\u001b[0m \u001b[0mfin\u001b[0m\u001b[0;34m.\u001b[0m\u001b[0mreadlines\u001b[0m\u001b[0;34m(\u001b[0m\u001b[0;34m)\u001b[0m\u001b[0;34m:\u001b[0m\u001b[0;34m\u001b[0m\u001b[0;34m\u001b[0m\u001b[0m\n\u001b[1;32m    195\u001b[0m                                 \u001b[0mword\u001b[0m \u001b[0;34m=\u001b[0m \u001b[0mword\u001b[0m\u001b[0;34m.\u001b[0m\u001b[0mstrip\u001b[0m\u001b[0;34m(\u001b[0m\u001b[0;34m)\u001b[0m\u001b[0;34m.\u001b[0m\u001b[0msplit\u001b[0m\u001b[0;34m(\u001b[0m\u001b[0;34m'\\t'\u001b[0m\u001b[0;34m)\u001b[0m\u001b[0;34m[\u001b[0m\u001b[0;36m0\u001b[0m\u001b[0;34m]\u001b[0m\u001b[0;34m\u001b[0m\u001b[0;34m\u001b[0m\u001b[0m\n",
            "\u001b[0;31mFileNotFoundError\u001b[0m: [Errno 2] No such file or directory: '/home/syseo/workspace/ConvLab-2/convlab2/nlg/sclstm/multiwoz/resource/vocab.txt'"
          ]
        }
      ]
    },
    {
      "cell_type": "markdown",
      "metadata": {
        "id": "s9lGIv0oPupn",
        "colab_type": "text"
      },
      "source": [
        "Assemble the Pipeline system agent:"
      ]
    },
    {
      "cell_type": "code",
      "metadata": {
        "id": "IvLx7HUkPyZ5",
        "colab_type": "code",
        "colab": {}
      },
      "source": [
        "sys_agent = PipelineAgent(sys_nlu, sys_dst, sys_policy, sys_nlg, 'sys')"
      ],
      "execution_count": 16,
      "outputs": []
    },
    {
      "cell_type": "markdown",
      "metadata": {
        "id": "hR4A8WbZP2lc",
        "colab_type": "text"
      },
      "source": [
        "Or Directly use an end-to-end model:"
      ]
    },
    {
      "cell_type": "code",
      "metadata": {
        "id": "8VdUmcxoP6ej",
        "colab_type": "code",
        "colab": {}
      },
      "source": [
        "# sys_agent = Sequicity()\n",
        "# sys_agent = Damd()"
      ],
      "execution_count": 17,
      "outputs": []
    },
    {
      "cell_type": "markdown",
      "metadata": {
        "id": "_v-eoBtnP9J9",
        "colab_type": "text"
      },
      "source": [
        "Config an user agent similarly:"
      ]
    },
    {
      "cell_type": "code",
      "metadata": {
        "id": "UkHpjvR5QezN",
        "colab_type": "code",
        "colab": {},
        "tags": []
      },
      "source": [
        "user_nlu = BERTNLU()\n",
        "# user_nlu = MILU()\n",
        "# user_nlu = SVMNLU()\n",
        "user_dst = None\n",
        "user_policy = RulePolicy(character='usr')\n",
        "# user_policy = UserPolicyVHUS(load_from_zip=True)\n",
        "user_nlg = TemplateNLG(is_user=True)\n",
        "# user_nlg = SCLSTM(is_user=True)\n",
        "user_agent = PipelineAgent(user_nlu, user_dst, user_policy, user_nlg, name='user')"
      ],
      "execution_count": 18,
      "outputs": [
        {
          "output_type": "stream",
          "name": "stderr",
          "text": "08/02/2020 18:07:42 - DEBUG - urllib3.connectionpool -   Starting new HTTPS connection (1): s3.amazonaws.com:443\n08/02/2020 18:07:42 - DEBUG - urllib3.connectionpool -   https://s3.amazonaws.com:443 \"HEAD /models.huggingface.co/bert/bert-base-uncased-vocab.txt HTTP/1.1\" 200 0\n08/02/2020 18:07:42 - INFO - transformers.tokenization_utils_base -   loading file https://s3.amazonaws.com/models.huggingface.co/bert/bert-base-uncased-vocab.txt from cache at /home/syseo/.cache/torch/transformers/26bc1ad6c0ac742e9b52263248f6d0f00068293b33709fae12320c0e35ccfbbb.542ce4285a40d23a559526243235df47c5f75c197f04f37d1a0c124c32c9a084\n08/02/2020 18:07:42 - DEBUG - urllib3.connectionpool -   Starting new HTTPS connection (1): s3.amazonaws.com:443\nintent num: 137\ntag num: 331\nLoad from /home/syseo/workspace/ConvLab-2/convlab2/nlu/jointBERT/multiwoz/output/all_context/pytorch_model.bin\nbert-base-uncased\n08/02/2020 18:07:43 - DEBUG - urllib3.connectionpool -   https://s3.amazonaws.com:443 \"HEAD /models.huggingface.co/bert/bert-base-uncased-config.json HTTP/1.1\" 200 0\n08/02/2020 18:07:43 - INFO - transformers.configuration_utils -   loading configuration file https://s3.amazonaws.com/models.huggingface.co/bert/bert-base-uncased-config.json from cache at /home/syseo/.cache/torch/transformers/4dad0251492946e18ac39290fcfe91b89d370fee250efe9521476438fe8ca185.7156163d5fdc189c3016baca0775ffce230789d7fa2a42ef516483e4ca884517\n08/02/2020 18:07:43 - INFO - transformers.configuration_utils -   Model config BertConfig {\n  \"architectures\": [\n    \"BertForMaskedLM\"\n  ],\n  \"attention_probs_dropout_prob\": 0.1,\n  \"gradient_checkpointing\": false,\n  \"hidden_act\": \"gelu\",\n  \"hidden_dropout_prob\": 0.1,\n  \"hidden_size\": 768,\n  \"initializer_range\": 0.02,\n  \"intermediate_size\": 3072,\n  \"layer_norm_eps\": 1e-12,\n  \"max_position_embeddings\": 512,\n  \"model_type\": \"bert\",\n  \"num_attention_heads\": 12,\n  \"num_hidden_layers\": 12,\n  \"pad_token_id\": 0,\n  \"type_vocab_size\": 2,\n  \"vocab_size\": 30522\n}\n\n08/02/2020 18:07:43 - DEBUG - urllib3.connectionpool -   Starting new HTTPS connection (1): cdn.huggingface.co:443\n08/02/2020 18:07:43 - DEBUG - urllib3.connectionpool -   https://cdn.huggingface.co:443 \"HEAD /bert-base-uncased-pytorch_model.bin HTTP/1.1\" 200 0\n08/02/2020 18:07:43 - INFO - transformers.modeling_utils -   loading weights file https://cdn.huggingface.co/bert-base-uncased-pytorch_model.bin from cache at /home/syseo/.cache/torch/transformers/f2ee78bdd635b758cc0a12352586868bef80e47401abe4c4fcc3832421e7338b.36ca03ab34a1a5d5fa7bc3d03d55c4fa650fed07220e2eeebc06ce58d0e9a157\n08/02/2020 18:07:45 - INFO - transformers.modeling_utils -   All model checkpoint weights were used when initializing BertModel.\n\n08/02/2020 18:07:45 - INFO - transformers.modeling_utils -   All the weights of BertModel were initialized from the model checkpoint at bert-base-uncased.\nIf your task is similar to the task the model of the ckeckpoint was trained on, you can already use BertModel for predictions without further training.\nBERTNLU loaded\nLoading goal model is done\n"
        }
      ]
    },
    {
      "cell_type": "markdown",
      "metadata": {
        "id": "VJTBxEDhSAqc",
        "colab_type": "text"
      },
      "source": [
        "## Use analysis tool to diagnose the system\n",
        "We provide an analysis tool presents rich statistics and summarizes common mistakes from simulated dialogues, which facilitates error analysis and\n",
        "system improvement. The analyzer will generate an HTML report which contains\n",
        "rich statistics of simulated dialogues. For more information, please refer to `convlab2/util/analysis_tool`."
      ]
    },
    {
      "cell_type": "code",
      "metadata": {
        "id": "Hu2q3lQiSMDy",
        "colab_type": "code",
        "colab": {},
        "tags": [
          "outputPrepend"
        ]
      },
      "source": [
        "from convlab2.util.analysis_tool.analyzer import Analyzer\n",
        "\n",
        "# if sys_nlu!=None, set use_nlu=True to collect more information\n",
        "analyzer = Analyzer(user_agent=user_agent, dataset='multiwoz')\n",
        "\n",
        "set_seed(20200131)\n",
        "analyzer.comprehensive_analyze(sys_agent=sys_agent, model_name='sys_agent', total_dialog=100)"
      ],
      "execution_count": 19,
      "outputs": [
        {
          "output_type": "stream",
          "name": "stderr",
          "text": "335\n08/02/2020 18:08:40 - DEBUG - matplotlib.font_manager -   findfont: score(<Font 'Lohit Gurmukhi' (Lohit-Gurmukhi.ttf) normal normal 400 normal>) = 10.335\n08/02/2020 18:08:40 - DEBUG - matplotlib.font_manager -   findfont: score(<Font 'Samyak Devanagari' (Samyak-Devanagari.ttf) normal normal 500 normal>) = 10.24\n08/02/2020 18:08:40 - DEBUG - matplotlib.font_manager -   findfont: score(<Font 'Umpush' (Umpush-BoldOblique.ttf) oblique normal 700 normal>) = 11.05\n08/02/2020 18:08:40 - DEBUG - matplotlib.font_manager -   findfont: score(<Font 'Waree' (Waree.ttf) normal normal 400 normal>) = 10.335\n08/02/2020 18:08:40 - DEBUG - matplotlib.font_manager -   findfont: score(<Font 'KacstTitleL' (KacstTitleL.ttf) normal normal 400 normal>) = 10.335\n08/02/2020 18:08:40 - DEBUG - matplotlib.font_manager -   findfont: score(<Font 'Tlwg Mono' (TlwgMono-BoldOblique.ttf) oblique normal 700 normal>) = 11.05\n08/02/2020 18:08:40 - DEBUG - matplotlib.font_manager -   findfont: score(<Font 'DejaVu Sans Mono' (DejaVuSansMono-Oblique.ttf) oblique normal 400 normal>) = 11.335\n08/02/2020 18:08:40 - DEBUG - matplotlib.font_manager -   findfont: score(<Font 'Nakula' (nakula.ttf) normal normal 400 normal>) = 10.335\n08/02/2020 18:08:40 - DEBUG - matplotlib.font_manager -   findfont: score(<Font 'LKLUG' (lklug.ttf) normal normal 400 normal>) = 10.335\n08/02/2020 18:08:40 - DEBUG - matplotlib.font_manager -   findfont: score(<Font 'Liberation Mono' (LiberationMono-BoldItalic.ttf) italic normal 700 normal>) = 11.05\n08/02/2020 18:08:40 - DEBUG - matplotlib.font_manager -   findfont: score(<Font 'KacstPen' (KacstPen.ttf) normal normal 500 normal>) = 10.24\n08/02/2020 18:08:40 - DEBUG - matplotlib.font_manager -   findfont: score(<Font 'Tlwg Typo' (TlwgTypo-Oblique.ttf) oblique normal 500 normal>) = 11.24\n08/02/2020 18:08:40 - DEBUG - matplotlib.font_manager -   findfont: score(<Font 'Noto Serif CJK JP' (NotoSerifCJK-Regular.ttc) normal normal 400 normal>) = 10.335\n08/02/2020 18:08:40 - DEBUG - matplotlib.font_manager -   findfont: score(<Font 'Lohit Tamil' (Lohit-Tamil.ttf) normal normal 400 normal>) = 10.335\n08/02/2020 18:08:40 - DEBUG - matplotlib.font_manager -   findfont: score(<Font 'Tlwg Mono' (TlwgMono-Oblique.ttf) oblique normal 400 normal>) = 11.335\n08/02/2020 18:08:40 - DEBUG - matplotlib.font_manager -   findfont: score(<Font 'Liberation Sans Narrow' (LiberationSansNarrow-Italic.ttf) italic normal 400 condensed>) = 11.535\n08/02/2020 18:08:40 - DEBUG - matplotlib.font_manager -   findfont: score(<Font 'mry_KacstQurn' (mry_KacstQurn.ttf) normal normal 400 normal>) = 10.335\n08/02/2020 18:08:40 - DEBUG - matplotlib.font_manager -   findfont: score(<Font 'Kalimati' (kalimati.ttf) normal normal 400 normal>) = 10.335\n08/02/2020 18:08:40 - DEBUG - matplotlib.font_manager -   findfont: score(<Font 'Tlwg Typist' (TlwgTypist-Bold.ttf) normal normal 700 normal>) = 10.05\n08/02/2020 18:08:40 - DEBUG - matplotlib.font_manager -   findfont: score(<Font 'FreeSans' (FreeSans.ttf) normal normal 400 normal>) = 10.335\n08/02/2020 18:08:40 - DEBUG - matplotlib.font_manager -   findfont: score(<Font 'Kinnari' (Kinnari-Bold.ttf) normal normal 700 normal>) = 10.05\n08/02/2020 18:08:40 - DEBUG - matplotlib.font_manager -   findfont: score(<Font 'Ubuntu' (Ubuntu-LI.ttf) italic normal 300 normal>) = 11.43\n08/02/2020 18:08:40 - DEBUG - matplotlib.font_manager -   findfont: score(<Font 'Manjari' (Manjari-Regular.otf) normal normal 400 normal>) = 10.335\n08/02/2020 18:08:40 - DEBUG - matplotlib.font_manager -   findfont: score(<Font 'Dyuthi' (Dyuthi.ttf) normal normal 400 normal>) = 10.335\n08/02/2020 18:08:40 - DEBUG - matplotlib.font_manager -   findfont: score(<Font 'Lohit Gujarati' (Lohit-Gujarati.ttf) normal normal 400 normal>) = 10.335\n08/02/2020 18:08:40 - DEBUG - matplotlib.font_manager -   findfont: score(<Font 'FreeSerif' (FreeSerifBoldItalic.ttf) italic normal 700 normal>) = 11.05\n08/02/2020 18:08:40 - DEBUG - matplotlib.font_manager -   findfont: score(<Font 'Pagul' (Pagul.ttf) normal normal 400 normal>) = 10.335\n08/02/2020 18:08:40 - DEBUG - matplotlib.font_manager -   findfont: score(<Font 'aakar' (aakar-medium.ttf) normal normal 500 normal>) = 10.24\n08/02/2020 18:08:40 - DEBUG - matplotlib.font_manager -   findfont: score(<Font 'Umpush' (Umpush-Oblique.ttf) oblique normal 400 normal>) = 11.335\n08/02/2020 18:08:40 - DEBUG - matplotlib.font_manager -   findfont: score(<Font 'Garuda' (Garuda.ttf) normal normal 400 normal>) = 10.335\n08/02/2020 18:08:40 - DEBUG - matplotlib.font_manager -   findfont: score(<Font 'KacstFarsi' (KacstFarsi.ttf) normal normal 500 normal>) = 10.24\n08/02/2020 18:08:40 - DEBUG - matplotlib.font_manager -   findfont: score(<Font 'Lohit Bengali' (Lohit-Bengali.ttf) normal normal 400 normal>) = 10.335\n08/02/2020 18:08:40 - DEBUG - matplotlib.font_manager -   findfont: score(<Font 'DejaVu Sans' (DejaVuSans-BoldOblique.ttf) oblique normal 700 normal>) = 1.05\n08/02/2020 18:08:40 - DEBUG - matplotlib.font_manager -   findfont: score(<Font 'DejaVu Sans Mono' (DejaVuSansMono-BoldOblique.ttf) oblique normal 700 normal>) = 11.05\n08/02/2020 18:08:40 - DEBUG - matplotlib.font_manager -   findfont: score(<Font 'Ubuntu' (Ubuntu-RI.ttf) italic normal 400 normal>) = 11.335\n08/02/2020 18:08:40 - DEBUG - matplotlib.font_manager -   findfont: score(<Font 'FreeMono' (FreeMonoBoldOblique.ttf) oblique normal 700 normal>) = 11.05\n08/02/2020 18:08:40 - DEBUG - matplotlib.font_manager -   findfont: score(<Font 'DejaVu Serif' (DejaVuSerifCondensed.ttf) normal normal 400 condensed>) = 10.535\n08/02/2020 18:08:40 - DEBUG - matplotlib.font_manager -   findfont: score(<Font 'DejaVu Sans' (DejaVuSansCondensed-Bold.ttf) normal normal 700 condensed>) = 0.25\n08/02/2020 18:08:40 - DEBUG - matplotlib.font_manager -   findfont: score(<Font 'Lohit Devanagari' (Lohit-Devanagari.ttf) normal normal 400 normal>) = 10.335\n08/02/2020 18:08:40 - DEBUG - matplotlib.font_manager -   findfont: score(<Font 'Liberation Sans Narrow' (LiberationSansNarrow-Regular.ttf) normal normal 400 condensed>) = 10.535\n08/02/2020 18:08:40 - DEBUG - matplotlib.font_manager -   findfont: score(<Font 'DejaVu Serif' (DejaVuSerifCondensed-BoldItalic.ttf) italic normal 700 condensed>) = 11.25\n08/02/2020 18:08:40 - DEBUG - matplotlib.font_manager -   findfont: score(<Font 'Kinnari' (Kinnari-Oblique.ttf) oblique normal 500 normal>) = 11.24\n08/02/2020 18:08:40 - DEBUG - matplotlib.font_manager -   findfont: score(<Font 'FreeSerif' (FreeSerifBold.ttf) normal normal 700 normal>) = 10.05\n08/02/2020 18:08:40 - DEBUG - matplotlib.font_manager -   findfont: score(<Font 'DejaVu Sans' (DejaVuSans.ttf) normal normal 400 normal>) = 0.33499999999999996\n08/02/2020 18:08:40 - DEBUG - matplotlib.font_manager -   findfont: score(<Font 'Liberation Mono' (LiberationMono-Bold.ttf) normal normal 700 normal>) = 10.05\n08/02/2020 18:08:40 - DEBUG - matplotlib.font_manager -   findfont: score(<Font 'Tlwg Typewriter' (TlwgTypewriter-BoldOblique.ttf) oblique normal 700 normal>) = 11.05\n08/02/2020 18:08:40 - DEBUG - matplotlib.font_manager -   findfont: score(<Font 'Norasi' (Norasi.ttf) normal normal 400 normal>) = 10.335\n08/02/2020 18:08:40 - DEBUG - matplotlib.font_manager -   findfont: score(<Font 'Kalapi' (Kalapi.ttf) normal normal 400 normal>) = 10.335\n08/02/2020 18:08:40 - DEBUG - matplotlib.font_manager -   findfont: score(<Font 'Purisa' (Purisa-Oblique.ttf) oblique normal 400 normal>) = 11.335\n08/02/2020 18:08:40 - DEBUG - matplotlib.font_manager -   findfont: score(<Font 'Gargi' (Gargi.ttf) normal normal 400 normal>) = 10.335\n08/02/2020 18:08:40 - DEBUG - matplotlib.font_manager -   findfont: score(<Font 'Jamrul' (JamrulNormal.ttf) normal normal 500 normal>) = 10.24\n08/02/2020 18:08:40 - DEBUG - matplotlib.font_manager -   findfont: score(<Font 'Karumbi' (Karumbi.ttf) normal normal 400 normal>) = 10.335\n08/02/2020 18:08:40 - DEBUG - matplotlib.font_manager -   findfont: score(<Font 'Suruma' (Suruma.ttf) normal normal 500 normal>) = 10.24\n08/02/2020 18:08:40 - DEBUG - matplotlib.font_manager -   findfont: score(<Font 'Umpush' (Umpush-Light.ttf) normal normal 300 normal>) = 10.43\n08/02/2020 18:08:40 - DEBUG - matplotlib.font_manager -   findfont: score(<Font 'KacstDigital' (KacstDigital.ttf) normal normal 500 normal>) = 10.24\n08/02/2020 18:08:40 - DEBUG - matplotlib.font_manager -   findfont: score(<Font 'Norasi' (Norasi-Italic.ttf) italic normal 400 normal>) = 11.335\n08/02/2020 18:08:40 - DEBUG - matplotlib.font_manager -   findfont: score(<Font 'Padauk' (Padauk-Regular.ttf) normal normal 400 normal>) = 10.335\n08/02/2020 18:08:40 - DEBUG - matplotlib.font_manager -   findfont: score(<Font 'Liberation Sans' (LiberationSans-Regular.ttf) normal normal 400 normal>) = 10.335\n08/02/2020 18:08:40 - DEBUG - matplotlib.font_manager -   findfont: score(<Font 'Tlwg Typewriter' (TlwgTypewriter.ttf) normal normal 500 normal>) = 10.24\n08/02/2020 18:08:40 - DEBUG - matplotlib.font_manager -   findfont: score(<Font 'Tlwg Typist' (TlwgTypist-Oblique.ttf) oblique normal 500 normal>) = 11.24\n08/02/2020 18:08:40 - DEBUG - matplotlib.font_manager -   findfont: score(<Font 'DejaVu Serif' (DejaVuSerifCondensed-Italic.ttf) italic normal 400 condensed>) = 11.535\n08/02/2020 18:08:40 - DEBUG - matplotlib.font_manager -   findfont: score(<Font 'Lohit Assamese' (Lohit-Assamese.ttf) normal normal 400 normal>) = 10.335\n08/02/2020 18:08:40 - DEBUG - matplotlib.font_manager -   findfont: score(<Font 'FreeSans' (FreeSansBoldOblique.ttf) oblique normal 600 normal>) = 11.145\n08/02/2020 18:08:40 - DEBUG - matplotlib.font_manager -   findfont: score(<Font 'Ubuntu Condensed' (Ubuntu-C.ttf) normal normal 400 condensed>) = 10.535\n08/02/2020 18:08:40 - DEBUG - matplotlib.font_manager -   findfont: score(<Font 'KacstArt' (KacstArt.ttf) normal normal 500 normal>) = 10.24\n08/02/2020 18:08:40 - DEBUG - matplotlib.font_manager -   findfont: score(<Font 'Ubuntu' (Ubuntu-BI.ttf) italic normal 700 normal>) = 11.05\n08/02/2020 18:08:40 - DEBUG - matplotlib.font_manager -   findfont: score(<Font 'KacstTitle' (KacstTitle.ttf) normal normal 500 normal>) = 10.24\n08/02/2020 18:08:40 - DEBUG - matplotlib.font_manager -   findfont: score(<Font 'Lohit Kannada' (Lohit-Kannada.ttf) normal normal 400 normal>) = 10.335\n08/02/2020 18:08:40 - DEBUG - matplotlib.font_manager -   findfont: score(<Font 'Samyak Malayalam' (Samyak-Malayalam.ttf) normal normal 400 normal>) = 10.335\n08/02/2020 18:08:40 - DEBUG - matplotlib.font_manager -   findfont: score(<Font 'Liberation Serif' (LiberationSerif-BoldItalic.ttf) italic normal 700 normal>) = 11.05\n08/02/2020 18:08:40 - DEBUG - matplotlib.font_manager -   findfont: score(<Font 'Ubuntu' (Ubuntu-M.ttf) normal normal 500 normal>) = 10.24\n08/02/2020 18:08:40 - DEBUG - matplotlib.font_manager -   findfont: score(<Font 'Sawasdee' (Sawasdee.ttf) normal normal 400 normal>) = 10.335\n08/02/2020 18:08:40 - DEBUG - matplotlib.font_manager -   findfont: score(<Font 'KacstLetter' (KacstLetter.ttf) normal normal 500 normal>) = 10.24\n08/02/2020 18:08:40 - DEBUG - matplotlib.font_manager -   findfont: score(<Font 'Pothana2000' (Pothana2000.ttf) normal normal 400 normal>) = 10.335\n08/02/2020 18:08:40 - DEBUG - matplotlib.font_manager -   findfont: score(<Font 'DejaVu Sans' (DejaVuSans-ExtraLight.ttf) normal normal 200 normal>) = 0.525\n08/02/2020 18:08:40 - DEBUG - matplotlib.font_manager -   findfont: score(<Font 'Sawasdee' (Sawasdee-Oblique.ttf) oblique normal 400 normal>) = 11.335\n08/02/2020 18:08:40 - DEBUG - matplotlib.font_manager -   findfont: score(<Font 'Garuda' (Garuda-Bold.ttf) normal normal 700 normal>) = 10.05\n08/02/2020 18:08:40 - DEBUG - matplotlib.font_manager -   findfont: score(<Font 'Ubuntu Mono' (UbuntuMono-BI.ttf) italic normal 700 normal>) = 11.05\n08/02/2020 18:08:40 - DEBUG - matplotlib.font_manager -   findfont: score(<Font 'Waree' (Waree-Oblique.ttf) oblique normal 400 normal>) = 11.335\n08/02/2020 18:08:40 - DEBUG - matplotlib.font_manager -   findfont: score(<Font 'Khmer OS System' (KhmerOSsys.ttf) normal normal 400 normal>) = 10.335\n08/02/2020 18:08:40 - DEBUG - matplotlib.font_manager -   findfont: score(<Font 'Garuda' (Garuda-Oblique.ttf) oblique normal 400 normal>) = 11.335\n08/02/2020 18:08:40 - DEBUG - matplotlib.font_manager -   findfont: score(<Font 'Chilanka' (Chilanka-Regular.ttf) normal normal 400 normal>) = 10.335\n08/02/2020 18:08:40 - DEBUG - matplotlib.font_manager -   findfont: score(<Font 'Mitra Mono' (mitra.ttf) normal normal 400 normal>) = 10.335\n08/02/2020 18:08:40 - DEBUG - matplotlib.font_manager -   findfont: score(<Font 'Kinnari' (Kinnari-Italic.ttf) italic normal 500 normal>) = 11.24\n08/02/2020 18:08:40 - DEBUG - matplotlib.font_manager -   findfont: score(<Font 'Abyssinica SIL' (AbyssinicaSIL-R.ttf) normal normal 400 normal>) = 10.335\n08/02/2020 18:08:40 - DEBUG - matplotlib.font_manager -   findfont: score(<Font 'Umpush' (Umpush.ttf) normal normal 400 normal>) = 10.335\n08/02/2020 18:08:40 - DEBUG - matplotlib.font_manager -   findfont: score(<Font 'Liberation Sans Narrow' (LiberationSansNarrow-Bold.ttf) normal normal 700 condensed>) = 10.25\n08/02/2020 18:08:40 - DEBUG - matplotlib.font_manager -   findfont: score(<Font 'RaghuMalayalam' (RaghuMalayalamSans-Regular.ttf) normal normal 400 normal>) = 10.335\n08/02/2020 18:08:40 - DEBUG - matplotlib.font_manager -   findfont: score(<Font 'Noto Mono' (NotoMono-Regular.ttf) normal normal 400 normal>) = 10.335\n08/02/2020 18:08:40 - DEBUG - matplotlib.font_manager -   findfont: score(<Font 'padmaa-Bold.1.1' (padmaa-Bold.1.1.ttf) normal normal 700 normal>) = 10.05\n08/02/2020 18:08:40 - DEBUG - matplotlib.font_manager -   findfont: score(<Font 'KacstOffice' (KacstOffice.ttf) normal normal 500 normal>) = 10.24\n08/02/2020 18:08:40 - DEBUG - matplotlib.font_manager -   findfont: score(<Font 'padmaa' (padmaa.ttf) normal normal 500 normal>) = 10.24\n08/02/2020 18:08:40 - DEBUG - matplotlib.font_manager -   findfont: score(<Font 'Ubuntu Mono' (UbuntuMono-R.ttf) normal normal 400 normal>) = 10.335\n08/02/2020 18:08:40 - DEBUG - matplotlib.font_manager -   findfont: score(<Font 'Kinnari' (Kinnari-BoldItalic.ttf) italic normal 700 normal>) = 11.05\n08/02/2020 18:08:40 - DEBUG - matplotlib.font_manager -   findfont: score(<Font 'FreeSans' (FreeSansOblique.ttf) oblique normal 400 normal>) = 11.335\n08/02/2020 18:08:40 - DEBUG - matplotlib.font_manager -   findfont: score(<Font 'Vemana2000' (vemana2000.ttf) normal normal 400 normal>) = 10.335\n08/02/2020 18:08:40 - DEBUG - matplotlib.font_manager -   findfont: score(<Font 'Gubbi' (Gubbi.ttf) normal normal 400 normal>) = 10.335\n08/02/2020 18:08:40 - DEBUG - matplotlib.font_manager -   findfont: score(<Font 'Liberation Serif' (LiberationSerif-Italic.ttf) italic normal 400 normal>) = 11.335\n08/02/2020 18:08:40 - DEBUG - matplotlib.font_manager -   findfont: score(<Font 'Liberation Mono' (LiberationMono-Italic.ttf) italic normal 400 normal>) = 11.335\n08/02/2020 18:08:40 - DEBUG - matplotlib.font_manager -   findfont: score(<Font 'Purisa' (Purisa.ttf) normal normal 400 normal>) = 10.335\n08/02/2020 18:08:40 - DEBUG - matplotlib.font_manager -   findfont: score(<Font 'Padauk Book' (PadaukBook-Regular.ttf) normal normal 400 normal>) = 10.335\n08/02/2020 18:08:40 - DEBUG - matplotlib.font_manager -   findfont: score(<Font 'DejaVu Serif' (DejaVuSerif.ttf) normal normal 400 normal>) = 10.335\n08/02/2020 18:08:40 - DEBUG - matplotlib.font_manager -   findfont: score(<Font 'KacstPoster' (KacstPoster.ttf) normal normal 500 normal>) = 10.24\n08/02/2020 18:08:40 - DEBUG - matplotlib.font_manager -   findfont: score(<Font 'Droid Sans Fallback' (DroidSansFallbackFull.ttf) normal normal 400 normal>) = 10.335\n08/02/2020 18:08:40 - DEBUG - matplotlib.font_manager -   findfont: score(<Font 'Loma' (Loma-Oblique.ttf) oblique normal 400 normal>) = 11.335\n08/02/2020 18:08:40 - DEBUG - matplotlib.font_manager -   findfont: score(<Font 'Meera' (Meera.ttf) normal normal 400 normal>) = 10.335\n08/02/2020 18:08:40 - DEBUG - matplotlib.font_manager -   findfont: score(<Font 'Sawasdee' (Sawasdee-BoldOblique.ttf) oblique normal 700 normal>) = 11.05\n08/02/2020 18:08:40 - DEBUG - matplotlib.font_manager -   findfont: score(<Font 'padmaa' (padmaa-Medium-0.5.ttf) normal normal 500 normal>) = 10.24\n08/02/2020 18:08:40 - DEBUG - matplotlib.font_manager -   findfont: score(<Font 'Noto Sans CJK JP' (NotoSansCJK-Regular.ttc) normal normal 400 normal>) = 10.335\n08/02/2020 18:08:40 - DEBUG - matplotlib.font_manager -   findfont: score(<Font 'Liberation Mono' (LiberationMono-Regular.ttf) normal normal 400 normal>) = 10.335\n08/02/2020 18:08:40 - DEBUG - matplotlib.font_manager -   findfont: score(<Font 'KacstOne' (KacstOne-Bold.ttf) normal normal 700 normal>) = 10.05\n08/02/2020 18:08:40 - DEBUG - matplotlib.font_manager -   findfont: score(<Font 'Laksaman' (Laksaman.ttf) normal normal 400 normal>) = 10.335\n08/02/2020 18:08:40 - DEBUG - matplotlib.font_manager -   findfont: score(<Font 'Ubuntu Mono' (UbuntuMono-B.ttf) normal normal 700 normal>) = 10.05\n08/02/2020 18:08:40 - DEBUG - matplotlib.font_manager -   findfont: score(<Font 'DejaVu Sans' (DejaVuSansCondensed.ttf) normal normal 400 condensed>) = 0.5349999999999999\n08/02/2020 18:08:40 - DEBUG - matplotlib.font_manager -   findfont: score(<Font 'Purisa' (Purisa-BoldOblique.ttf) oblique normal 700 normal>) = 11.05\n08/02/2020 18:08:40 - DEBUG - matplotlib.font_manager -   findfont: score(<Font 'Noto Serif CJK JP' (NotoSerifCJK-Bold.ttc) normal normal 700 normal>) = 10.05\n08/02/2020 18:08:40 - DEBUG - matplotlib.font_manager -   findfont: score(<Font 'Liberation Sans' (LiberationSans-Italic.ttf) italic normal 400 normal>) = 11.335\n08/02/2020 18:08:40 - DEBUG - matplotlib.font_manager -   findfont: score(<Font 'Chandas' (chandas1-2.ttf) normal normal 400 normal>) = 10.335\n08/02/2020 18:08:40 - DEBUG - matplotlib.font_manager -   findfont: score(<Font 'DejaVu Sans' (DejaVuSansCondensed-BoldOblique.ttf) oblique normal 700 condensed>) = 1.25\n08/02/2020 18:08:40 - DEBUG - matplotlib.font_manager -   findfont: score(<Font 'Manjari' (Manjari-Thin.otf) normal normal 100 normal>) = 10.62\n08/02/2020 18:08:40 - DEBUG - matplotlib.font_manager -   findfont: score(<Font 'Ubuntu Mono' (UbuntuMono-RI.ttf) italic normal 400 normal>) = 11.335\n08/02/2020 18:08:40 - DEBUG - matplotlib.font_manager -   findfont: score(<Font 'Kinnari' (Kinnari.ttf) normal normal 500 normal>) = 10.24\n08/02/2020 18:08:40 - DEBUG - matplotlib.font_manager -   findfont: score(<Font 'Umpush' (Umpush-Bold.ttf) normal normal 700 normal>) = 10.05\n08/02/2020 18:08:40 - DEBUG - matplotlib.font_manager -   findfont: score(<Font 'Waree' (Waree-BoldOblique.ttf) oblique normal 700 normal>) = 11.05\n08/02/2020 18:08:40 - DEBUG - matplotlib.font_manager -   findfont: score(<Font 'Norasi' (Norasi-BoldItalic.ttf) italic normal 700 normal>) = 11.05\n08/02/2020 18:08:40 - DEBUG - matplotlib.font_manager -   findfont: score(<Font 'FreeMono' (FreeMonoOblique.ttf) oblique normal 400 normal>) = 11.335\n08/02/2020 18:08:40 - DEBUG - matplotlib.font_manager -   findfont: score(<Font 'Garuda' (Garuda-BoldOblique.ttf) oblique normal 700 normal>) = 11.05\n08/02/2020 18:08:40 - DEBUG - matplotlib.font_manager -   findfont: score(<Font 'Ani' (ani.ttf) normal normal 400 normal>) = 10.335\n08/02/2020 18:08:40 - DEBUG - matplotlib.font_manager -   findfont: score(<Font 'Saab' (Saab.ttf) normal normal 400 normal>) = 10.335\n08/02/2020 18:08:40 - DEBUG - matplotlib.font_manager -   findfont: score(<Font 'Sarai' (Sarai.ttf) normal normal 400 normal>) = 10.335\n08/02/2020 18:08:40 - DEBUG - matplotlib.font_manager -   findfont: score(<Font 'Kinnari' (Kinnari-BoldOblique.ttf) oblique normal 700 normal>) = 11.05\n08/02/2020 18:08:40 - DEBUG - matplotlib.font_manager -   findfont: Matching sans\\-serif:style=normal:variant=normal:weight=bold:stretch=normal:size=22.0 to DejaVu Sans ('/home/syseo/anaconda3/envs/0813_dialogue_system/lib/python3.7/site-packages/matplotlib/mpl-data/fonts/ttf/DejaVuSans-Bold.ttf') with score of 0.050000.\n"
        },
        {
          "output_type": "execute_result",
          "data": {
            "text/plain": "(0.8,\n 0.72,\n 0.7606541606541607,\n 0.8741221741221741,\n 0.7933313880283577,\n 0.8951612903225806,\n 17.06)"
          },
          "metadata": {},
          "execution_count": 19
        }
      ]
    },
    {
      "cell_type": "markdown",
      "metadata": {
        "id": "AB-mDm0plQWd",
        "colab_type": "text"
      },
      "source": [
        "To compare several models:"
      ]
    },
    {
      "cell_type": "code",
      "metadata": {
        "id": "GKe_DNJUlWzh",
        "colab_type": "code",
        "colab": {},
        "tags": [
          "outputPrepend"
        ]
      },
      "source": [
        "set_seed(20200131)\n",
        "analyzer.compare_models(agent_list=[sys_agent, sys_agent], model_name=['sys_agent1', 'sys_agent2'], total_dialog=100)"
      ],
      "execution_count": 21,
      "outputs": [
        {
          "output_type": "stream",
          "name": "stderr",
          "text": "hone domain: taxi)\n08/02/2020 18:10:17 - DEBUG - root -   Value not found in standard value set: [38559844436] (slot: phone domain: taxi)\n08/02/2020 18:10:17 - DEBUG - root -   Value not found in standard value set: [00147824192] (slot: phone domain: taxi)\n08/02/2020 18:10:17 - DEBUG - root -   Value not found in standard value set: [95415667871] (slot: phone domain: taxi)\n08/02/2020 18:10:17 - DEBUG - root -   Value not found in standard value set: [80603220423] (slot: phone domain: taxi)\n08/02/2020 18:10:17 - DEBUG - root -   Value not found in standard value set: [16881767199] (slot: phone domain: taxi)\n08/02/2020 18:10:17 - DEBUG - root -   Value not found in standard value set: [62228750300] (slot: phone domain: taxi)\n08/02/2020 18:10:18 - DEBUG - root -   Value not found in standard value set: [27333988158] (slot: phone domain: taxi)\ndialogue:  89%|████████▉ | 89/100 [00:41<00:03,  3.03it/s]08/02/2020 18:10:18 - DEBUG - root -   Value not found in standard value set: [do n't care] (slot: arriveBy domain: train)\n08/02/2020 18:10:19 - DEBUG - root -   Value not found in standard value set: [do n't care] (slot: arriveBy domain: train)\ndialogue:  99%|█████████▉| 99/100 [00:44<00:00,  3.02it/s]08/02/2020 18:10:21 - INFO - convlab2.util.analysis_tool.analyzer -   model name sys_agent1\n08/02/2020 18:10:21 - INFO - convlab2.util.analysis_tool.analyzer -   dialogue 100\n08/02/2020 18:10:21 - INFO - convlab2.util.analysis_tool.analyzer -   {'police': {'info': {'none': 'none'}, 'reqt': {'phone': '01223358966'}}}\n08/02/2020 18:10:21 - INFO - convlab2.util.analysis_tool.analyzer -   task complete: 0.840\n08/02/2020 18:10:21 - INFO - convlab2.util.analysis_tool.analyzer -   task success: 0.770\n08/02/2020 18:10:21 - INFO - convlab2.util.analysis_tool.analyzer -   book rate: 0.925\n08/02/2020 18:10:21 - INFO - convlab2.util.analysis_tool.analyzer -   inform precision/recall/f1: 0.786 0.894 0.816\ndialogue: 100%|██████████| 100/100 [00:45<00:00,  2.21it/s]\n====================================================================================================\ncomplete number of dialogs/tot: 0.84\nsuccess number of dialogs/tot: 0.77\naverage precision: 0.7864130434782608\naverage recall: 0.893840579710145\naverage f1: 0.8156309873701177\naverage book rate: 0.9252136752136753\naverage turn (succ): 11.246753246753247\naverage turn (all): 15.24\n====================================================================================================\ndialogue:   4%|▍         | 4/100 [00:01<00:30,  3.17it/s]08/02/2020 18:10:24 - DEBUG - root -   Value not found in standard value set: [89245210650] (slot: phone domain: taxi)\n08/02/2020 18:10:24 - DEBUG - root -   Value not found in standard value set: [55639736280] (slot: phone domain: taxi)\n08/02/2020 18:10:24 - DEBUG - root -   Value not found in standard value set: [27612073576] (slot: phone domain: taxi)\n08/02/2020 18:10:25 - DEBUG - root -   Value not found in standard value set: [12912135126] (slot: phone domain: taxi)\n08/02/2020 18:10:25 - DEBUG - root -   Value not found in standard value set: [59503766928] (slot: phone domain: taxi)\n08/02/2020 18:10:25 - DEBUG - root -   Value not found in standard value set: [15159856567] (slot: phone domain: taxi)\n08/02/2020 18:10:25 - DEBUG - root -   Value not found in standard value set: [53717653986] (slot: phone domain: taxi)\n08/02/2020 18:10:25 - DEBUG - root -   Value not found in standard value set: [25428338285] (slot: phone domain: taxi)\n08/02/2020 18:10:25 - DEBUG - root -   Value not found in standard value set: [11395561880] (slot: phone domain: taxi)\n08/02/2020 18:10:25 - DEBUG - root -   Value not found in standard value set: [23958971986] (slot: phone domain: taxi)\ndialogue:   7%|▋         | 7/100 [00:02<00:36,  2.54it/s]08/02/2020 18:10:26 - DEBUG - root -   Value not found in standard value set: [in town] (slot: area domain: restaurant)\n08/02/2020 18:10:26 - DEBUG - root -   Value not found in standard value set: [20067947592] (slot: phone domain: taxi)\n08/02/2020 18:10:26 - DEBUG - root -   Value not found in standard value set: [83044179560] (slot: phone domain: taxi)\n08/02/2020 18:10:26 - DEBUG - root -   Value not found in standard value set: [93090152234] (slot: phone domain: taxi)\n08/02/2020 18:10:26 - DEBUG - root -   Value not found in standard value set: [96804793110] (slot: phone domain: taxi)\n08/02/2020 18:10:26 - DEBUG - root -   Value not found in standard value set: [58595128081] (slot: phone domain: taxi)\n08/02/2020 18:10:26 - DEBUG - root -   Value not found in standard value set: [62104321128] (slot: phone domain: taxi)\n08/02/2020 18:10:26 - DEBUG - root -   Value not found in standard value set: [95056950261] (slot: phone domain: taxi)\n08/02/2020 18:10:26 - DEBUG - root -   Value not found in standard value set: [72673151993] (slot: phone domain: taxi)\n08/02/2020 18:10:26 - DEBUG - root -   Value not found in standard value set: [97944128737] (slot: phone domain: taxi)\n08/02/2020 18:10:27 - DEBUG - root -   Value not found in standard value set: [63366824025] (slot: phone domain: taxi)\ndialogue:   9%|▉         | 9/100 [00:04<00:44,  2.06it/s]08/02/2020 18:10:27 - DEBUG - root -   Value not found in standard value set: [do n't care] (slot: arriveBy domain: train)\ndialogue:  15%|█▌        | 15/100 [00:05<00:27,  3.07it/s]08/02/2020 18:10:29 - DEBUG - root -   Value not found in standard value set: [do n't care] (slot: leaveAt domain: train)\n08/02/2020 18:10:29 - DEBUG - root -   Value not found in standard value set: [do] (slot: leaveAt domain: train)\ndialogue:  19%|█▉        | 19/100 [00:09<00:53,  1.50it/s]08/02/2020 18:10:32 - DEBUG - root -   Value not found in standard value set: [do n't care] (slot: leaveAt domain: train)\ndialogue:  29%|██▉       | 29/100 [00:12<00:22,  3.20it/s]08/02/2020 18:10:36 - DEBUG - root -   Value not found in standard value set: [do] (slot: leaveAt domain: train)\ndialogue:  30%|███       | 30/100 [00:13<00:22,  3.09it/s]08/02/2020 18:10:36 - DEBUG - root -   Value not found in standard value set: [97071971551] (slot: phone domain: taxi)\n08/02/2020 18:10:37 - DEBUG - root -   Value not found in standard value set: [73859162242] (slot: phone domain: taxi)\ndialogue:  34%|███▍      | 34/100 [00:15<00:28,  2.34it/s]08/02/2020 18:10:38 - DEBUG - root -   Value not found in standard value set: [37321168848] (slot: phone domain: taxi)\n08/02/2020 18:10:38 - DEBUG - root -   Value not found in standard value set: [08460091152] (slot: phone domain: taxi)\n08/02/2020 18:10:38 - DEBUG - root -   Value not found in standard value set: [42757518412] (slot: phone domain: taxi)\n08/02/2020 18:10:38 - DEBUG - root -   Value not found in standard value set: [72905266152] (slot: phone domain: taxi)\n08/02/2020 18:10:38 - DEBUG - root -   Value not found in standard value set: [40331970532] (slot: phone domain: taxi)\n08/02/2020 18:10:38 - DEBUG - root -   Value not found in standard value set: [69546172683] (slot: phone domain: taxi)\n08/02/2020 18:10:38 - DEBUG - root -   Value not found in standard value set: [85349833088] (slot: phone domain: taxi)\n08/02/2020 18:10:38 - DEBUG - root -   Value not found in standard value set: [26889711088] (slot: phone domain: taxi)\n08/02/2020 18:10:38 - DEBUG - root -   Value not found in standard value set: [51377555479] (slot: phone domain: taxi)\n08/02/2020 18:10:38 - DEBUG - root -   Value not found in standard value set: [08879495070] (slot: phone domain: taxi)\n08/02/2020 18:10:39 - DEBUG - root -   Value not found in standard value set: [09391881153] (slot: phone domain: taxi)\n08/02/2020 18:10:39 - DEBUG - root -   Value not found in standard value set: [06241444535] (slot: phone domain: taxi)\n08/02/2020 18:10:39 - DEBUG - root -   Value not found in standard value set: [54539254036] (slot: phone domain: taxi)\n08/02/2020 18:10:39 - DEBUG - root -   Value not found in standard value set: [38203040127] (slot: phone domain: taxi)\n08/02/2020 18:10:39 - DEBUG - root -   Value not found in standard value set: [77266780176] (slot: phone domain: taxi)\n08/02/2020 18:10:39 - DEBUG - root -   Value not found in standard value set: [25789211209] (slot: phone domain: taxi)\n08/02/2020 18:10:39 - DEBUG - root -   Value not found in standard value set: [59543988368] (slot: phone domain: taxi)\n08/02/2020 18:10:39 - DEBUG - root -   Value not found in standard value set: [53982282303] (slot: phone domain: taxi)\n08/02/2020 18:10:39 - DEBUG - root -   Value not found in standard value set: [86750210326] (slot: phone domain: taxi)\ndialogue:  37%|███▋      | 37/100 [00:16<00:28,  2.18it/s]08/02/2020 18:10:40 - DEBUG - root -   Value not found in standard value set: [unusual] (slot: food domain: restaurant)\ndialogue:  41%|████      | 41/100 [00:19<00:26,  2.25it/s]08/02/2020 18:10:42 - DEBUG - root -   Value not found in standard value set: [do n't care] (slot: arriveBy domain: train)\n08/02/2020 18:10:42 - DEBUG - root -   Value not found in standard value set: [do n't care] (slot: arriveBy domain: train)\n08/02/2020 18:10:42 - DEBUG - root -   Value not found in standard value set: [do n't care] (slot: arriveBy domain: train)\ndialogue:  49%|████▉     | 49/100 [00:22<00:19,  2.56it/s]08/02/2020 18:10:45 - DEBUG - root -   Value not found in standard value set: [do n't care] (slot: leaveAt domain: train)\ndialogue:  50%|█████     | 50/100 [00:22<00:19,  2.50it/s]08/02/2020 18:10:46 - DEBUG - root -   Value not found in standard value set: [The place] (slot: name domain: hotel)\ndialogue:  52%|█████▏    | 52/100 [00:24<00:31,  1.52it/s]08/02/2020 18:10:47 - DEBUG - root -   Value not found in standard value set: [10190516675] (slot: phone domain: taxi)\n08/02/2020 18:10:47 - DEBUG - root -   Value not found in standard value set: [55202205636] (slot: phone domain: taxi)\n08/02/2020 18:10:47 - DEBUG - root -   Value not found in standard value set: [29173687246] (slot: phone domain: taxi)\n08/02/2020 18:10:47 - DEBUG - root -   Value not found in standard value set: [60572462508] (slot: phone domain: taxi)\n08/02/2020 18:10:48 - DEBUG - root -   Value not found in standard value set: [71343954042] (slot: phone domain: taxi)\ndialogue:  53%|█████▎    | 53/100 [00:24<00:26,  1.77it/s]08/02/2020 18:10:48 - DEBUG - root -   Value not found in standard value set: [by] (slot: entrance fee domain: attraction)\n08/02/2020 18:10:48 - DEBUG - root -   Value not found in standard value set: [90676745052] (slot: phone domain: taxi)\n08/02/2020 18:10:48 - DEBUG - root -   Value not found in standard value set: [50688883062] (slot: phone domain: taxi)\n08/02/2020 18:10:48 - DEBUG - root -   Value not found in standard value set: [62921652797] (slot: phone domain: taxi)\n08/02/2020 18:10:48 - DEBUG - root -   Value not found in standard value set: [63034661269] (slot: phone domain: taxi)\n08/02/2020 18:10:48 - DEBUG - root -   Value not found in standard value set: [81451909130] (slot: phone domain: taxi)\n08/02/2020 18:10:48 - DEBUG - root -   Value not found in standard value set: [94371771138] (slot: phone domain: taxi)\n08/02/2020 18:10:48 - DEBUG - root -   Value not found in standard value set: [68553124059] (slot: phone domain: taxi)\ndialogue:  55%|█████▌    | 55/100 [00:26<00:36,  1.25it/s]08/02/2020 18:10:50 - DEBUG - root -   Value not found in standard value set: [from] (slot: leaveAt domain: train)\ndialogue:  56%|█████▌    | 56/100 [00:27<00:31,  1.39it/s]08/02/2020 18:10:50 - DEBUG - root -   Value not found in standard value set: [66] (slot: price domain: train)\ndialogue:  63%|██████▎   | 63/100 [00:29<00:13,  2.84it/s]08/02/2020 18:10:53 - DEBUG - root -   Value not found in standard value set: [do n't care] (slot: arriveBy domain: train)\n08/02/2020 18:10:53 - DEBUG - root -   Value not found in standard value set: [do n't care] (slot: arriveBy domain: train)\ndialogue:  64%|██████▍   | 64/100 [00:30<00:14,  2.54it/s]08/02/2020 18:10:53 - DEBUG - root -   Value not found in standard value set: [Parkside , Cambridge] (slot: address domain: police)\ndialogue:  70%|███████   | 70/100 [00:33<00:12,  2.37it/s]08/02/2020 18:10:56 - DEBUG - root -   Value not found in standard value set: [NOOFFER] (slot: departure domain: train)\n08/02/2020 18:10:56 - DEBUG - root -   Value not found in standard value set: [Dest] (slot: departure domain: train)\ndialogue:  74%|███████▍  | 74/100 [00:34<00:08,  3.13it/s]08/02/2020 18:10:58 - DEBUG - root -   Value not found in standard value set: [72162810341] (slot: phone domain: taxi)\n08/02/2020 18:10:58 - DEBUG - root -   Value not found in standard value set: [54749687046] (slot: phone domain: taxi)\n08/02/2020 18:10:58 - DEBUG - root -   Value not found in standard value set: [65225683939] (slot: phone domain: taxi)\n08/02/2020 18:10:58 - DEBUG - root -   Value not found in standard value set: [45212308756] (slot: phone domain: taxi)\n08/02/2020 18:10:58 - DEBUG - root -   Value not found in standard value set: [16245972329] (slot: phone domain: taxi)\n08/02/2020 18:10:58 - DEBUG - root -   Value not found in standard value set: [14548015455] (slot: phone domain: taxi)\n08/02/2020 18:10:58 - DEBUG - root -   Value not found in standard value set: [16306028384] (slot: phone domain: taxi)\n08/02/2020 18:10:58 - DEBUG - root -   Value not found in standard value set: [91301133629] (slot: phone domain: taxi)\n08/02/2020 18:10:58 - DEBUG - root -   Value not found in standard value set: [97496533037] (slot: phone domain: taxi)\n08/02/2020 18:10:58 - DEBUG - root -   Value not found in standard value set: [16435888050] (slot: phone domain: taxi)\ndialogue:  77%|███████▋  | 77/100 [00:36<00:09,  2.45it/s]08/02/2020 18:10:59 - DEBUG - root -   Value not found in standard value set: [41699435582] (slot: phone domain: taxi)\n08/02/2020 18:10:59 - DEBUG - root -   Value not found in standard value set: [43338652989] (slot: phone domain: taxi)\n08/02/2020 18:10:59 - DEBUG - root -   Value not found in standard value set: [75910695868] (slot: phone domain: taxi)\n08/02/2020 18:10:59 - DEBUG - root -   Value not found in standard value set: [39349554073] (slot: phone domain: taxi)\n08/02/2020 18:10:59 - DEBUG - root -   Value not found in standard value set: [76399183543] (slot: phone domain: taxi)\n08/02/2020 18:11:00 - DEBUG - root -   Value not found in standard value set: [33608535525] (slot: phone domain: taxi)\n08/02/2020 18:11:00 - DEBUG - root -   Value not found in standard value set: [74707034644] (slot: phone domain: taxi)\n08/02/2020 18:11:00 - DEBUG - root -   Value not found in standard value set: [06824266748] (slot: phone domain: taxi)\n08/02/2020 18:11:00 - DEBUG - root -   Value not found in standard value set: [55821806857] (slot: phone domain: taxi)\n08/02/2020 18:11:00 - DEBUG - root -   Value not found in standard value set: [87352042747] (slot: phone domain: taxi)\n08/02/2020 18:11:00 - DEBUG - root -   Value not found in standard value set: [28629547248] (slot: phone domain: taxi)\n08/02/2020 18:11:00 - DEBUG - root -   Value not found in standard value set: [08268496663] (slot: phone domain: taxi)\n08/02/2020 18:11:00 - DEBUG - root -   Value not found in standard value set: [21898590241] (slot: phone domain: taxi)\n08/02/2020 18:11:00 - DEBUG - root -   Value not found in standard value set: [88821646284] (slot: phone domain: taxi)\n08/02/2020 18:11:00 - DEBUG - root -   Value not found in standard value set: [23130393598] (slot: phone domain: taxi)\ndialogue:  79%|███████▉  | 79/100 [00:37<00:10,  1.92it/s]08/02/2020 18:11:00 - DEBUG - root -   Value not found in standard value set: [35832523452] (slot: phone domain: taxi)\n08/02/2020 18:11:00 - DEBUG - root -   Value not found in standard value set: [77167740117] (slot: phone domain: taxi)\n08/02/2020 18:11:01 - DEBUG - root -   Value not found in standard value set: [22801505861] (slot: phone domain: taxi)\n08/02/2020 18:11:01 - DEBUG - root -   Value not found in standard value set: [85101794470] (slot: phone domain: taxi)\n08/02/2020 18:11:01 - DEBUG - root -   Value not found in standard value set: [19632913166] (slot: phone domain: taxi)\n08/02/2020 18:11:01 - DEBUG - root -   Value not found in standard value set: [82609367111] (slot: phone domain: taxi)\n08/02/2020 18:11:01 - DEBUG - root -   Value not found in standard value set: [52023135599] (slot: phone domain: taxi)\n08/02/2020 18:11:01 - DEBUG - root -   Value not found in standard value set: [98707404902] (slot: phone domain: taxi)\n08/02/2020 18:11:01 - DEBUG - root -   Value not found in standard value set: [11123951670] (slot: phone domain: taxi)\n08/02/2020 18:11:01 - DEBUG - root -   Value not found in standard value set: [52776113076] (slot: phone domain: taxi)\n08/02/2020 18:11:01 - DEBUG - root -   Value not found in standard value set: [68890544833] (slot: phone domain: taxi)\n08/02/2020 18:11:01 - DEBUG - root -   Value not found in standard value set: [66586719884] (slot: phone domain: taxi)\ndialogue:  84%|████████▍ | 84/100 [00:39<00:07,  2.25it/s]08/02/2020 18:11:03 - DEBUG - root -   Value not found in standard value set: [do n't care] (slot: arriveBy domain: train)\ndialogue:  85%|████████▌ | 85/100 [00:40<00:06,  2.21it/s]08/02/2020 18:11:03 - DEBUG - root -   Value not found in standard value set: [31429063055] (slot: phone domain: taxi)\n08/02/2020 18:11:04 - DEBUG - root -   Value not found in standard value set: [53619465155] (slot: phone domain: taxi)\n08/02/2020 18:11:04 - DEBUG - root -   Value not found in standard value set: [23456418587] (slot: phone domain: taxi)\n08/02/2020 18:11:04 - DEBUG - root -   Value not found in standard value set: [87113138124] (slot: phone domain: taxi)\n08/02/2020 18:11:04 - DEBUG - root -   Value not found in standard value set: [38559844436] (slot: phone domain: taxi)\n08/02/2020 18:11:04 - DEBUG - root -   Value not found in standard value set: [00147824192] (slot: phone domain: taxi)\n08/02/2020 18:11:04 - DEBUG - root -   Value not found in standard value set: [95415667871] (slot: phone domain: taxi)\n08/02/2020 18:11:04 - DEBUG - root -   Value not found in standard value set: [80603220423] (slot: phone domain: taxi)\n08/02/2020 18:11:04 - DEBUG - root -   Value not found in standard value set: [16881767199] (slot: phone domain: taxi)\n08/02/2020 18:11:04 - DEBUG - root -   Value not found in standard value set: [62228750300] (slot: phone domain: taxi)\n08/02/2020 18:11:04 - DEBUG - root -   Value not found in standard value set: [27333988158] (slot: phone domain: taxi)\ndialogue:  89%|████████▉ | 89/100 [00:41<00:03,  3.04it/s]08/02/2020 18:11:05 - DEBUG - root -   Value not found in standard value set: [do n't care] (slot: arriveBy domain: train)\n08/02/2020 18:11:05 - DEBUG - root -   Value not found in standard value set: [do n't care] (slot: arriveBy domain: train)\ndialogue:  99%|█████████▉| 99/100 [00:45<00:00,  2.95it/s]08/02/2020 18:11:08 - INFO - convlab2.util.analysis_tool.analyzer -   model name sys_agent2\n08/02/2020 18:11:08 - INFO - convlab2.util.analysis_tool.analyzer -   dialogue 100\n08/02/2020 18:11:08 - INFO - convlab2.util.analysis_tool.analyzer -   {'police': {'info': {'none': 'none'}, 'reqt': {'phone': '01223358966'}}}\n08/02/2020 18:11:08 - INFO - convlab2.util.analysis_tool.analyzer -   task complete: 0.840\n08/02/2020 18:11:08 - INFO - convlab2.util.analysis_tool.analyzer -   task success: 0.770\n08/02/2020 18:11:08 - INFO - convlab2.util.analysis_tool.analyzer -   book rate: 0.925\n08/02/2020 18:11:08 - INFO - convlab2.util.analysis_tool.analyzer -   inform precision/recall/f1: 0.786 0.894 0.816\ndialogue: 100%|██████████| 100/100 [00:45<00:00,  2.20it/s]\n====================================================================================================\ncomplete number of dialogs/tot: 0.84\nsuccess number of dialogs/tot: 0.77\naverage precision: 0.7864130434782608\naverage recall: 0.893840579710145\naverage f1: 0.8156309873701177\naverage book rate: 0.9252136752136753\naverage turn (succ): 11.246753246753247\naverage turn (all): 15.24\n====================================================================================================\n"
        }
      ]
    },
    {
      "cell_type": "code",
      "execution_count": null,
      "metadata": {},
      "outputs": [],
      "source": []
    }
  ]
}