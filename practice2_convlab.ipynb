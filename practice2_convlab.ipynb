{
  "nbformat": 4,
  "nbformat_minor": 0,
  "metadata": {
    "colab": {
      "name": "Tutorial",
      "provenance": [],
      "collapsed_sections": [],
      "toc_visible": true
    },
    "kernelspec": {
      "name": "python3",
      "display_name": "Python 3"
    }
  },
  "cells": [
    {
      "cell_type": "markdown",
      "metadata": {},
      "source": [
        "# Practice 2. ConvLab을 이용한 Pipelined 대화 시스템 구축\n",
        "\n",
        "# 목차\n",
        "\n",
        "## Step 1. MultiWOZ 데이터셋을 살펴보자\n",
        "\n",
        "## Step 2. ConvLab을 활용해 Pipelined 대화 시스템을 구축하자\n",
        "\n",
        "## Step 3. 모델 별 성능을 평가하자"
      ]
    },
    {
      "cell_type": "markdown",
      "metadata": {},
      "source": [
        "# Step 1. MultiWOZ 데이터셋을 살펴보자\n",
        "\n",
        "## Step 1.0 필요한 module들을 정의합니다\n",
        "\n",
        "아래 코드를 도와주는 module들 이며, 필요시 수정할 수 있습니다."
      ]
    },
    {
      "cell_type": "code",
      "execution_count": 1,
      "metadata": {},
      "outputs": [],
      "source": [
        "import json\n",
        "import os\n",
        "import zipfile\n",
        "import sys\n",
        "from collections import Counter\n",
        "from nltk.tokenize import word_tokenize\n",
        "\n",
        "from textwrap import indent\n",
        "from pprint import pformat\n",
        "from pprint import pprint\n",
        "\n",
        "def read_zipped_json(filepath, filename):\n",
        "    archive = zipfile.ZipFile(filepath, 'r')\n",
        "    return json.load(archive.open(filename))\n",
        "\n",
        "\n",
        "def pprint_manual(user_manual, name):\n",
        "    \"\"\"print user manual\n",
        "        argument 'name' is needed to discriminate 'WOZ' from others\n",
        "    \"\"\"\n",
        "    print('    User manual (message) : ')\n",
        "    if 'WOZ' in name:\n",
        "        print(\" \"*8, user_manual)\n",
        "    else:\n",
        "        for manual_one in user_manual:\n",
        "            print(\" \"*8, manual_one)\n",
        "\n",
        "\n",
        "def pprint_goal(goal, name):\n",
        "    \"\"\"print user's goal\n",
        "        argument 'name' is needed to discriminate \"WOZ\" from others.\n",
        "    \"\"\"\n",
        "    if 'WOZ' in name:\n",
        "        pass\n",
        "    else:\n",
        "        for i, mes in enumerate(goal['message']):\n",
        "            mes = mes.replace('<span class=\\'emphasis\\'>', '')\n",
        "            mes = mes.replace('</span>', '')\n",
        "            goal['message'][i] = mes\n",
        "\n",
        "    print(\"[Goals]\")\n",
        "    user_manual = None\n",
        "    for key, value in goal.items():\n",
        "        if not value:           # empty\n",
        "            continue\n",
        "        elif key == 'message':  # user manual\n",
        "            user_manual = value\n",
        "        else:                   # valid domain\n",
        "            domain = key        \n",
        "            print(indent(pformat({domain : value}), ' '*4))\n",
        "    pprint_manual(user_manual, name)\n",
        "    \n",
        "\n",
        "def get_valid_domains(goal):\n",
        "    \"\"\"return valid domains for pretty print\"\"\"\n",
        "    domains = []\n",
        "    for key, value in goal.items():\n",
        "        if not value:           # empty\n",
        "            continue\n",
        "        elif key == 'message':  # user manual\n",
        "            continue\n",
        "        else:                   # valid domain\n",
        "            domains.append(key)\n",
        "    return domains\n",
        "\n",
        "\n",
        "def pprint_turns(log, domains):\n",
        "    \"\"\"pretty print for dialogue turns\"\"\"\n",
        "    \n",
        "    # signal for stopping print\n",
        "    signal = None\n",
        "    \n",
        "    for i, log_one in enumerate(log):\n",
        "        \n",
        "        # dummy input function for pausing\n",
        "        print('-' * 20 + '1. Enter to keep going 2. Type \\'stop\\' and Enter to stop printing ' + '-' * 40)\n",
        "        signal = input()\n",
        "        if 'stop' in signal:\n",
        "            break\n",
        "\n",
        "        # check whether system turn or not\n",
        "        bool_sys_turn = False\n",
        "        if log_one['metadata']:\n",
        "            bool_sys_turn = True\n",
        "\n",
        "        # delete span_info\n",
        "        if 'span_info' in log_one:\n",
        "            del log_one['span_info']\n",
        "\n",
        "        # delete unnecessary domains\n",
        "        domain_pairs = log_one['metadata']\n",
        "        del_domains = []\n",
        "        for dom, _ in domain_pairs.items():\n",
        "            if not dom in domains:\n",
        "                del_domains.append(dom)\n",
        "        for dom in del_domains:\n",
        "            del domain_pairs[dom]\n",
        "    \n",
        "        # pretty print\n",
        "        if bool_sys_turn: print(\"[SYS]\", end=\" \")\n",
        "        else:             print(\"[USR]\", end=\" \")\n",
        "        print(\"(turn {})\".format(i))\n",
        "\n",
        "        log_one['1. dialogue_state'] = log_one['metadata']\n",
        "        log_one['2. dialogue_act'] = log_one['dialog_act']\n",
        "        log_one['3. text'] = log_one['text']\n",
        "        del log_one['metadata']\n",
        "        del log_one['dialog_act']\n",
        "        del log_one['text']\n",
        "        print(indent(pformat(log_one, width=100), ' ' * 4))\n",
        "    \n",
        "    # transform signal to boolean\n",
        "    if 'stop' in signal:\n",
        "        signal = True\n",
        "    else: \n",
        "        signal = False\n",
        "    return signal"
      ]
    },
    {
      "cell_type": "markdown",
      "metadata": {},
      "source": [
        "### Step 1.1 MultiWOZ 데이터셋을 불러옵니다.\n",
        "\n",
        "MultiWOZ 데이터셋은 7개의 domain ('hotel', 'train', 'attraction', 'restaurant' 'taxi', 'policy', 'hospital') 으로 구성되어 있으며, 여행정보를 얻고자 하는 'user' 와 이를 도와주는 'system'이 나누는 대화에 대한 데이터 셋입니다.\n",
        "약 10,000개의 대화 뭉치로 구성되어 있으며, train, validation, test용으로 구분되어 있습니다.\n",
        "\n",
        "아래 코드를 실행하면, MultiWOZ 데이터 셋 내 train용 데이터 이름 100개가 출력 됩니다."
      ]
    },
    {
      "cell_type": "code",
      "execution_count": 2,
      "metadata": {
        "tags": []
      },
      "outputs": [
        {
          "output_type": "stream",
          "name": "stdout",
          "text": "current directory : /ext/samsung_dialogue_tutorial\nload ConvLab-2/data/multiwoz/train.json...! \nnumber of dialogues : 8434\nload ConvLab-2/data/multiwoz/val.json...! \nnumber of dialogues : 999\nload ConvLab-2/data/multiwoz/test.json...! \nnumber of dialogues : 1000\n\n['SNG01856', 'SNG0129', 'MUL2168', 'SNG01445', 'MUL2105', 'PMUL1690', 'MUL2395', 'SNG0190', 'PMUL1170', 'SNG01741', 'PMUL4899', 'MUL2261', 'SSNG0348', 'MUL0784', 'MUL0886', 'PMUL2512', 'SNG0548', 'MUL1474', 'PMUL4372', 'PMUL4047', 'PMUL0151', 'MUL0586', 'PMUL3552', 'PMUL1539', 'MUL1790', 'PMUL3021', 'SNG0699', 'SNG0228', 'PMUL3296', 'MUL1434', 'PMUL2203', 'PMUL3250', 'PMUL0510', 'MUL1124', 'PMUL3719', 'SNG0297', 'PMUL2049', 'SNG01722', 'PMUL2100', 'MUL1853', 'MUL2694', 'SNG1006', 'SNG1345', 'MUL1299', 'MUL1490', 'PMUL2749', 'MUL1628', 'PMUL2202', 'SNG01450', 'SNG0131', 'SNG0984', 'PMUL1419', 'SNG0798', 'MUL0161', 'PMUL2803', 'MUL0925', 'MUL1005', 'SNG0104', 'SNG1197', 'MUL1265', 'WOZ20259', 'MUL1223', 'PMUL2596', 'MUL2037', 'MUL1497', 'MUL2256', 'MUL0076', 'WOZ20114', 'MUL1100', 'PMUL4469', 'PMUL0263', 'PMUL3597', 'PMUL1454', 'MUL1618', 'PMUL3342', 'PMUL0906', 'PMUL0695', 'PMUL0307', 'PMUL3045', 'MUL1113', 'SNG0385', 'SNG0285', 'SNG1134', 'PMUL2082', 'PMUL3031', 'PMUL1499', 'SNG1097', 'PMUL0608', 'PMUL4191', 'MUL0265', 'PMUL0433', 'WOZ20214', 'MUL1567', 'WOZ20593', 'PMUL4487', 'MUL2535', 'PMUL0552', 'PMUL0621', 'PMUL1229', 'PMUL1169']\n"
        }
      ],
      "source": [
        "cur_dir = os.path.abspath(os.curdir)\n",
        "print(\"current directory :\", cur_dir)\n",
        "data_dir = \"ConvLab-2/data/multiwoz\"\n",
        "processed_data_dir = os.path.join(cur_dir, 'multiwoz_data/all_data')\n",
        "if not os.path.exists(processed_data_dir):\n",
        "    os.makedirs(processed_data_dir)\n",
        "\n",
        "data_key = ['train', 'val', 'test']\n",
        "data = {}\n",
        "for key in data_key:\n",
        "    data[key] = read_zipped_json(os.path.join(data_dir, key + '.json.zip'), key + '.json')\n",
        "    print('load {}.json...! '.format(os.path.join(data_dir, key)))\n",
        "    print('number of dialogues : {}'.format(len(data[key])))\n",
        "print()\n",
        "\n",
        "# print available dialogue name until 100\n",
        "print(list(data['train'].keys())[:100])\n"
      ]
    },
    {
      "cell_type": "markdown",
      "metadata": {},
      "source": [
        "### Step 1.2 데이터가 어떻게 생겼는지 살펴봅시다.\n",
        "\n",
        "위의 출력된 데이터 이름들 중 몇개를 파이썬 리스트 안에 삽입하여 dialogue 를 확인할 수 있습니다. (ex. names = \\['SNG0943', 'MUL1801'] ))\n",
        "\n",
        "한 dialogue는 크게\n",
        "\n",
        "1. user의 goal, (코드 상에서 'goal'))\n",
        "\n",
        "2. system과 user의 대화, (코드 상에서 'dialogue_turns'))\n",
        "\n",
        "로 구분 됩니다.\n",
        "\n",
        "user (\\[USR]])는 정의된 goal 및 manual을 읽고, 해당 goal을 달성하기 위해 대화를 수행합니다.\n",
        "\n",
        "system (\\[SYS])은 user의 goal을 알지 못하고, 대화를 통해 user가 원하는 조건을 파악(1)하고, user가 원하는 정보를 제공(2)하며, 필요시 예약(3)을 수행합니다.\n",
        "\n",
        "따라서, 본 데이터셋의 경우 __system model을 만드는 것__을 목표로 합니다.\n",
        "\n",
        "***\n",
        "\n",
        "아래 코드를 실행하면 goal 및 발화를 살펴볼 수 있으며, Enter로 넘길 수 있습니다. \n",
        "\n",
        "그만 보고 싶다면 stop을 입력 후 Enter 합니다.\n"
      ]
    },
    {
      "cell_type": "code",
      "execution_count": 3,
      "metadata": {
        "tags": []
      },
      "outputs": [
        {
          "output_type": "stream",
          "name": "stdout",
          "text": "\n-----------------------------------------------------------------------------------------------------------------------------\n[Dialogue name] 'SNG0943'\n[Goals]\n    {'hotel': {'fail_info': {},\n               'info': {'internet': 'yes',\n                        'parking': 'yes',\n                        'stars': '4',\n                        'type': 'guesthouse'},\n               'reqt': ['address', 'pricerange']}}\n    User manual (message) : \n         You are looking for a place to stay. The hotel should have a star of 4 and should include free parking\n         The hotel should be in the type of guesthouse and should include free wifi\n         Make sure you get address and price range\n--------------------1. Enter to keep going 2. Type 'stop' and Enter to stop printing ----------------------------------------\n[USR] (turn 0)\n    {'1. dialogue_state': {},\n     '2. dialogue_act': {'Hotel-Inform': [['Parking', 'yes'], ['Stars', '4']]},\n     '3. text': \"Howdy ! I 'm in town for the night and need a place to stay . I 'd like a four star \"\n                'joint with free parking , if you please .'}\n--------------------1. Enter to keep going 2. Type 'stop' and Enter to stop printing ----------------------------------------\n"
        }
      ],
      "source": [
        "\n",
        "# You can handle dialogue_names\n",
        "dialogue_names = ['SNG0943', 'MUL1801']\n",
        "\n",
        "for name in dialogue_names:\n",
        "    \n",
        "    print()\n",
        "    print('-' * 125)\n",
        "    print(\"[Dialogue name] \\'{}\\'\".format(name))\n",
        "\n",
        "    # access datum using name\n",
        "    datum = data['train'][name]\n",
        "    goal = datum['goal']\n",
        "    dialogue_turns = datum['log']\n",
        "\n",
        "    # print goal and dialogue turns\n",
        "    pprint_goal(goal, name)\n",
        "    valid_domains = get_valid_domains(goal)\n",
        "    break_signal = pprint_turns(dialogue_turns, valid_domains)\n",
        "\n",
        "    if break_signal:\n",
        "        break"
      ]
    },
    {
      "cell_type": "markdown",
      "metadata": {},
      "source": [
        "# Step 2. ConvLab을 활용해 Pipelined 대화 시스템을 구축하자\n",
        "\n",
        "## Step 2.0 필요한 module들을 정의합니다\n",
        "\n",
        "아래 코드를 도와주는 module들 이며, 필요시 수정할 수 있습니다."
      ]
    },
    {
      "cell_type": "code",
      "metadata": {
        "id": "OqzFlmCBCXEV",
        "colab_type": "code",
        "colab": {},
        "tags": []
      },
      "source": [
        "# common import: convlab2.$module.$model.$dataset\n",
        "from convlab2.nlu.jointBERT.multiwoz import BERTNLU\n",
        "from convlab2.nlu.milu.multiwoz import MILU\n",
        "from convlab2.dst.rule.multiwoz import RuleDST\n",
        "from convlab2.policy.rule.multiwoz import RulePolicy\n",
        "from convlab2.nlg.template.multiwoz import TemplateNLG\n",
        "from convlab2.dialog_agent import BiSession, Agent # , # PipelineAgent\n",
        "from convlab2.evaluator.multiwoz_eval import MultiWozEvaluator\n",
        "from pprint import pprint\n",
        "import random\n",
        "import numpy as np\n",
        "import torch\n",
        "import spacy\n",
        "\n",
        "import logging \n",
        "# uncessary logging block\n",
        "mpl_logger = logging.getLogger('matplotlib') \n",
        "mpl_logger.setLevel(logging.WARNING) \n",
        "cntp_logger = logging.getLogger('urllib3.connectionpool')\n",
        "cntp_logger.setLevel(logging.WARNING)\n",
        "ttu_logger = logging.getLogger('transformers.tokenization_utils')\n",
        "ttu_logger.setLevel(logging.WARNING)\n",
        "tcu_logger = logging.getLogger('transformers.configuration_utils')\n",
        "tcu_logger.setLevel(logging.WARNING)\n",
        "tmu_logger = logging.getLogger('transformers.modeling_utils')\n",
        "tmu_logger.setLevel(logging.WARNING)\n",
        "logging.getLogger().setLevel(logging.INFO)\n",
        "import warnings\n",
        "warnings.filterwarnings(\"ignore\")\n",
        "\n",
        "spacy.cli.download('en_core_web_sm')\n",
        "spacy.load('en_core_web_sm')\n",
        "\n",
        "from convlab2.nlu import NLU\n",
        "from convlab2.dst import DST\n",
        "from convlab2.policy import Policy\n",
        "from convlab2.nlg import NLG\n",
        "from copy import deepcopy\n",
        "\n",
        "class PipelineAgent(Agent):\n",
        "    \"\"\"Pipeline dialog agent base class, including NLU, DST, Policy and NLG.\n",
        "\n",
        "    The combination modes of pipeline agent modules are flexible. The only thing you have to make sure is that\n",
        "    the API of agents are matched.\n",
        "\n",
        "    Example:\n",
        "        If agent A is (nlu, tracker, policy), then the agent B should be like (tracker, policy, nlg) to ensure API\n",
        "        matching.\n",
        "    The valid module combinations are as follows:\n",
        "           =====   =====    ======  ===     ==      ===\n",
        "            NLU     DST     Policy  NLG     In      Out\n",
        "           =====   =====    ======  ===     ==      ===\n",
        "            \\+      \\+        \\+    \\+      nl      nl\n",
        "             o      \\+        \\+    \\+      da      nl\n",
        "             o      \\+        \\+     o      da      da\n",
        "            \\+      \\+        \\+     o      nl      da\n",
        "             o       o        \\+     o      da      da\n",
        "           =====   =====    ======  ===     ==      ===\n",
        "    \"\"\"\n",
        "\n",
        "    def __init__(self, nlu: NLU, dst: DST, policy: Policy, nlg: NLG, name: str):\n",
        "        \"\"\"The constructor of PipelineAgent class.\n",
        "\n",
        "        Here are some special combination cases:\n",
        "\n",
        "            1. If you use word-level DST (such as Neural Belief Tracker), you should set the nlu_model paramater \\\n",
        "             to None. The agent will combine the modules automitically.\n",
        "\n",
        "            2. If you want to aggregate DST and Policy as a single module, set tracker to None.\n",
        "\n",
        "        Args:\n",
        "            nlu (NLU):\n",
        "                The natural langauge understanding module of agent.\n",
        "\n",
        "            dst (DST):\n",
        "                The dialog state tracker of agent.\n",
        "\n",
        "            policy (Policy):\n",
        "                The dialog policy module of agent.\n",
        "\n",
        "            nlg (NLG):\n",
        "                The natural langauge generator module of agent.\n",
        "        \"\"\"\n",
        "        super(PipelineAgent, self).__init__(name=name)\n",
        "        assert self.name in ['user', 'sys']\n",
        "        self.opponent_name = 'user' if self.name is 'sys' else 'sys'\n",
        "        self.nlu = nlu\n",
        "        self.dst = dst\n",
        "        self.policy = policy\n",
        "        self.nlg = nlg\n",
        "        self.init_session()\n",
        "        self.history = []\n",
        "\n",
        "        self.print_nlu = False\n",
        "        self.print_dst = False\n",
        "        self.print_pol = False\n",
        "\n",
        "    def response(self, observation, print_nlu=False, print_dst=False, print_pol=False):\n",
        "        \"\"\"Generate agent response using the agent modules.\"\"\"\n",
        "        # Note: If you modify the logic of this function, please ensure that it is consistent with deploy.server.ServerCtrl._turn()\n",
        "\n",
        "        self.print_nlu = print_nlu\n",
        "        self.print_dst = print_dst\n",
        "        self.print_pol = print_pol\n",
        "\n",
        "        if self.dst is not None:\n",
        "            self.dst.state['history'].append([self.opponent_name, observation]) # [['sys', sys_utt], ['user', user_utt],...]\n",
        "        self.history.append([self.opponent_name, observation])\n",
        "        # get dialog act\n",
        "        if self.nlu is not None:\n",
        "            self.input_action = self.nlu.predict(observation, context=[x[1] for x in self.history[:-1]])\n",
        "        else:\n",
        "            self.input_action = observation\n",
        "        self.input_action = deepcopy(self.input_action) # get rid of reference problem\n",
        "        if self.print_nlu:\n",
        "            print(\"nlu predict\")\n",
        "            pprint(self.input_action)\n",
        "        # get state\n",
        "        if self.dst is not None:\n",
        "            if self.name is 'sys':\n",
        "                self.dst.state['user_action'] = self.input_action\n",
        "            else:\n",
        "                self.dst.state['system_action'] = self.input_action\n",
        "            state = self.dst.update(self.input_action)\n",
        "        else:\n",
        "            state = self.input_action\n",
        "        state = deepcopy(state) # get rid of reference problem\n",
        "        if self.print_dst:\n",
        "            print(\"dialogue state predict\")\n",
        "            pprint({'dialogue state': state['belief_state'], 'history': state['history']})\n",
        "        # get action\n",
        "        self.output_action = deepcopy(self.policy.predict(state)) # get rid of reference problem\n",
        "        if self.print_pol:\n",
        "            print(\"dialogue act predict\")\n",
        "            pprint(self.output_action)\n",
        "\n",
        "        # get model response\n",
        "        if self.nlg is not None:\n",
        "            model_response = self.nlg.generate(self.output_action)\n",
        "        else:\n",
        "            model_response = self.output_action\n",
        "        # print(\"model response {}\".format(model_response))\n",
        "        if self.dst is not None:\n",
        "            self.dst.state['history'].append([self.name, model_response])\n",
        "            if self.name is 'sys':\n",
        "                self.dst.state['system_action'] = self.output_action\n",
        "            else:\n",
        "                self.dst.state['user_action'] = self.output_action\n",
        "        self.history.append([self.name, model_response])\n",
        "        return model_response\n",
        "\n",
        "    def is_terminated(self):\n",
        "        if hasattr(self.policy, 'is_terminated'):\n",
        "            return self.policy.is_terminated()\n",
        "        return None\n",
        "\n",
        "    def get_reward(self):\n",
        "        if hasattr(self.policy, 'get_reward'):\n",
        "            return self.policy.get_reward()\n",
        "        return None\n",
        "\n",
        "    def init_session(self):\n",
        "        \"\"\"Init the attributes of DST and Policy module.\"\"\"\n",
        "        if self.nlu is not None:\n",
        "            self.nlu.init_session()\n",
        "        if self.dst is not None:\n",
        "            self.dst.init_session()\n",
        "            if self.name == 'sys':\n",
        "                self.dst.state['history'].append([self.name, 'null'])\n",
        "        if self.policy is not None:\n",
        "            self.policy.init_session()\n",
        "        if self.nlg is not None:\n",
        "            self.nlg.init_session()\n",
        "        self.history = []\n",
        "\n",
        "    def get_in_da(self):\n",
        "        return self.input_action\n",
        "\n",
        "    def get_out_da(self):\n",
        "        return self.output_action\n"
      ],
      "execution_count": 4,
      "outputs": [
        {
          "output_type": "stream",
          "name": "stdout",
          "text": "\u001b[38;5;2m✔ Download and installation successful\u001b[0m\nYou can now load the model via spacy.load('en_core_web_sm')\n"
        }
      ]
    },
    {
      "cell_type": "markdown",
      "metadata": {},
      "source": [
        "## Step 2.1 pipelined 대화 시스템 예시를 살펴봅시다.\n",
        "\n",
        "우선, system model을 pipelined 대화 시스템으로 구성했을 때, 대화를 어떻게 수행할 수 있는지 살펴봅시다.\n",
        "\n",
        "pipelined 대화 모델은 크게 4가지로 구성되어 있습니다.\n",
        "\n",
        "NLU (Natural Language Understanding (언어 인식 모듈)) : 직전의 상대방 발화를 이해 및 해석 합니다.\n",
        "\n",
        "DST (Dialogue State Tracking (대화 상태 추적 모듈)) : 현재까지 대화의 맥락을 추적하고, 변경 사항을 업데이트 합니다.\n",
        "\n",
        "Dialogue Policy (대화 정책 모듈) : 다음 발화를 위해 구조화된 단어 형태로 정책을 결정 합니다. (자연스러운 문장의 형태가 아닌, 의도만을 결정합니다.)\n",
        "\n",
        "NLG (Natural Language Generation (언어 생성 모듈)) : 결정된 정책을 가지고, 사람이 이해할 수 있는 자연어를 생성합니다.\n",
        "\n",
        "-----------------\n",
        "\n",
        "아래는 가장 기본적인 Pipelined 대화 시스템을 구성한 예시입니다.\n",
        "\n",
        "BERT NLU : 앞선 practice 1에서 다룬 BERT NLU\n",
        "\n",
        "RuleDST : Rule 기반 DST module\n",
        "\n",
        "RulePolicy : Rule 기반 Policy module\n",
        "\n",
        "TemplateNLG : Template 기반 (정해진 템플릿 위에서 단어를 채워넣는 방식) NLG module\n",
        "\n",
        "각 모듈에 대해 정의를 끝마쳤다면, PipelineAgent라는 wrapper 에 씌워 sys_agent를 선언합니다.\n"
      ]
    },
    {
      "cell_type": "code",
      "metadata": {
        "id": "-GPQgUD6GjHv",
        "colab_type": "code",
        "colab": {},
        "tags": []
      },
      "source": [
        "# BERT nlu\n",
        "sys_nlu = BERTNLU()\n",
        "# simple rule DST\n",
        "sys_dst = RuleDST()\n",
        "# rule policy\n",
        "sys_policy = RulePolicy()\n",
        "# template NLG\n",
        "sys_nlg = TemplateNLG(is_user=False)\n",
        "# assemble\n",
        "sys_agent = PipelineAgent(sys_nlu, sys_dst, sys_policy, sys_nlg, name='sys')"
      ],
      "execution_count": 5,
      "outputs": [
        {
          "output_type": "stream",
          "name": "stdout",
          "text": "intent num: 137\ntag num: 331\nLoad from /ext/samsung_dialogue_tutorial/ConvLab-2/convlab2/nlu/jointBERT/multiwoz/output/all_context/pytorch_model.bin\nbert-base-uncased\nBERTNLU loaded\n"
        }
      ]
    },
    {
      "cell_type": "markdown",
      "metadata": {},
      "source": [
        "\n",
        "sys_agent.response(\"user의 발화\", print_nlu=False, print_dst=False, print_pol=False) 를 하면, user의 발화에 대한 응답을 합니다.\n",
        "\n",
        "print_$nlu, dst, pol$을 True로 변경하면, 해당 갑ㅅ을 print 해볼 수 있습니다."
      ]
    },
    {
      "cell_type": "code",
      "metadata": {
        "id": "9LYnDLysH1nX",
        "colab_type": "code",
        "colab": {},
        "tags": []
      },
      "source": [
        "sys_agent.init_session()\n",
        "sys_agent.response(\"I want to find a moderate hotel\", print_nlu=False, print_dst=True, print_pol=False)"
      ],
      "execution_count": 6,
      "outputs": [
        {
          "output_type": "stream",
          "name": "stdout",
          "text": "dialogue state predict\n{'dialogue state': {'attraction': {'book': {'booked': []},\n                                   'semi': {'area': '',\n                                            'name': '',\n                                            'type': ''}},\n                    'hospital': {'book': {'booked': []},\n                                 'semi': {'department': ''}},\n                    'hotel': {'book': {'booked': [],\n                                       'day': '',\n                                       'people': '',\n                                       'stay': ''},\n                              'semi': {'area': '',\n                                       'internet': '',\n                                       'name': '',\n                                       'parking': '',\n                                       'pricerange': 'moderate',\n                                       'stars': '',\n                                       'type': ''}},\n                    'police': {'book': {'booked': []}, 'semi': {}},\n                    'restaurant': {'book': {'booked': [],\n                                            'day': '',\n                                            'people': '',\n                                            'time': ''},\n                                   'semi': {'area': '',\n                                            'food': '',\n                                            'name': '',\n                                            'pricerange': ''}},\n                    'taxi': {'book': {'booked': []},\n                             'semi': {'arriveBy': '',\n                                      'departure': '',\n                                      'destination': '',\n                                      'leaveAt': ''}},\n                    'train': {'book': {'booked': [], 'people': ''},\n                              'semi': {'arriveBy': '',\n                                       'day': '',\n                                       'departure': '',\n                                       'destination': '',\n                                       'leaveAt': ''}}},\n 'history': [['sys', 'null'], ['user', 'I want to find a moderate hotel']]}\n"
        },
        {
          "output_type": "execute_result",
          "data": {
            "text/plain": "'Everyone seems to enjoy the avalon . There are 18 of those .'"
          },
          "metadata": {},
          "execution_count": 6
        }
      ]
    },
    {
      "cell_type": "code",
      "metadata": {
        "id": "dAvi-IzsH474",
        "colab_type": "code",
        "colab": {},
        "tags": []
      },
      "source": [
        "sys_agent.response(\"Which type of hotel is it ?\", print_dst=True)"
      ],
      "execution_count": 7,
      "outputs": [
        {
          "output_type": "stream",
          "name": "stdout",
          "text": "dialogue state predict\n{'dialogue state': {'attraction': {'book': {'booked': []},\n                                   'semi': {'area': '',\n                                            'name': '',\n                                            'type': ''}},\n                    'hospital': {'book': {'booked': []},\n                                 'semi': {'department': ''}},\n                    'hotel': {'book': {'booked': [],\n                                       'day': '',\n                                       'people': '',\n                                       'stay': ''},\n                              'semi': {'area': '',\n                                       'internet': '',\n                                       'name': '',\n                                       'parking': '',\n                                       'pricerange': 'moderate',\n                                       'stars': '',\n                                       'type': ''}},\n                    'police': {'book': {'booked': []}, 'semi': {}},\n                    'restaurant': {'book': {'booked': [],\n                                            'day': '',\n                                            'people': '',\n                                            'time': ''},\n                                   'semi': {'area': '',\n                                            'food': '',\n                                            'name': '',\n                                            'pricerange': ''}},\n                    'taxi': {'book': {'booked': []},\n                             'semi': {'arriveBy': '',\n                                      'departure': '',\n                                      'destination': '',\n                                      'leaveAt': ''}},\n                    'train': {'book': {'booked': [], 'people': ''},\n                              'semi': {'arriveBy': '',\n                                       'day': '',\n                                       'departure': '',\n                                       'destination': '',\n                                       'leaveAt': ''}}},\n 'history': [['sys', 'null'],\n             ['user', 'I want to find a moderate hotel'],\n             ['sys',\n              'Everyone seems to enjoy the avalon . There are 18 of those .'],\n             ['user', 'Which type of hotel is it ?']]}\n"
        },
        {
          "output_type": "execute_result",
          "data": {
            "text/plain": "'It is a guesthouse .'"
          },
          "metadata": {},
          "execution_count": 7
        }
      ]
    },
    {
      "cell_type": "code",
      "metadata": {
        "id": "f0A6Pt4tH60c",
        "colab_type": "code",
        "colab": {}
      },
      "source": [
        "sys_agent.response(\"OK , where is its address ?\")"
      ],
      "execution_count": 8,
      "outputs": [
        {
          "output_type": "execute_result",
          "data": {
            "text/plain": "'The address is 124 tenison road .'"
          },
          "metadata": {},
          "execution_count": 8
        }
      ]
    },
    {
      "cell_type": "code",
      "metadata": {
        "id": "8VH6yO6PH8Ua",
        "colab_type": "code",
        "colab": {}
      },
      "source": [
        "sys_agent.response(\"Thank you !\")"
      ],
      "execution_count": 9,
      "outputs": [
        {
          "output_type": "execute_result",
          "data": {
            "text/plain": "'You are welcome.'"
          },
          "metadata": {},
          "execution_count": 9
        }
      ]
    },
    {
      "cell_type": "code",
      "metadata": {
        "id": "wto-PxgNH9gp",
        "colab_type": "code",
        "colab": {}
      },
      "source": [
        "sys_agent.response(\"Try to find me a Chinese restaurant in south area .\")"
      ],
      "execution_count": 10,
      "outputs": [
        {
          "output_type": "execute_result",
          "data": {
            "text/plain": "'The good luck chinese food takeaway has some great reviews . There are 3 available restaurants .'"
          },
          "metadata": {},
          "execution_count": 10
        }
      ]
    },
    {
      "cell_type": "code",
      "metadata": {
        "id": "MJ9C1ZhbH_JY",
        "colab_type": "code",
        "colab": {}
      },
      "source": [
        "sys_agent.response(\"Which kind of food it provides ?\")"
      ],
      "execution_count": 11,
      "outputs": [
        {
          "output_type": "execute_result",
          "data": {
            "text/plain": "'They serve chinese .'"
          },
          "metadata": {},
          "execution_count": 11
        }
      ]
    },
    {
      "cell_type": "code",
      "metadata": {
        "id": "DpaQNA_HIAmT",
        "colab_type": "code",
        "colab": {}
      },
      "source": [
        "sys_agent.response(\"Book a table for 5 , this Sunday .\")"
      ],
      "execution_count": 12,
      "outputs": [
        {
          "output_type": "execute_result",
          "data": {
            "text/plain": "'Here is the booking information : Booking was successful . Reference number is : 00000003.'"
          },
          "metadata": {},
          "execution_count": 12
        }
      ]
    },
    {
      "cell_type": "markdown",
      "metadata": {
        "id": "n6uuuRonIHvW",
        "colab_type": "text"
      },
      "source": [
        "## Step 2.2 system agent와 대화할 user simulator를 구성해봅시다.\n",
        "\n",
        "system model의 성능을 알아보기 위해서는 user 역할을 할 수 있는 user simulator가 필요합니다. 사람이 매번 user의 역할을 해 대화를 주고 받는 것은 많은 노동력을 필요로 하기 때문입니다. 특히, Dialog Policy를 RL agent로 두었을 때, 다양한 대화 시도를 위해서 user simulator 는 필수적입니다.\n",
        "\n",
        "ConvLab에서는 RulePolicy(character='usr')로 두었을 때, `Agenda` policy로 변환되며, 이는 user의 goal을 기반으로 하는 user model을 정의할 수 있습니다. 또한, `Agenda` policy는 dst 모델까지 같이 포함하고 있기 때문에 `uesr_dst = None` 이 됩니다.\n"
      ]
    },
    {
      "cell_type": "code",
      "metadata": {
        "id": "pAMAJZSF7D5w",
        "colab_type": "code",
        "colab": {},
        "tags": []
      },
      "source": [
        "# MILU\n",
        "user_nlu = BERTNLU()\n",
        "# not use dst\n",
        "user_dst = None\n",
        "# rule policy\n",
        "user_policy = RulePolicy(character='usr')   # UserPolicyAgendaMultiWoz()\n",
        "# template NLG\n",
        "user_nlg = TemplateNLG(is_user=True)\n",
        "# user_nlg = SCLSTM(is_user=True)\n",
        "# assemble\n",
        "user_agent = PipelineAgent(user_nlu, user_dst, user_policy, user_nlg, name='user')"
      ],
      "execution_count": 13,
      "outputs": [
        {
          "output_type": "stream",
          "name": "stdout",
          "text": "intent num: 137\ntag num: 331\nLoad from /ext/samsung_dialogue_tutorial/ConvLab-2/convlab2/nlu/jointBERT/multiwoz/output/all_context/pytorch_model.bin\nbert-base-uncased\nBERTNLU loaded\nLoading goal model is done\n"
        }
      ]
    },
    {
      "cell_type": "markdown",
      "metadata": {
        "id": "Rghl-V2AJhRY",
        "colab_type": "text"
      },
      "source": [
        "## Step 2.3 user simulator 와 system model 간 대화를 수행해봅시다.\n",
        "\n",
        "지금까지, 우리는 user simulator와 system model을 정의 했습니다.\n",
        "\n",
        "`MultiWozEvaluator` 클래스는 성능을 평가하기 위해 사용됩니다.\n",
        "\n",
        "`BiSession` 클래스는 user simulator와 system model의 대화 및 평가를 도와줍니다.\n",
        "\n",
        "We add `MultiWozEvaluator` to evaluate the performance. It uses the parsed dialog act input and policy output dialog act to calculate **inform f1**, **book rate**, and whether the task is **success**."
      ]
    },
    {
      "cell_type": "code",
      "metadata": {
        "id": "saUoLUUGJqDa",
        "colab_type": "code",
        "colab": {}
      },
      "source": [
        "evaluator = MultiWozEvaluator()\n",
        "sess = BiSession(sys_agent=sys_agent, user_agent=user_agent, kb_query=None, evaluator=evaluator)"
      ],
      "execution_count": 14,
      "outputs": []
    },
    {
      "cell_type": "markdown",
      "metadata": {
        "id": "kevGJZhFJzTU",
        "colab_type": "text"
      },
      "source": [
        "Let's make this two agents chat! The key is `next_turn` method of `BiSession` class."
      ]
    },
    {
      "cell_type": "code",
      "metadata": {
        "id": "FIV_qkE49LzE",
        "colab_type": "code",
        "colab": {},
        "tags": []
      },
      "source": [
        "def set_seed(r_seed):\n",
        "    random.seed(r_seed)\n",
        "    np.random.seed(r_seed)\n",
        "    torch.manual_seed(r_seed)\n",
        "\n",
        "set_seed(20200804)\n",
        "\n",
        "sys_response = ''\n",
        "sess.init_session()\n",
        "print('init goal:')\n",
        "pprint(sess.evaluator.goal)\n",
        "print('-'*100)\n",
        "for i in range(20):\n",
        "    sys_response, user_response, session_over, reward = sess.next_turn(sys_response)\n",
        "    print('user:', user_response)\n",
        "    print('sys:', sys_response)\n",
        "    print()\n",
        "    if session_over is True:\n",
        "        break\n",
        "print('task success:', sess.evaluator.task_success())\n",
        "print('book rate:', sess.evaluator.book_rate())\n",
        "print('inform precision/recall/f1:', sess.evaluator.inform_F1())\n",
        "print('-'*50)\n",
        "print('final goal:')\n",
        "pprint(sess.evaluator.goal)\n",
        "print('='*100)"
      ],
      "execution_count": 15,
      "outputs": [
        {
          "output_type": "stream",
          "name": "stdout",
          "text": "init goal:\n{'attraction': {'info': {'area': 'centre', 'type': 'museum'},\n                'reqt': {'address': '?', 'phone': '?'}},\n 'train': {'info': {'arriveBy': '08:30',\n                    'day': 'monday',\n                    'departure': 'cambridge',\n                    'destination': 'peterborough'},\n           'reqt': {'price': '?', 'trainID': '?'}}}\n----------------------------------------------------------------------------------------------------\nuser: I also need a train. I need some information on a train going to peterborough . I would like to leave on monday. I 'd like to arrive by 08:30 .\nsys: Where are you departing from ?\n\nuser: I ' m also looking for a train from cambridge .\nsys: Would you like me to book the 08:30 train ? I can book your tickets for monday . Woudl you like me to book a train to peterborough for you ? Woudl you like me to book a train from cambridge for you ?\n\nuser: I just need to know the id . I do not need to book it . Can you tell me the price ?\nsys: It would cost 16.50 pounds .\n\nuser: What is the train ID ?\nsys: TR3284 would be your perfect fit .\n\nuser: Hi , I am planning a trip and need some help with a particular attraction . How about a museum ? I ' m looking for some attractions in the centre .\nsys: Would you like broughton house gallery ? It 's located at 98 king street . Sure , there are 11 for you to choose from .\n\nuser: I need the phone number as well .\nsys: Here is the phone number , 01223314960 .\n\nuser: You were great . Goodbye .\nsys: Thank you for using our services .\n\ntask success: 1\nbook rate: None\ninform precision/recall/f1: (1.0, 1.0, 1.0)\n--------------------------------------------------\nfinal goal:\n{'attraction': {'info': {'area': 'centre', 'type': 'museum'},\n                'reqt': {'address': '98 king street', 'phone': '01223314960'}},\n 'train': {'info': {'arriveBy': '08:30',\n                    'day': 'monday',\n                    'departure': 'cambridge',\n                    'destination': 'peterborough'},\n           'reqt': {'price': '16.50 pounds', 'trainID': 'TR3284'}}}\n====================================================================================================\n"
        }
      ]
    },
    {
      "cell_type": "markdown",
      "metadata": {
        "id": "CKOQs1l8LpTR",
        "colab_type": "text"
      },
      "source": [
        "## Try different module combinations\n",
        "\n",
        "The combination modes of pipeline agent modules are flexible. We support joint models such as MDBT, TRADE, SUMBT for word-DST and MDRG, HDSA, LaRL for word-Policy, once the input and output are matched with previous and next module. We also support End2End models such as Sequicity.\n",
        "\n",
        "Available models:\n",
        "\n",
        "- NLU: BERTNLU, MILU, SVMNLU\n",
        "- DST: RuleDST\n",
        "- Word-DST: SUMBT, TRADE, MDBT (set `sys_nlu` to `None`)\n",
        "- Policy: RulePolicy, Imitation, REINFORCE, PPO, GDPL\n",
        "- Word-Policy: MDRG, HDSA, LaRL (set `sys_nlg` to `None`)\n",
        "- NLG: Template, SCLSTM\n",
        "- End2End: Sequicity, DAMD, RNN_rollout (directly used as `sys_agent`)\n",
        "- Simulator policy: Agenda, VHUS (for `user_policy`)\n"
      ]
    },
    {
      "cell_type": "code",
      "metadata": {
        "id": "G-9G0VYUNYOI",
        "colab_type": "code",
        "colab": {},
        "tags": []
      },
      "source": [
        "# available NLU models\n",
        "from convlab2.nlu.svm.multiwoz import SVMNLU\n",
        "from convlab2.nlu.jointBERT.multiwoz import BERTNLU\n",
        "from convlab2.nlu.milu.multiwoz import MILU\n",
        "# available DST models\n",
        "from convlab2.dst.rule.multiwoz import RuleDST\n",
        "from convlab2.dst.mdbt.multiwoz import MDBT\n",
        "from convlab2.dst.sumbt.multiwoz import SUMBT\n",
        "from convlab2.dst.trade.multiwoz import TRADE\n",
        "# available Policy models\n",
        "from convlab2.policy.rule.multiwoz import RulePolicy\n",
        "from convlab2.policy.ppo.multiwoz import PPOPolicy\n",
        "from convlab2.policy.pg.multiwoz import PGPolicy\n",
        "from convlab2.policy.mle.multiwoz import MLEPolicy\n",
        "from convlab2.policy.gdpl.multiwoz import GDPLPolicy\n",
        "from convlab2.policy.vhus.multiwoz import UserPolicyVHUS\n",
        "from convlab2.policy.mdrg.multiwoz import MDRGWordPolicy\n",
        "from convlab2.policy.hdsa.multiwoz import HDSA\n",
        "from convlab2.policy.larl.multiwoz import LaRL\n",
        "# available NLG models\n",
        "from convlab2.nlg.template.multiwoz import TemplateNLG\n",
        "from convlab2.nlg.sclstm.multiwoz import SCLSTM\n",
        "# available E2E models\n",
        "from convlab2.e2e.sequicity.multiwoz import Sequicity\n",
        "from convlab2.e2e.damd.multiwoz import Damd"
      ],
      "execution_count": 16,
      "outputs": [
        {
          "output_type": "stream",
          "name": "stdout",
          "text": "WARNING:tensorflow:From /ext/samsung_dialogue_tutorial/ConvLab-2/convlab2/dst/mdbt/mdbt_util.py:62: The name tf.nn.rnn_cell.RNNCell is deprecated. Please use tf.compat.v1.nn.rnn_cell.RNNCell instead.\n\n[nltk_data] Downloading package stopwords to /home/jglee/nltk_data...\n[nltk_data]   Package stopwords is already up-to-date!\n"
        }
      ]
    },
    {
      "cell_type": "markdown",
      "metadata": {
        "id": "6TS2_Tp1Nzvq",
        "colab_type": "text"
      },
      "source": [
        "NLU+RuleDST or Word-DST:"
      ]
    },
    {
      "cell_type": "code",
      "metadata": {
        "id": "DZMk9wAlONrz",
        "colab_type": "code",
        "colab": {},
        "tags": []
      },
      "source": [
        "# NLU+RuleDST:\n",
        "sys_nlu = BERTNLU()\n",
        "# sys_nlu = MILU()\n",
        "# sys_nlu = SVMNLU()\n",
        "sys_dst = RuleDST()\n",
        "\n",
        "# or Word-DST:\n",
        "# sys_nlu = None\n",
        "# sys_dst = SUMBT()\n",
        "# sys_dst = TRADE()\n",
        "# sys_dst = MDBT()"
      ],
      "execution_count": 17,
      "outputs": [
        {
          "output_type": "stream",
          "name": "stdout",
          "text": "intent num: 137\ntag num: 331\nLoad from /ext/samsung_dialogue_tutorial/ConvLab-2/convlab2/nlu/jointBERT/multiwoz/output/all_context/pytorch_model.bin\nbert-base-uncased\nBERTNLU loaded\n"
        }
      ]
    },
    {
      "cell_type": "markdown",
      "metadata": {
        "id": "gUUYsDMJPJRl",
        "colab_type": "text"
      },
      "source": [
        "Policy+NLG or Word-Policy:"
      ]
    },
    {
      "cell_type": "code",
      "metadata": {
        "id": "PTJ95x9UPHt4",
        "colab_type": "code",
        "colab": {},
        "tags": []
      },
      "source": [
        "# Policy+NLG:\n",
        "sys_policy = RulePolicy()\n",
        "# sys_policy = PPOPolicy()\n",
        "# sys_policy = PGPolicy()\n",
        "# sys_policy = MLEPolicy()\n",
        "# sys_policy = GDPLPolicy()\n",
        "sys_nlg = TemplateNLG(is_user=False)\n",
        "# sys_nlg = SCLSTM(is_user=False)\n",
        "\n",
        "# or Word-Policy:\n",
        "# sys_policy = LaRL()\n",
        "# sys_policy = HDSA()\n",
        "# sys_policy = MDRGWordPolicy()\n",
        "# sys_nlg = None"
      ],
      "execution_count": 18,
      "outputs": []
    },
    {
      "cell_type": "markdown",
      "metadata": {
        "id": "s9lGIv0oPupn",
        "colab_type": "text"
      },
      "source": [
        "Assemble the Pipeline system agent:"
      ]
    },
    {
      "cell_type": "code",
      "metadata": {
        "id": "IvLx7HUkPyZ5",
        "colab_type": "code",
        "colab": {}
      },
      "source": [
        "sys_agent = PipelineAgent(sys_nlu, sys_dst, sys_policy, sys_nlg, 'sys')"
      ],
      "execution_count": 19,
      "outputs": []
    },
    {
      "cell_type": "markdown",
      "metadata": {
        "id": "hR4A8WbZP2lc",
        "colab_type": "text"
      },
      "source": [
        "Or Directly use an end-to-end model:"
      ]
    },
    {
      "cell_type": "code",
      "metadata": {
        "id": "8VdUmcxoP6ej",
        "colab_type": "code",
        "colab": {}
      },
      "source": [
        "# sys_agent = Sequicity()\n",
        "# sys_agent = Damd()"
      ],
      "execution_count": 20,
      "outputs": []
    },
    {
      "cell_type": "markdown",
      "metadata": {
        "id": "_v-eoBtnP9J9",
        "colab_type": "text"
      },
      "source": [
        "Config an user agent similarly:"
      ]
    },
    {
      "cell_type": "code",
      "metadata": {
        "id": "UkHpjvR5QezN",
        "colab_type": "code",
        "colab": {},
        "tags": []
      },
      "source": [
        "user_nlu = BERTNLU()\n",
        "# user_nlu = MILU()\n",
        "# user_nlu = SVMNLU()\n",
        "user_dst = None\n",
        "user_policy = RulePolicy(character='usr')\n",
        "# user_policy = UserPolicyVHUS(load_from_zip=True)\n",
        "user_nlg = TemplateNLG(is_user=True)\n",
        "# user_nlg = SCLSTM(is_user=True)\n",
        "user_agent = PipelineAgent(user_nlu, user_dst, user_policy, user_nlg, name='user')"
      ],
      "execution_count": 21,
      "outputs": [
        {
          "output_type": "stream",
          "name": "stdout",
          "text": "intent num: 137\ntag num: 331\nLoad from /ext/samsung_dialogue_tutorial/ConvLab-2/convlab2/nlu/jointBERT/multiwoz/output/all_context/pytorch_model.bin\nbert-base-uncased\nBERTNLU loaded\nLoading goal model is done\n"
        }
      ]
    },
    {
      "cell_type": "markdown",
      "metadata": {
        "id": "VJTBxEDhSAqc",
        "colab_type": "text"
      },
      "source": [
        "## Use analysis tool to diagnose the system\n",
        "We provide an analysis tool presents rich statistics and summarizes common mistakes from simulated dialogues, which facilitates error analysis and\n",
        "system improvement. The analyzer will generate an HTML report which contains\n",
        "rich statistics of simulated dialogues. For more information, please refer to `convlab2/util/analysis_tool`."
      ]
    },
    {
      "cell_type": "code",
      "metadata": {
        "id": "Hu2q3lQiSMDy",
        "colab_type": "code",
        "colab": {},
        "tags": []
      },
      "source": [
        "from convlab2.util.analysis_tool.analyzer import Analyzer\n",
        "\n",
        "# if sys_nlu!=None, set use_nlu=True to collect more information\n",
        "analyzer = Analyzer(user_agent=user_agent, dataset='multiwoz')\n",
        "\n",
        "set_seed(20200131)\n",
        "analyzer.comprehensive_analyze(sys_agent=sys_agent, model_name='sys_agent', total_dialog=20)"
      ],
      "execution_count": 22,
      "outputs": [
        {
          "output_type": "stream",
          "name": "stderr",
          "text": "dialogue: 100%|██████████| 20/20 [00:13<00:00,  1.44it/s]\n====================================================================================================\ncomplete number of dialogs/tot: 0.75\nsuccess number of dialogs/tot: 0.65\naverage precision: 0.7935714285714286\naverage recall: 0.8508333333333334\naverage f1: 0.813728354978355\naverage book rate: 0.9761904761904762\naverage turn (succ): 13.846153846153847\naverage turn (all): 18.9\n====================================================================================================\n"
        },
        {
          "output_type": "execute_result",
          "data": {
            "text/plain": "(0.75,\n 0.65,\n 0.7935714285714286,\n 0.8508333333333334,\n 0.813728354978355,\n 0.9761904761904762,\n 18.9)"
          },
          "metadata": {},
          "execution_count": 22
        }
      ]
    },
    {
      "cell_type": "markdown",
      "metadata": {
        "id": "AB-mDm0plQWd",
        "colab_type": "text"
      },
      "source": [
        "To compare several models:"
      ]
    },
    {
      "cell_type": "code",
      "metadata": {
        "id": "GKe_DNJUlWzh",
        "colab_type": "code",
        "colab": {},
        "tags": []
      },
      "source": [
        "set_seed(20200131)\n",
        "analyzer.compare_models(agent_list=[sys_agent, sys_agent], model_name=['sys_agent1', 'sys_agent2'], total_dialog=20)"
      ],
      "execution_count": 23,
      "outputs": [
        {
          "output_type": "stream",
          "name": "stderr",
          "text": "dialogue: 100%|██████████| 20/20 [00:12<00:00,  1.66it/s]\n====================================================================================================\ncomplete number of dialogs/tot: 0.85\nsuccess number of dialogs/tot: 0.75\naverage precision: 0.6854166666666667\naverage recall: 0.8854166666666666\naverage f1: 0.7421626984126984\naverage book rate: 0.975\naverage turn (succ): 11.6\naverage turn (all): 16.4\n====================================================================================================\ndialogue: 100%|██████████| 20/20 [00:11<00:00,  1.68it/s]\n====================================================================================================\ncomplete number of dialogs/tot: 0.85\nsuccess number of dialogs/tot: 0.75\naverage precision: 0.6854166666666667\naverage recall: 0.8854166666666666\naverage f1: 0.7421626984126984\naverage book rate: 0.975\naverage turn (succ): 11.6\naverage turn (all): 16.4\n====================================================================================================\n"
        }
      ]
    }
  ]
}